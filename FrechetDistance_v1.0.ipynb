{
 "cells": [
  {
   "cell_type": "code",
   "execution_count": 1,
   "metadata": {
    "collapsed": false
   },
   "outputs": [],
   "source": [
    "import os\n",
    "import pandas as pd\n",
    "import numpy as np\n",
    "#from Tkinter import *\n",
    "#import tkSnack\n",
    "#root = Tk()\n",
    "#tkSnack.initializeSnack(root)\n",
    "\n",
    "import matplotlib.pyplot as plt\n",
    "%matplotlib notebook"
   ]
  },
  {
   "cell_type": "code",
   "execution_count": 2,
   "metadata": {
    "collapsed": false,
    "scrolled": true
   },
   "outputs": [],
   "source": [
    "path = \"c:/Python27/qp2_py/frechet_distance/current_results/\"\n",
    "allFiles = os.listdir(path)\n",
    "for name in allFiles:\n",
    "    fname = path+name\n",
    "    distances = pd.read_csv(fname, sep=\"_\", header=None)\n",
    "#print distances"
   ]
  },
  {
   "cell_type": "code",
   "execution_count": null,
   "metadata": {
    "collapsed": true
   },
   "outputs": [],
   "source": []
  },
  {
   "cell_type": "code",
   "execution_count": 3,
   "metadata": {
    "collapsed": false
   },
   "outputs": [],
   "source": [
    "distances.columns= [\"speakerID\", \"speakerIPU\", \"comp_speaker\", \"comp_speakerIPU\",\"frechetdistance\"]"
   ]
  },
  {
   "cell_type": "code",
   "execution_count": null,
   "metadata": {
    "collapsed": true
   },
   "outputs": [],
   "source": [
    "distances"
   ]
  },
  {
   "cell_type": "markdown",
   "metadata": {},
   "source": [
    "### Divide the dataframe in half or so"
   ]
  },
  {
   "cell_type": "code",
   "execution_count": 6,
   "metadata": {
    "collapsed": true
   },
   "outputs": [],
   "source": [
    "split = 10\n",
    "distances_test = distances[distances[\"speakerID\"]< split]\n",
    "distances_train = distances[distances[\"speakerID\"]>=split]"
   ]
  },
  {
   "cell_type": "code",
   "execution_count": 5,
   "metadata": {
    "collapsed": true
   },
   "outputs": [
    {
     "data": {
      "text/html": [
       "<div>\n",
       "<table border=\"1\" class=\"dataframe\">\n",
       "  <thead>\n",
       "    <tr style=\"text-align: right;\">\n",
       "      <th></th>\n",
       "      <th>speakerID</th>\n",
       "      <th>speakerIPU</th>\n",
       "      <th>comp_speaker</th>\n",
       "      <th>comp_speakerIPU</th>\n",
       "      <th>frechetdistance</th>\n",
       "    </tr>\n",
       "  </thead>\n",
       "  <tbody>\n",
       "    <tr>\n",
       "      <th>0</th>\n",
       "      <td>0</td>\n",
       "      <td>0</td>\n",
       "      <td>1</td>\n",
       "      <td>0</td>\n",
       "      <td>65.249969</td>\n",
       "    </tr>\n",
       "    <tr>\n",
       "      <th>1</th>\n",
       "      <td>0</td>\n",
       "      <td>0</td>\n",
       "      <td>1</td>\n",
       "      <td>1</td>\n",
       "      <td>66.515404</td>\n",
       "    </tr>\n",
       "    <tr>\n",
       "      <th>2</th>\n",
       "      <td>0</td>\n",
       "      <td>0</td>\n",
       "      <td>1</td>\n",
       "      <td>2</td>\n",
       "      <td>274.112701</td>\n",
       "    </tr>\n",
       "    <tr>\n",
       "      <th>3</th>\n",
       "      <td>0</td>\n",
       "      <td>0</td>\n",
       "      <td>1</td>\n",
       "      <td>3</td>\n",
       "      <td>84.120514</td>\n",
       "    </tr>\n",
       "    <tr>\n",
       "      <th>4</th>\n",
       "      <td>0</td>\n",
       "      <td>0</td>\n",
       "      <td>1</td>\n",
       "      <td>4</td>\n",
       "      <td>157.210114</td>\n",
       "    </tr>\n",
       "    <tr>\n",
       "      <th>5</th>\n",
       "      <td>0</td>\n",
       "      <td>0</td>\n",
       "      <td>1</td>\n",
       "      <td>5</td>\n",
       "      <td>79.410965</td>\n",
       "    </tr>\n",
       "    <tr>\n",
       "      <th>6</th>\n",
       "      <td>0</td>\n",
       "      <td>0</td>\n",
       "      <td>1</td>\n",
       "      <td>6</td>\n",
       "      <td>66.920204</td>\n",
       "    </tr>\n",
       "    <tr>\n",
       "      <th>7</th>\n",
       "      <td>0</td>\n",
       "      <td>0</td>\n",
       "      <td>1</td>\n",
       "      <td>7</td>\n",
       "      <td>129.865005</td>\n",
       "    </tr>\n",
       "    <tr>\n",
       "      <th>8</th>\n",
       "      <td>0</td>\n",
       "      <td>0</td>\n",
       "      <td>1</td>\n",
       "      <td>8</td>\n",
       "      <td>87.305168</td>\n",
       "    </tr>\n",
       "    <tr>\n",
       "      <th>9</th>\n",
       "      <td>0</td>\n",
       "      <td>0</td>\n",
       "      <td>1</td>\n",
       "      <td>9</td>\n",
       "      <td>70.002014</td>\n",
       "    </tr>\n",
       "    <tr>\n",
       "      <th>10</th>\n",
       "      <td>0</td>\n",
       "      <td>0</td>\n",
       "      <td>1</td>\n",
       "      <td>10</td>\n",
       "      <td>121.547394</td>\n",
       "    </tr>\n",
       "    <tr>\n",
       "      <th>11</th>\n",
       "      <td>0</td>\n",
       "      <td>0</td>\n",
       "      <td>1</td>\n",
       "      <td>11</td>\n",
       "      <td>133.760040</td>\n",
       "    </tr>\n",
       "    <tr>\n",
       "      <th>12</th>\n",
       "      <td>0</td>\n",
       "      <td>0</td>\n",
       "      <td>1</td>\n",
       "      <td>12</td>\n",
       "      <td>70.600319</td>\n",
       "    </tr>\n",
       "    <tr>\n",
       "      <th>13</th>\n",
       "      <td>0</td>\n",
       "      <td>0</td>\n",
       "      <td>1</td>\n",
       "      <td>13</td>\n",
       "      <td>116.680733</td>\n",
       "    </tr>\n",
       "    <tr>\n",
       "      <th>14</th>\n",
       "      <td>0</td>\n",
       "      <td>0</td>\n",
       "      <td>1</td>\n",
       "      <td>14</td>\n",
       "      <td>88.052719</td>\n",
       "    </tr>\n",
       "    <tr>\n",
       "      <th>15</th>\n",
       "      <td>0</td>\n",
       "      <td>0</td>\n",
       "      <td>1</td>\n",
       "      <td>15</td>\n",
       "      <td>31.481182</td>\n",
       "    </tr>\n",
       "    <tr>\n",
       "      <th>16</th>\n",
       "      <td>0</td>\n",
       "      <td>0</td>\n",
       "      <td>1</td>\n",
       "      <td>16</td>\n",
       "      <td>87.957268</td>\n",
       "    </tr>\n",
       "    <tr>\n",
       "      <th>17</th>\n",
       "      <td>0</td>\n",
       "      <td>0</td>\n",
       "      <td>1</td>\n",
       "      <td>17</td>\n",
       "      <td>89.296844</td>\n",
       "    </tr>\n",
       "    <tr>\n",
       "      <th>18</th>\n",
       "      <td>0</td>\n",
       "      <td>0</td>\n",
       "      <td>1</td>\n",
       "      <td>18</td>\n",
       "      <td>56.891933</td>\n",
       "    </tr>\n",
       "    <tr>\n",
       "      <th>19</th>\n",
       "      <td>0</td>\n",
       "      <td>0</td>\n",
       "      <td>1</td>\n",
       "      <td>19</td>\n",
       "      <td>353.062225</td>\n",
       "    </tr>\n",
       "    <tr>\n",
       "      <th>20</th>\n",
       "      <td>0</td>\n",
       "      <td>0</td>\n",
       "      <td>1</td>\n",
       "      <td>20</td>\n",
       "      <td>109.890099</td>\n",
       "    </tr>\n",
       "    <tr>\n",
       "      <th>21</th>\n",
       "      <td>0</td>\n",
       "      <td>0</td>\n",
       "      <td>1</td>\n",
       "      <td>21</td>\n",
       "      <td>68.659462</td>\n",
       "    </tr>\n",
       "    <tr>\n",
       "      <th>22</th>\n",
       "      <td>0</td>\n",
       "      <td>0</td>\n",
       "      <td>1</td>\n",
       "      <td>22</td>\n",
       "      <td>83.948578</td>\n",
       "    </tr>\n",
       "    <tr>\n",
       "      <th>23</th>\n",
       "      <td>0</td>\n",
       "      <td>0</td>\n",
       "      <td>1</td>\n",
       "      <td>23</td>\n",
       "      <td>88.865791</td>\n",
       "    </tr>\n",
       "    <tr>\n",
       "      <th>24</th>\n",
       "      <td>0</td>\n",
       "      <td>0</td>\n",
       "      <td>1</td>\n",
       "      <td>24</td>\n",
       "      <td>37.910965</td>\n",
       "    </tr>\n",
       "    <tr>\n",
       "      <th>25</th>\n",
       "      <td>0</td>\n",
       "      <td>0</td>\n",
       "      <td>1</td>\n",
       "      <td>25</td>\n",
       "      <td>77.620163</td>\n",
       "    </tr>\n",
       "    <tr>\n",
       "      <th>26</th>\n",
       "      <td>0</td>\n",
       "      <td>0</td>\n",
       "      <td>1</td>\n",
       "      <td>26</td>\n",
       "      <td>67.401115</td>\n",
       "    </tr>\n",
       "    <tr>\n",
       "      <th>27</th>\n",
       "      <td>0</td>\n",
       "      <td>0</td>\n",
       "      <td>1</td>\n",
       "      <td>27</td>\n",
       "      <td>25.594454</td>\n",
       "    </tr>\n",
       "    <tr>\n",
       "      <th>28</th>\n",
       "      <td>0</td>\n",
       "      <td>0</td>\n",
       "      <td>1</td>\n",
       "      <td>28</td>\n",
       "      <td>120.141197</td>\n",
       "    </tr>\n",
       "    <tr>\n",
       "      <th>29</th>\n",
       "      <td>0</td>\n",
       "      <td>0</td>\n",
       "      <td>1</td>\n",
       "      <td>29</td>\n",
       "      <td>75.341499</td>\n",
       "    </tr>\n",
       "    <tr>\n",
       "      <th>...</th>\n",
       "      <td>...</td>\n",
       "      <td>...</td>\n",
       "      <td>...</td>\n",
       "      <td>...</td>\n",
       "      <td>...</td>\n",
       "    </tr>\n",
       "    <tr>\n",
       "      <th>227374</th>\n",
       "      <td>9</td>\n",
       "      <td>0</td>\n",
       "      <td>39</td>\n",
       "      <td>37</td>\n",
       "      <td>194.700104</td>\n",
       "    </tr>\n",
       "    <tr>\n",
       "      <th>227375</th>\n",
       "      <td>9</td>\n",
       "      <td>0</td>\n",
       "      <td>39</td>\n",
       "      <td>38</td>\n",
       "      <td>194.702362</td>\n",
       "    </tr>\n",
       "    <tr>\n",
       "      <th>227376</th>\n",
       "      <td>9</td>\n",
       "      <td>0</td>\n",
       "      <td>39</td>\n",
       "      <td>39</td>\n",
       "      <td>194.705627</td>\n",
       "    </tr>\n",
       "    <tr>\n",
       "      <th>227377</th>\n",
       "      <td>9</td>\n",
       "      <td>0</td>\n",
       "      <td>39</td>\n",
       "      <td>40</td>\n",
       "      <td>194.701599</td>\n",
       "    </tr>\n",
       "    <tr>\n",
       "      <th>227378</th>\n",
       "      <td>9</td>\n",
       "      <td>0</td>\n",
       "      <td>39</td>\n",
       "      <td>41</td>\n",
       "      <td>123.886040</td>\n",
       "    </tr>\n",
       "    <tr>\n",
       "      <th>227379</th>\n",
       "      <td>9</td>\n",
       "      <td>0</td>\n",
       "      <td>39</td>\n",
       "      <td>42</td>\n",
       "      <td>194.700027</td>\n",
       "    </tr>\n",
       "    <tr>\n",
       "      <th>227380</th>\n",
       "      <td>9</td>\n",
       "      <td>0</td>\n",
       "      <td>39</td>\n",
       "      <td>43</td>\n",
       "      <td>194.700043</td>\n",
       "    </tr>\n",
       "    <tr>\n",
       "      <th>227381</th>\n",
       "      <td>9</td>\n",
       "      <td>0</td>\n",
       "      <td>39</td>\n",
       "      <td>44</td>\n",
       "      <td>128.651855</td>\n",
       "    </tr>\n",
       "    <tr>\n",
       "      <th>227382</th>\n",
       "      <td>9</td>\n",
       "      <td>0</td>\n",
       "      <td>39</td>\n",
       "      <td>45</td>\n",
       "      <td>194.702896</td>\n",
       "    </tr>\n",
       "    <tr>\n",
       "      <th>227383</th>\n",
       "      <td>9</td>\n",
       "      <td>0</td>\n",
       "      <td>39</td>\n",
       "      <td>46</td>\n",
       "      <td>194.700577</td>\n",
       "    </tr>\n",
       "    <tr>\n",
       "      <th>227384</th>\n",
       "      <td>9</td>\n",
       "      <td>0</td>\n",
       "      <td>39</td>\n",
       "      <td>47</td>\n",
       "      <td>194.703003</td>\n",
       "    </tr>\n",
       "    <tr>\n",
       "      <th>227385</th>\n",
       "      <td>9</td>\n",
       "      <td>0</td>\n",
       "      <td>39</td>\n",
       "      <td>48</td>\n",
       "      <td>194.702667</td>\n",
       "    </tr>\n",
       "    <tr>\n",
       "      <th>227386</th>\n",
       "      <td>9</td>\n",
       "      <td>0</td>\n",
       "      <td>39</td>\n",
       "      <td>49</td>\n",
       "      <td>194.701050</td>\n",
       "    </tr>\n",
       "    <tr>\n",
       "      <th>227387</th>\n",
       "      <td>9</td>\n",
       "      <td>0</td>\n",
       "      <td>39</td>\n",
       "      <td>50</td>\n",
       "      <td>194.700256</td>\n",
       "    </tr>\n",
       "    <tr>\n",
       "      <th>227388</th>\n",
       "      <td>9</td>\n",
       "      <td>0</td>\n",
       "      <td>39</td>\n",
       "      <td>51</td>\n",
       "      <td>194.715530</td>\n",
       "    </tr>\n",
       "    <tr>\n",
       "      <th>227389</th>\n",
       "      <td>9</td>\n",
       "      <td>0</td>\n",
       "      <td>39</td>\n",
       "      <td>52</td>\n",
       "      <td>194.700058</td>\n",
       "    </tr>\n",
       "    <tr>\n",
       "      <th>227390</th>\n",
       "      <td>9</td>\n",
       "      <td>0</td>\n",
       "      <td>39</td>\n",
       "      <td>53</td>\n",
       "      <td>194.701050</td>\n",
       "    </tr>\n",
       "    <tr>\n",
       "      <th>227391</th>\n",
       "      <td>9</td>\n",
       "      <td>0</td>\n",
       "      <td>39</td>\n",
       "      <td>54</td>\n",
       "      <td>194.700668</td>\n",
       "    </tr>\n",
       "    <tr>\n",
       "      <th>227392</th>\n",
       "      <td>9</td>\n",
       "      <td>0</td>\n",
       "      <td>39</td>\n",
       "      <td>55</td>\n",
       "      <td>194.703003</td>\n",
       "    </tr>\n",
       "    <tr>\n",
       "      <th>227393</th>\n",
       "      <td>9</td>\n",
       "      <td>0</td>\n",
       "      <td>39</td>\n",
       "      <td>56</td>\n",
       "      <td>194.700073</td>\n",
       "    </tr>\n",
       "    <tr>\n",
       "      <th>227394</th>\n",
       "      <td>9</td>\n",
       "      <td>0</td>\n",
       "      <td>39</td>\n",
       "      <td>57</td>\n",
       "      <td>194.700317</td>\n",
       "    </tr>\n",
       "    <tr>\n",
       "      <th>227395</th>\n",
       "      <td>9</td>\n",
       "      <td>0</td>\n",
       "      <td>39</td>\n",
       "      <td>58</td>\n",
       "      <td>194.702896</td>\n",
       "    </tr>\n",
       "    <tr>\n",
       "      <th>227396</th>\n",
       "      <td>9</td>\n",
       "      <td>0</td>\n",
       "      <td>39</td>\n",
       "      <td>59</td>\n",
       "      <td>194.700836</td>\n",
       "    </tr>\n",
       "    <tr>\n",
       "      <th>227397</th>\n",
       "      <td>9</td>\n",
       "      <td>0</td>\n",
       "      <td>39</td>\n",
       "      <td>60</td>\n",
       "      <td>148.729996</td>\n",
       "    </tr>\n",
       "    <tr>\n",
       "      <th>227398</th>\n",
       "      <td>9</td>\n",
       "      <td>0</td>\n",
       "      <td>39</td>\n",
       "      <td>61</td>\n",
       "      <td>194.702515</td>\n",
       "    </tr>\n",
       "    <tr>\n",
       "      <th>227399</th>\n",
       "      <td>9</td>\n",
       "      <td>0</td>\n",
       "      <td>39</td>\n",
       "      <td>62</td>\n",
       "      <td>194.704010</td>\n",
       "    </tr>\n",
       "    <tr>\n",
       "      <th>227400</th>\n",
       "      <td>9</td>\n",
       "      <td>0</td>\n",
       "      <td>39</td>\n",
       "      <td>63</td>\n",
       "      <td>194.700043</td>\n",
       "    </tr>\n",
       "    <tr>\n",
       "      <th>227401</th>\n",
       "      <td>9</td>\n",
       "      <td>0</td>\n",
       "      <td>39</td>\n",
       "      <td>64</td>\n",
       "      <td>194.699997</td>\n",
       "    </tr>\n",
       "    <tr>\n",
       "      <th>227402</th>\n",
       "      <td>9</td>\n",
       "      <td>0</td>\n",
       "      <td>39</td>\n",
       "      <td>65</td>\n",
       "      <td>194.699997</td>\n",
       "    </tr>\n",
       "    <tr>\n",
       "      <th>227403</th>\n",
       "      <td>9</td>\n",
       "      <td>0</td>\n",
       "      <td>40</td>\n",
       "      <td>0</td>\n",
       "      <td>194.701523</td>\n",
       "    </tr>\n",
       "  </tbody>\n",
       "</table>\n",
       "<p>227404 rows × 5 columns</p>\n",
       "</div>"
      ],
      "text/plain": [
       "        speakerID  speakerIPU  comp_speaker  comp_speakerIPU  frechetdistance\n",
       "0               0           0             1                0        65.249969\n",
       "1               0           0             1                1        66.515404\n",
       "2               0           0             1                2       274.112701\n",
       "3               0           0             1                3        84.120514\n",
       "4               0           0             1                4       157.210114\n",
       "5               0           0             1                5        79.410965\n",
       "6               0           0             1                6        66.920204\n",
       "7               0           0             1                7       129.865005\n",
       "8               0           0             1                8        87.305168\n",
       "9               0           0             1                9        70.002014\n",
       "10              0           0             1               10       121.547394\n",
       "11              0           0             1               11       133.760040\n",
       "12              0           0             1               12        70.600319\n",
       "13              0           0             1               13       116.680733\n",
       "14              0           0             1               14        88.052719\n",
       "15              0           0             1               15        31.481182\n",
       "16              0           0             1               16        87.957268\n",
       "17              0           0             1               17        89.296844\n",
       "18              0           0             1               18        56.891933\n",
       "19              0           0             1               19       353.062225\n",
       "20              0           0             1               20       109.890099\n",
       "21              0           0             1               21        68.659462\n",
       "22              0           0             1               22        83.948578\n",
       "23              0           0             1               23        88.865791\n",
       "24              0           0             1               24        37.910965\n",
       "25              0           0             1               25        77.620163\n",
       "26              0           0             1               26        67.401115\n",
       "27              0           0             1               27        25.594454\n",
       "28              0           0             1               28       120.141197\n",
       "29              0           0             1               29        75.341499\n",
       "...           ...         ...           ...              ...              ...\n",
       "227374          9           0            39               37       194.700104\n",
       "227375          9           0            39               38       194.702362\n",
       "227376          9           0            39               39       194.705627\n",
       "227377          9           0            39               40       194.701599\n",
       "227378          9           0            39               41       123.886040\n",
       "227379          9           0            39               42       194.700027\n",
       "227380          9           0            39               43       194.700043\n",
       "227381          9           0            39               44       128.651855\n",
       "227382          9           0            39               45       194.702896\n",
       "227383          9           0            39               46       194.700577\n",
       "227384          9           0            39               47       194.703003\n",
       "227385          9           0            39               48       194.702667\n",
       "227386          9           0            39               49       194.701050\n",
       "227387          9           0            39               50       194.700256\n",
       "227388          9           0            39               51       194.715530\n",
       "227389          9           0            39               52       194.700058\n",
       "227390          9           0            39               53       194.701050\n",
       "227391          9           0            39               54       194.700668\n",
       "227392          9           0            39               55       194.703003\n",
       "227393          9           0            39               56       194.700073\n",
       "227394          9           0            39               57       194.700317\n",
       "227395          9           0            39               58       194.702896\n",
       "227396          9           0            39               59       194.700836\n",
       "227397          9           0            39               60       148.729996\n",
       "227398          9           0            39               61       194.702515\n",
       "227399          9           0            39               62       194.704010\n",
       "227400          9           0            39               63       194.700043\n",
       "227401          9           0            39               64       194.699997\n",
       "227402          9           0            39               65       194.699997\n",
       "227403          9           0            40                0       194.701523\n",
       "\n",
       "[227404 rows x 5 columns]"
      ]
     },
     "execution_count": 5,
     "metadata": {},
     "output_type": "execute_result"
    }
   ],
   "source": [
    "distances_test"
   ]
  },
  {
   "cell_type": "code",
   "execution_count": null,
   "metadata": {
    "collapsed": true
   },
   "outputs": [],
   "source": [
    "speakers = distances_train[\"speakerID\"]"
   ]
  },
  {
   "cell_type": "code",
   "execution_count": null,
   "metadata": {
    "collapsed": false
   },
   "outputs": [],
   "source": [
    "distances_train.groupby([\"speakerID\"]).size()"
   ]
  },
  {
   "cell_type": "markdown",
   "metadata": {
    "collapsed": true
   },
   "source": [
    "### A little bit of notetaking code to make sure we aren't missing things.  Which we probably still are"
   ]
  },
  {
   "cell_type": "code",
   "execution_count": null,
   "metadata": {
    "collapsed": false
   },
   "outputs": [],
   "source": [
    "results = pd.read_csv(\"C:/Python27/qp2_py/frechet_distance/results_4_17.txt\", sep=\"_\", header=None)"
   ]
  },
  {
   "cell_type": "code",
   "execution_count": null,
   "metadata": {
    "collapsed": true
   },
   "outputs": [],
   "source": [
    "check = pd.read_csv(\"C:/Python27/qp2_py/frechet_distance/check_ipus.txt\", sep=\" \", header=None)"
   ]
  },
  {
   "cell_type": "code",
   "execution_count": null,
   "metadata": {
    "collapsed": true
   },
   "outputs": [],
   "source": [
    "check"
   ]
  },
  {
   "cell_type": "code",
   "execution_count": null,
   "metadata": {
    "collapsed": false,
    "scrolled": true
   },
   "outputs": [],
   "source": [
    "linecounts = [int(f) for f in list(check[1])]"
   ]
  },
  {
   "cell_type": "code",
   "execution_count": null,
   "metadata": {
    "collapsed": true
   },
   "outputs": [],
   "source": []
  },
  {
   "cell_type": "code",
   "execution_count": null,
   "metadata": {
    "collapsed": false
   },
   "outputs": [],
   "source": [
    "s1 = list(results[0])\n",
    "s1_ipus = list(results[1])\n",
    "s2 = list(results[2])\n",
    "s2_ipus = list(results[3])"
   ]
  },
  {
   "cell_type": "code",
   "execution_count": null,
   "metadata": {
    "collapsed": false
   },
   "outputs": [],
   "source": [
    "comparisons = zip(s1, s1_ipus, s2, s2_ipus)"
   ]
  },
  {
   "cell_type": "code",
   "execution_count": null,
   "metadata": {
    "collapsed": true
   },
   "outputs": [],
   "source": [
    "comp_dict = {}\n",
    "for comp in comparisons:\n",
    "    comp_dict[comp] = True"
   ]
  },
  {
   "cell_type": "code",
   "execution_count": null,
   "metadata": {
    "collapsed": false,
    "scrolled": true
   },
   "outputs": [],
   "source": [
    "len(comparisons)"
   ]
  },
  {
   "cell_type": "code",
   "execution_count": null,
   "metadata": {
    "collapsed": false,
    "scrolled": true
   },
   "outputs": [],
   "source": [
    "sum(linecounts[:41])"
   ]
  },
  {
   "cell_type": "code",
   "execution_count": null,
   "metadata": {
    "collapsed": false
   },
   "outputs": [],
   "source": [
    "(367*6)+(740*6)"
   ]
  },
  {
   "cell_type": "code",
   "execution_count": null,
   "metadata": {
    "collapsed": true
   },
   "outputs": [],
   "source": [
    "for i in range(41):\n",
    "    print i\n",
    "    for j in range(linecounts[i]):\n",
    "        for k in range(i+1, 41):\n",
    "            for l in range(linecounts[k]):\n",
    "                if k!= 26 and (i,j,k,l) not in comp_dict:\n",
    "                    print (i,j,k,l)"
   ]
  },
  {
   "cell_type": "markdown",
   "metadata": {},
   "source": [
    "### Import labels because that's important"
   ]
  },
  {
   "cell_type": "code",
   "execution_count": 4,
   "metadata": {
    "collapsed": true
   },
   "outputs": [],
   "source": [
    "labels = pd.read_csv(\"c:/Python27/qp2_py/labels/labels41_onlyqs.csv\")"
   ]
  },
  {
   "cell_type": "code",
   "execution_count": 7,
   "metadata": {
    "collapsed": true
   },
   "outputs": [
    {
     "name": "stdout",
     "output_type": "stream",
     "text": [
      "    Language\n",
      "0    English\n",
      "1    English\n",
      "2    English\n",
      "3    English\n",
      "4   Mandarin\n",
      "5   Mandarin\n",
      "6   Mandarin\n",
      "7   Mandarin\n",
      "8    English\n",
      "9   Mandarin\n",
      "10   English\n",
      "11   English\n",
      "12   English\n",
      "13   English\n",
      "14  Mandarin\n",
      "15   English\n",
      "16   English\n",
      "17   English\n",
      "18  Mandarin\n",
      "19   English\n",
      "20   English\n",
      "21   English\n",
      "22   English\n",
      "23  Mandarin\n",
      "24   English\n",
      "25  Mandarin\n",
      "26  Mandarin\n",
      "27  Mandarin\n",
      "28  Mandarin\n",
      "29  Mandarin\n",
      "30  Mandarin\n",
      "31  Mandarin\n",
      "32  Mandarin\n",
      "33  Mandarin\n",
      "34  Mandarin\n",
      "35  Mandarin\n",
      "36  Mandarin\n",
      "37  Mandarin\n",
      "38  Mandarin\n",
      "39  Mandarin\n",
      "40   English\n"
     ]
    }
   ],
   "source": [
    "print labels"
   ]
  },
  {
   "cell_type": "code",
   "execution_count": null,
   "metadata": {
    "collapsed": false
   },
   "outputs": [],
   "source": [
    "labels.iloc[0][\"Language\"]"
   ]
  },
  {
   "cell_type": "code",
   "execution_count": 5,
   "metadata": {
    "collapsed": false
   },
   "outputs": [],
   "source": [
    "labs_test = labels.iloc[:10][\"Language\"]\n",
    "labs_train = labels.iloc[10:][\"Language\"]"
   ]
  },
  {
   "cell_type": "code",
   "execution_count": null,
   "metadata": {
    "collapsed": false
   },
   "outputs": [],
   "source": [
    "labs_train"
   ]
  },
  {
   "cell_type": "markdown",
   "metadata": {},
   "source": [
    "df.index = df.Year\n",
    "df.loc[1913:1914]"
   ]
  },
  {
   "cell_type": "code",
   "execution_count": null,
   "metadata": {
    "collapsed": true
   },
   "outputs": [],
   "source": [
    "####To figure out how big my matrix should be\n",
    "from collections import defaultdict\n",
    "ipuID = defaultdict(lambda:{})\n",
    "IDtoLabel = defaultdict(str)\n",
    "count = 0\n",
    "for item in distances_train.iterrows():\n",
    "    speakerID =  item[1][\"speakerID\"]\n",
    "    speakerIPU = item[1][\"speakerIPU\"]\n",
    "    speakerID = int(speakerID)\n",
    "    speakerIPU = int(speakerIPU)\n",
    "    if speakerIPU not in ipuID[speakerID]:\n",
    "        ipuID[speakerID][speakerIPU]=count\n",
    "        IDtoLabel[count] = labels.iloc[speakerID][0]\n",
    "        count +=1"
   ]
  },
  {
   "cell_type": "code",
   "execution_count": null,
   "metadata": {
    "collapsed": false
   },
   "outputs": [],
   "source": [
    "train_count = count"
   ]
  },
  {
   "cell_type": "code",
   "execution_count": 5,
   "metadata": {
    "collapsed": false
   },
   "outputs": [],
   "source": [
    "###### I fixed it!  I fixed something!!!\n",
    "from collections import defaultdict\n",
    "ipuID = defaultdict(lambda:{})\n",
    "IDtoLabel = defaultdict(str)\n",
    "count = 0\n",
    "for item in distances.iterrows():\n",
    "    speakerID =  item[1][\"speakerID\"]\n",
    "    speakerIPU = item[1][\"speakerIPU\"]\n",
    "    speakerID = int(speakerID)\n",
    "    speakerIPU = int(speakerIPU)\n",
    "    if speakerIPU not in ipuID[speakerID]:\n",
    "        ipuID[speakerID][speakerIPU]=count\n",
    "        IDtoLabel[count] = labels.iloc[speakerID][0]\n",
    "        count +=1"
   ]
  },
  {
   "cell_type": "code",
   "execution_count": null,
   "metadata": {
    "collapsed": true
   },
   "outputs": [],
   "source": []
  },
  {
   "cell_type": "code",
   "execution_count": null,
   "metadata": {
    "collapsed": false
   },
   "outputs": [],
   "source": [
    "print IDtoLabel[0]"
   ]
  },
  {
   "cell_type": "code",
   "execution_count": null,
   "metadata": {
    "collapsed": false
   },
   "outputs": [],
   "source": [
    "count"
   ]
  },
  {
   "cell_type": "code",
   "execution_count": null,
   "metadata": {
    "collapsed": false
   },
   "outputs": [],
   "source": [
    "count**2"
   ]
  },
  {
   "cell_type": "code",
   "execution_count": null,
   "metadata": {
    "collapsed": false
   },
   "outputs": [],
   "source": [
    "###labels.iloc[speakID][\"Language\"]"
   ]
  },
  {
   "cell_type": "code",
   "execution_count": 6,
   "metadata": {
    "collapsed": true
   },
   "outputs": [],
   "source": [
    "dist_matrix = np.zeros([count,count])"
   ]
  },
  {
   "cell_type": "code",
   "execution_count": 12,
   "metadata": {
    "collapsed": false
   },
   "outputs": [],
   "source": [
    "test_matrix = np.zeros([count, count])"
   ]
  },
  {
   "cell_type": "code",
   "execution_count": null,
   "metadata": {
    "collapsed": false
   },
   "outputs": [],
   "source": [
    "dist_matrix = np.zeros([train_count,train_count])"
   ]
  },
  {
   "cell_type": "code",
   "execution_count": null,
   "metadata": {
    "collapsed": false
   },
   "outputs": [],
   "source": [
    "dist_matrix"
   ]
  },
  {
   "cell_type": "code",
   "execution_count": 7,
   "metadata": {
    "collapsed": true
   },
   "outputs": [],
   "source": [
    "for item in distances.iterrows():\n",
    "    speakerID = item[1][\"speakerID\"]\n",
    "    speakerIPU = item[1][\"speakerIPU\"]\n",
    "    compared_speaker = item[1][\"comp_speaker\"]\n",
    "    compared_IPU = item[1][\"comp_speakerIPU\"]\n",
    "    distance = item[1][\"frechetdistance\"]\n",
    "    if compared_IPU in ipuID[compared_speaker]:\n",
    "        id1 = ipuID[speakerID][speakerIPU]\n",
    "        id2 = ipuID[compared_speaker][compared_IPU]\n",
    "        dist_matrix[id1,id2] = distance"
   ]
  },
  {
   "cell_type": "code",
   "execution_count": 26,
   "metadata": {
    "collapsed": true
   },
   "outputs": [
    {
     "data": {
      "text/html": [
       "<div>\n",
       "<table border=\"1\" class=\"dataframe\">\n",
       "  <thead>\n",
       "    <tr style=\"text-align: right;\">\n",
       "      <th></th>\n",
       "      <th>speakerID</th>\n",
       "      <th>speakerIPU</th>\n",
       "      <th>comp_speaker</th>\n",
       "      <th>comp_speakerIPU</th>\n",
       "      <th>frechetdistance</th>\n",
       "    </tr>\n",
       "  </thead>\n",
       "  <tbody>\n",
       "    <tr>\n",
       "      <th>227404</th>\n",
       "      <td>10</td>\n",
       "      <td>0</td>\n",
       "      <td>11</td>\n",
       "      <td>0</td>\n",
       "      <td>382.100067</td>\n",
       "    </tr>\n",
       "    <tr>\n",
       "      <th>227405</th>\n",
       "      <td>10</td>\n",
       "      <td>0</td>\n",
       "      <td>11</td>\n",
       "      <td>1</td>\n",
       "      <td>382.102020</td>\n",
       "    </tr>\n",
       "    <tr>\n",
       "      <th>227406</th>\n",
       "      <td>10</td>\n",
       "      <td>0</td>\n",
       "      <td>12</td>\n",
       "      <td>0</td>\n",
       "      <td>382.100006</td>\n",
       "    </tr>\n",
       "    <tr>\n",
       "      <th>227407</th>\n",
       "      <td>10</td>\n",
       "      <td>0</td>\n",
       "      <td>12</td>\n",
       "      <td>1</td>\n",
       "      <td>382.100464</td>\n",
       "    </tr>\n",
       "    <tr>\n",
       "      <th>227408</th>\n",
       "      <td>10</td>\n",
       "      <td>0</td>\n",
       "      <td>12</td>\n",
       "      <td>2</td>\n",
       "      <td>382.100281</td>\n",
       "    </tr>\n",
       "    <tr>\n",
       "      <th>227409</th>\n",
       "      <td>10</td>\n",
       "      <td>0</td>\n",
       "      <td>12</td>\n",
       "      <td>3</td>\n",
       "      <td>195.033386</td>\n",
       "    </tr>\n",
       "    <tr>\n",
       "      <th>227410</th>\n",
       "      <td>10</td>\n",
       "      <td>0</td>\n",
       "      <td>12</td>\n",
       "      <td>4</td>\n",
       "      <td>382.104828</td>\n",
       "    </tr>\n",
       "    <tr>\n",
       "      <th>227411</th>\n",
       "      <td>10</td>\n",
       "      <td>0</td>\n",
       "      <td>12</td>\n",
       "      <td>5</td>\n",
       "      <td>382.103577</td>\n",
       "    </tr>\n",
       "    <tr>\n",
       "      <th>227412</th>\n",
       "      <td>10</td>\n",
       "      <td>0</td>\n",
       "      <td>12</td>\n",
       "      <td>6</td>\n",
       "      <td>382.100708</td>\n",
       "    </tr>\n",
       "    <tr>\n",
       "      <th>227413</th>\n",
       "      <td>10</td>\n",
       "      <td>0</td>\n",
       "      <td>12</td>\n",
       "      <td>7</td>\n",
       "      <td>181.180832</td>\n",
       "    </tr>\n",
       "    <tr>\n",
       "      <th>227414</th>\n",
       "      <td>10</td>\n",
       "      <td>0</td>\n",
       "      <td>12</td>\n",
       "      <td>8</td>\n",
       "      <td>176.540298</td>\n",
       "    </tr>\n",
       "    <tr>\n",
       "      <th>227415</th>\n",
       "      <td>10</td>\n",
       "      <td>0</td>\n",
       "      <td>12</td>\n",
       "      <td>9</td>\n",
       "      <td>382.100189</td>\n",
       "    </tr>\n",
       "    <tr>\n",
       "      <th>227416</th>\n",
       "      <td>10</td>\n",
       "      <td>0</td>\n",
       "      <td>12</td>\n",
       "      <td>10</td>\n",
       "      <td>203.393158</td>\n",
       "    </tr>\n",
       "    <tr>\n",
       "      <th>227417</th>\n",
       "      <td>10</td>\n",
       "      <td>0</td>\n",
       "      <td>12</td>\n",
       "      <td>11</td>\n",
       "      <td>382.100067</td>\n",
       "    </tr>\n",
       "    <tr>\n",
       "      <th>227418</th>\n",
       "      <td>10</td>\n",
       "      <td>0</td>\n",
       "      <td>12</td>\n",
       "      <td>12</td>\n",
       "      <td>382.100922</td>\n",
       "    </tr>\n",
       "    <tr>\n",
       "      <th>227419</th>\n",
       "      <td>10</td>\n",
       "      <td>0</td>\n",
       "      <td>12</td>\n",
       "      <td>13</td>\n",
       "      <td>382.101440</td>\n",
       "    </tr>\n",
       "    <tr>\n",
       "      <th>227420</th>\n",
       "      <td>10</td>\n",
       "      <td>0</td>\n",
       "      <td>12</td>\n",
       "      <td>14</td>\n",
       "      <td>382.100433</td>\n",
       "    </tr>\n",
       "    <tr>\n",
       "      <th>227421</th>\n",
       "      <td>10</td>\n",
       "      <td>0</td>\n",
       "      <td>12</td>\n",
       "      <td>15</td>\n",
       "      <td>382.101471</td>\n",
       "    </tr>\n",
       "    <tr>\n",
       "      <th>227422</th>\n",
       "      <td>10</td>\n",
       "      <td>0</td>\n",
       "      <td>12</td>\n",
       "      <td>16</td>\n",
       "      <td>382.100372</td>\n",
       "    </tr>\n",
       "    <tr>\n",
       "      <th>227423</th>\n",
       "      <td>10</td>\n",
       "      <td>0</td>\n",
       "      <td>12</td>\n",
       "      <td>17</td>\n",
       "      <td>382.100250</td>\n",
       "    </tr>\n",
       "    <tr>\n",
       "      <th>227424</th>\n",
       "      <td>10</td>\n",
       "      <td>0</td>\n",
       "      <td>12</td>\n",
       "      <td>18</td>\n",
       "      <td>156.200119</td>\n",
       "    </tr>\n",
       "    <tr>\n",
       "      <th>227425</th>\n",
       "      <td>10</td>\n",
       "      <td>0</td>\n",
       "      <td>12</td>\n",
       "      <td>19</td>\n",
       "      <td>382.101410</td>\n",
       "    </tr>\n",
       "    <tr>\n",
       "      <th>227426</th>\n",
       "      <td>10</td>\n",
       "      <td>0</td>\n",
       "      <td>12</td>\n",
       "      <td>20</td>\n",
       "      <td>382.102020</td>\n",
       "    </tr>\n",
       "    <tr>\n",
       "      <th>227427</th>\n",
       "      <td>10</td>\n",
       "      <td>0</td>\n",
       "      <td>12</td>\n",
       "      <td>21</td>\n",
       "      <td>382.100800</td>\n",
       "    </tr>\n",
       "    <tr>\n",
       "      <th>227428</th>\n",
       "      <td>10</td>\n",
       "      <td>0</td>\n",
       "      <td>12</td>\n",
       "      <td>22</td>\n",
       "      <td>382.103302</td>\n",
       "    </tr>\n",
       "    <tr>\n",
       "      <th>227429</th>\n",
       "      <td>10</td>\n",
       "      <td>0</td>\n",
       "      <td>12</td>\n",
       "      <td>23</td>\n",
       "      <td>382.102417</td>\n",
       "    </tr>\n",
       "    <tr>\n",
       "      <th>227430</th>\n",
       "      <td>10</td>\n",
       "      <td>0</td>\n",
       "      <td>12</td>\n",
       "      <td>24</td>\n",
       "      <td>382.103546</td>\n",
       "    </tr>\n",
       "    <tr>\n",
       "      <th>227431</th>\n",
       "      <td>10</td>\n",
       "      <td>0</td>\n",
       "      <td>12</td>\n",
       "      <td>25</td>\n",
       "      <td>382.101501</td>\n",
       "    </tr>\n",
       "    <tr>\n",
       "      <th>227432</th>\n",
       "      <td>10</td>\n",
       "      <td>0</td>\n",
       "      <td>12</td>\n",
       "      <td>26</td>\n",
       "      <td>382.100464</td>\n",
       "    </tr>\n",
       "    <tr>\n",
       "      <th>227433</th>\n",
       "      <td>10</td>\n",
       "      <td>0</td>\n",
       "      <td>12</td>\n",
       "      <td>27</td>\n",
       "      <td>382.100098</td>\n",
       "    </tr>\n",
       "    <tr>\n",
       "      <th>...</th>\n",
       "      <td>...</td>\n",
       "      <td>...</td>\n",
       "      <td>...</td>\n",
       "      <td>...</td>\n",
       "      <td>...</td>\n",
       "    </tr>\n",
       "    <tr>\n",
       "      <th>704462</th>\n",
       "      <td>39</td>\n",
       "      <td>36</td>\n",
       "      <td>40</td>\n",
       "      <td>0</td>\n",
       "      <td>116.170029</td>\n",
       "    </tr>\n",
       "    <tr>\n",
       "      <th>704463</th>\n",
       "      <td>39</td>\n",
       "      <td>37</td>\n",
       "      <td>40</td>\n",
       "      <td>0</td>\n",
       "      <td>123.451775</td>\n",
       "    </tr>\n",
       "    <tr>\n",
       "      <th>704464</th>\n",
       "      <td>39</td>\n",
       "      <td>38</td>\n",
       "      <td>40</td>\n",
       "      <td>0</td>\n",
       "      <td>20.130043</td>\n",
       "    </tr>\n",
       "    <tr>\n",
       "      <th>704465</th>\n",
       "      <td>39</td>\n",
       "      <td>39</td>\n",
       "      <td>40</td>\n",
       "      <td>0</td>\n",
       "      <td>66.151596</td>\n",
       "    </tr>\n",
       "    <tr>\n",
       "      <th>704466</th>\n",
       "      <td>39</td>\n",
       "      <td>40</td>\n",
       "      <td>40</td>\n",
       "      <td>0</td>\n",
       "      <td>22.590137</td>\n",
       "    </tr>\n",
       "    <tr>\n",
       "      <th>704467</th>\n",
       "      <td>39</td>\n",
       "      <td>41</td>\n",
       "      <td>40</td>\n",
       "      <td>0</td>\n",
       "      <td>122.221771</td>\n",
       "    </tr>\n",
       "    <tr>\n",
       "      <th>704468</th>\n",
       "      <td>39</td>\n",
       "      <td>42</td>\n",
       "      <td>40</td>\n",
       "      <td>0</td>\n",
       "      <td>118.530029</td>\n",
       "    </tr>\n",
       "    <tr>\n",
       "      <th>704469</th>\n",
       "      <td>39</td>\n",
       "      <td>43</td>\n",
       "      <td>40</td>\n",
       "      <td>0</td>\n",
       "      <td>62.730160</td>\n",
       "    </tr>\n",
       "    <tr>\n",
       "      <th>704470</th>\n",
       "      <td>39</td>\n",
       "      <td>44</td>\n",
       "      <td>40</td>\n",
       "      <td>0</td>\n",
       "      <td>122.551575</td>\n",
       "    </tr>\n",
       "    <tr>\n",
       "      <th>704471</th>\n",
       "      <td>39</td>\n",
       "      <td>45</td>\n",
       "      <td>40</td>\n",
       "      <td>0</td>\n",
       "      <td>20.130892</td>\n",
       "    </tr>\n",
       "    <tr>\n",
       "      <th>704472</th>\n",
       "      <td>39</td>\n",
       "      <td>46</td>\n",
       "      <td>40</td>\n",
       "      <td>0</td>\n",
       "      <td>58.145260</td>\n",
       "    </tr>\n",
       "    <tr>\n",
       "      <th>704473</th>\n",
       "      <td>39</td>\n",
       "      <td>47</td>\n",
       "      <td>40</td>\n",
       "      <td>0</td>\n",
       "      <td>149.760025</td>\n",
       "    </tr>\n",
       "    <tr>\n",
       "      <th>704474</th>\n",
       "      <td>39</td>\n",
       "      <td>48</td>\n",
       "      <td>40</td>\n",
       "      <td>0</td>\n",
       "      <td>143.340012</td>\n",
       "    </tr>\n",
       "    <tr>\n",
       "      <th>704475</th>\n",
       "      <td>39</td>\n",
       "      <td>49</td>\n",
       "      <td>40</td>\n",
       "      <td>0</td>\n",
       "      <td>133.429993</td>\n",
       "    </tr>\n",
       "    <tr>\n",
       "      <th>704476</th>\n",
       "      <td>39</td>\n",
       "      <td>50</td>\n",
       "      <td>40</td>\n",
       "      <td>0</td>\n",
       "      <td>111.330032</td>\n",
       "    </tr>\n",
       "    <tr>\n",
       "      <th>704477</th>\n",
       "      <td>39</td>\n",
       "      <td>51</td>\n",
       "      <td>40</td>\n",
       "      <td>0</td>\n",
       "      <td>168.035416</td>\n",
       "    </tr>\n",
       "    <tr>\n",
       "      <th>704478</th>\n",
       "      <td>39</td>\n",
       "      <td>52</td>\n",
       "      <td>40</td>\n",
       "      <td>0</td>\n",
       "      <td>151.880005</td>\n",
       "    </tr>\n",
       "    <tr>\n",
       "      <th>704479</th>\n",
       "      <td>39</td>\n",
       "      <td>53</td>\n",
       "      <td>40</td>\n",
       "      <td>0</td>\n",
       "      <td>64.256668</td>\n",
       "    </tr>\n",
       "    <tr>\n",
       "      <th>704480</th>\n",
       "      <td>39</td>\n",
       "      <td>54</td>\n",
       "      <td>40</td>\n",
       "      <td>0</td>\n",
       "      <td>73.535805</td>\n",
       "    </tr>\n",
       "    <tr>\n",
       "      <th>704481</th>\n",
       "      <td>39</td>\n",
       "      <td>55</td>\n",
       "      <td>40</td>\n",
       "      <td>0</td>\n",
       "      <td>66.151535</td>\n",
       "    </tr>\n",
       "    <tr>\n",
       "      <th>704482</th>\n",
       "      <td>39</td>\n",
       "      <td>56</td>\n",
       "      <td>40</td>\n",
       "      <td>0</td>\n",
       "      <td>85.440636</td>\n",
       "    </tr>\n",
       "    <tr>\n",
       "      <th>704483</th>\n",
       "      <td>39</td>\n",
       "      <td>57</td>\n",
       "      <td>40</td>\n",
       "      <td>0</td>\n",
       "      <td>56.940002</td>\n",
       "    </tr>\n",
       "    <tr>\n",
       "      <th>704484</th>\n",
       "      <td>39</td>\n",
       "      <td>58</td>\n",
       "      <td>40</td>\n",
       "      <td>0</td>\n",
       "      <td>20.131447</td>\n",
       "    </tr>\n",
       "    <tr>\n",
       "      <th>704485</th>\n",
       "      <td>39</td>\n",
       "      <td>59</td>\n",
       "      <td>40</td>\n",
       "      <td>0</td>\n",
       "      <td>71.100807</td>\n",
       "    </tr>\n",
       "    <tr>\n",
       "      <th>704486</th>\n",
       "      <td>39</td>\n",
       "      <td>60</td>\n",
       "      <td>40</td>\n",
       "      <td>0</td>\n",
       "      <td>148.730026</td>\n",
       "    </tr>\n",
       "    <tr>\n",
       "      <th>704487</th>\n",
       "      <td>39</td>\n",
       "      <td>61</td>\n",
       "      <td>40</td>\n",
       "      <td>0</td>\n",
       "      <td>41.930153</td>\n",
       "    </tr>\n",
       "    <tr>\n",
       "      <th>704488</th>\n",
       "      <td>39</td>\n",
       "      <td>62</td>\n",
       "      <td>40</td>\n",
       "      <td>0</td>\n",
       "      <td>20.133774</td>\n",
       "    </tr>\n",
       "    <tr>\n",
       "      <th>704489</th>\n",
       "      <td>39</td>\n",
       "      <td>63</td>\n",
       "      <td>40</td>\n",
       "      <td>0</td>\n",
       "      <td>69.300041</td>\n",
       "    </tr>\n",
       "    <tr>\n",
       "      <th>704490</th>\n",
       "      <td>39</td>\n",
       "      <td>64</td>\n",
       "      <td>40</td>\n",
       "      <td>0</td>\n",
       "      <td>67.204994</td>\n",
       "    </tr>\n",
       "    <tr>\n",
       "      <th>704491</th>\n",
       "      <td>39</td>\n",
       "      <td>65</td>\n",
       "      <td>40</td>\n",
       "      <td>0</td>\n",
       "      <td>59.185459</td>\n",
       "    </tr>\n",
       "  </tbody>\n",
       "</table>\n",
       "<p>477088 rows × 5 columns</p>\n",
       "</div>"
      ],
      "text/plain": [
       "        speakerID  speakerIPU  comp_speaker  comp_speakerIPU  frechetdistance\n",
       "227404         10           0            11                0       382.100067\n",
       "227405         10           0            11                1       382.102020\n",
       "227406         10           0            12                0       382.100006\n",
       "227407         10           0            12                1       382.100464\n",
       "227408         10           0            12                2       382.100281\n",
       "227409         10           0            12                3       195.033386\n",
       "227410         10           0            12                4       382.104828\n",
       "227411         10           0            12                5       382.103577\n",
       "227412         10           0            12                6       382.100708\n",
       "227413         10           0            12                7       181.180832\n",
       "227414         10           0            12                8       176.540298\n",
       "227415         10           0            12                9       382.100189\n",
       "227416         10           0            12               10       203.393158\n",
       "227417         10           0            12               11       382.100067\n",
       "227418         10           0            12               12       382.100922\n",
       "227419         10           0            12               13       382.101440\n",
       "227420         10           0            12               14       382.100433\n",
       "227421         10           0            12               15       382.101471\n",
       "227422         10           0            12               16       382.100372\n",
       "227423         10           0            12               17       382.100250\n",
       "227424         10           0            12               18       156.200119\n",
       "227425         10           0            12               19       382.101410\n",
       "227426         10           0            12               20       382.102020\n",
       "227427         10           0            12               21       382.100800\n",
       "227428         10           0            12               22       382.103302\n",
       "227429         10           0            12               23       382.102417\n",
       "227430         10           0            12               24       382.103546\n",
       "227431         10           0            12               25       382.101501\n",
       "227432         10           0            12               26       382.100464\n",
       "227433         10           0            12               27       382.100098\n",
       "...           ...         ...           ...              ...              ...\n",
       "704462         39          36            40                0       116.170029\n",
       "704463         39          37            40                0       123.451775\n",
       "704464         39          38            40                0        20.130043\n",
       "704465         39          39            40                0        66.151596\n",
       "704466         39          40            40                0        22.590137\n",
       "704467         39          41            40                0       122.221771\n",
       "704468         39          42            40                0       118.530029\n",
       "704469         39          43            40                0        62.730160\n",
       "704470         39          44            40                0       122.551575\n",
       "704471         39          45            40                0        20.130892\n",
       "704472         39          46            40                0        58.145260\n",
       "704473         39          47            40                0       149.760025\n",
       "704474         39          48            40                0       143.340012\n",
       "704475         39          49            40                0       133.429993\n",
       "704476         39          50            40                0       111.330032\n",
       "704477         39          51            40                0       168.035416\n",
       "704478         39          52            40                0       151.880005\n",
       "704479         39          53            40                0        64.256668\n",
       "704480         39          54            40                0        73.535805\n",
       "704481         39          55            40                0        66.151535\n",
       "704482         39          56            40                0        85.440636\n",
       "704483         39          57            40                0        56.940002\n",
       "704484         39          58            40                0        20.131447\n",
       "704485         39          59            40                0        71.100807\n",
       "704486         39          60            40                0       148.730026\n",
       "704487         39          61            40                0        41.930153\n",
       "704488         39          62            40                0        20.133774\n",
       "704489         39          63            40                0        69.300041\n",
       "704490         39          64            40                0        67.204994\n",
       "704491         39          65            40                0        59.185459\n",
       "\n",
       "[477088 rows x 5 columns]"
      ]
     },
     "execution_count": 26,
     "metadata": {},
     "output_type": "execute_result"
    }
   ],
   "source": [
    "distances_train"
   ]
  },
  {
   "cell_type": "code",
   "execution_count": 9,
   "metadata": {
    "collapsed": false
   },
   "outputs": [],
   "source": [
    "####### trying to train the matrix on half of the data\n",
    "###### this does not work.  When I try to do this, nothing fills in, it seems - my entire matrix is zeros.\n",
    "#### or quite possible, too much of the matrix is zeros\n",
    "for item in distances_train.iterrows():\n",
    "    speakerID = item[1][\"speakerID\"]\n",
    "    speakerIPU = item[1][\"speakerIPU\"]\n",
    "    compared_speaker = item[1][\"comp_speaker\"]\n",
    "    compared_IPU = item[1][\"comp_speakerIPU\"]\n",
    "    distance = item[1][\"frechetdistance\"]\n",
    "    if compared_IPU in ipuID[compared_speaker]:\n",
    "        id1 = ipuID[speakerID][speakerIPU]\n",
    "        id2 = ipuID[compared_speaker][compared_IPU]\n",
    "        dist_matrix[id1,id2] = distance"
   ]
  },
  {
   "cell_type": "code",
   "execution_count": null,
   "metadata": {
    "collapsed": false
   },
   "outputs": [],
   "source": [
    "dist_matrix"
   ]
  },
  {
   "cell_type": "code",
   "execution_count": 18,
   "metadata": {
    "collapsed": false
   },
   "outputs": [
    {
     "data": {
      "text/plain": [
       "array([0, 0, 0, ..., 0, 0, 0], dtype=int64)"
      ]
     },
     "execution_count": 18,
     "metadata": {},
     "output_type": "execute_result"
    }
   ],
   "source": [
    "dist_matrix.argmax()"
   ]
  },
  {
   "cell_type": "code",
   "execution_count": null,
   "metadata": {
    "collapsed": false,
    "scrolled": true
   },
   "outputs": [],
   "source": [
    "#### In case this was the transform, which if def is not\n",
    "dist2 == dist_matrix.T"
   ]
  },
  {
   "cell_type": "markdown",
   "metadata": {},
   "source": [
    "### In which I try to fill the rest of these zeroes with the inverse?"
   ]
  },
  {
   "cell_type": "code",
   "execution_count": null,
   "metadata": {
    "collapsed": false
   },
   "outputs": [],
   "source": [
    "print len(dist_matrix)\n",
    "print len(dist_matrix[0])"
   ]
  },
  {
   "cell_type": "code",
   "execution_count": 8,
   "metadata": {
    "collapsed": false
   },
   "outputs": [],
   "source": [
    "dist2 = dist_matrix\n",
    "#dist2 = distances_train"
   ]
  },
  {
   "cell_type": "code",
   "execution_count": 9,
   "metadata": {
    "collapsed": false
   },
   "outputs": [],
   "source": [
    "for i in range(len(dist_matrix)):\n",
    "    for j in range(len(dist_matrix[0])):\n",
    "        dist2[j][i]=dist_matrix[i][j]"
   ]
  },
  {
   "cell_type": "code",
   "execution_count": null,
   "metadata": {
    "collapsed": false
   },
   "outputs": [],
   "source": [
    "### no no no no this is wrong do not do this this is wrong delete delete delete ####\n",
    "for i in range(len(distances_train)):\n",
    "    print distances_train[i]\n",
    "    break\n",
    "    for j in range(len(distances_train[0])):\n",
    "        dist2[j][i]=distances_train[i][j]"
   ]
  },
  {
   "cell_type": "code",
   "execution_count": 16,
   "metadata": {
    "collapsed": false,
    "scrolled": true
   },
   "outputs": [
    {
     "data": {
      "text/plain": [
       "array([[ 0.,  0.,  0., ...,  0.,  0.,  0.],\n",
       "       [ 0.,  0.,  0., ...,  0.,  0.,  0.],\n",
       "       [ 0.,  0.,  0., ...,  0.,  0.,  0.],\n",
       "       ..., \n",
       "       [ 0.,  0.,  0., ...,  0.,  0.,  0.],\n",
       "       [ 0.,  0.,  0., ...,  0.,  0.,  0.],\n",
       "       [ 0.,  0.,  0., ...,  0.,  0.,  0.]])"
      ]
     },
     "execution_count": 16,
     "metadata": {},
     "output_type": "execute_result"
    }
   ],
   "source": [
    "dist2"
   ]
  },
  {
   "cell_type": "code",
   "execution_count": null,
   "metadata": {
    "collapsed": true
   },
   "outputs": [],
   "source": []
  },
  {
   "cell_type": "code",
   "execution_count": null,
   "metadata": {
    "collapsed": false
   },
   "outputs": [],
   "source": [
    "#### why is this just printing out gibberish?  I would \n",
    "#np.save(\"c:/Python27/qp2_py/frechet_distance/dist_matrix_1207.txt\", dist_matrix, allow_pickle=False)\n",
    "np.savetxt(\"c:/Python27/qp2_py/frechet_distance/dist_matrix_1207.txt\", dist_matrix)"
   ]
  },
  {
   "cell_type": "markdown",
   "metadata": {},
   "source": [
    "infile = open(\"c:/Python27/qp2_py/frechet_distance/half_matrix.txt\", \"r\")\n",
    "in_matrix = np.load(infile)"
   ]
  },
  {
   "cell_type": "code",
   "execution_count": null,
   "metadata": {
    "collapsed": true
   },
   "outputs": [],
   "source": [
    "#infile = open(\"c:/Python27/qp2_py/frechet_distance/half_matrix.txt\", \"r\")\n",
    "#in_matrix = np.load(infile)"
   ]
  },
  {
   "cell_type": "code",
   "execution_count": null,
   "metadata": {
    "collapsed": false
   },
   "outputs": [],
   "source": [
    "#in_matrix"
   ]
  },
  {
   "cell_type": "code",
   "execution_count": null,
   "metadata": {
    "collapsed": true
   },
   "outputs": [],
   "source": [
    "##### try scaling from the book, to make the matrix more compact- results in a single cluster, which is no good\n",
    "from sklearn.preprocessing import StandardScaler\n",
    "scaler = StandardScaler()\n",
    "scaler.fit(dist_matrix)\n",
    "dist_scaled = scaler.transform(dist_matrix)"
   ]
  },
  {
   "cell_type": "code",
   "execution_count": null,
   "metadata": {
    "collapsed": false
   },
   "outputs": [],
   "source": [
    "dist_scaled"
   ]
  },
  {
   "cell_type": "code",
   "execution_count": null,
   "metadata": {
    "collapsed": false
   },
   "outputs": [],
   "source": [
    "## 4/26 retry with assistence from The Book\n",
    "from sklearn.cluster import DBSCAN\n",
    "\n",
    "dbscan = DBSCAN(eps = 2.0, metric=\"precomputed\")\n",
    "clusters = dbscan.fit_predict(dist_matrix)"
   ]
  },
  {
   "cell_type": "code",
   "execution_count": null,
   "metadata": {
    "collapsed": false
   },
   "outputs": [],
   "source": [
    "print format(clusters)"
   ]
  },
  {
   "cell_type": "code",
   "execution_count": null,
   "metadata": {
    "collapsed": true
   },
   "outputs": [],
   "source": [
    "### for Book format only\n",
    "cluster_labels = clusters"
   ]
  },
  {
   "cell_type": "code",
   "execution_count": null,
   "metadata": {
    "collapsed": false
   },
   "outputs": [],
   "source": [
    "import matplotlib.cm as mcm\n",
    "plt.scatter(dist_matrix[:,0], dist_matrix[:1], c=clusters, cmap = mcm.viridis)"
   ]
  },
  {
   "cell_type": "code",
   "execution_count": null,
   "metadata": {
    "collapsed": false
   },
   "outputs": [],
   "source": [
    "import matplotlib.cm as mcm\n",
    "plt.scatter(dist_scaled[:,0], dist_scaled[:1], c=clusters, cmap = mcm.viridis)"
   ]
  },
  {
   "cell_type": "markdown",
   "metadata": {
    "collapsed": true
   },
   "source": [
    "### Clustering, as we've been doing"
   ]
  },
  {
   "cell_type": "code",
   "execution_count": 10,
   "metadata": {
    "collapsed": false,
    "scrolled": true
   },
   "outputs": [
    {
     "data": {
      "text/plain": [
       "DBSCAN(algorithm='auto', eps=2.0, leaf_size=30, metric='precomputed',\n",
       "    min_samples=5, n_jobs=1, p=None)"
      ]
     },
     "execution_count": 10,
     "metadata": {},
     "output_type": "execute_result"
    }
   ],
   "source": [
    "from sklearn.cluster import DBSCAN\n",
    "\n",
    "cluster = DBSCAN(eps = 2.0, metric=\"precomputed\")\n",
    "cluster.fit(dist_matrix)"
   ]
  },
  {
   "cell_type": "code",
   "execution_count": 21,
   "metadata": {
    "collapsed": false
   },
   "outputs": [
    {
     "data": {
      "text/plain": [
       "array([[  0.      ,   0.      ,   0.      , ...,  69.01545 ,  67.204994,\n",
       "         59.195515],\n",
       "       [  0.      ,   0.      ,   0.      , ...,  84.960052,  84.960075,\n",
       "         84.960602],\n",
       "       [  0.      ,   0.      ,   0.      , ...,  61.030792,  55.655983,\n",
       "         54.380981],\n",
       "       ..., \n",
       "       [ 69.01545 ,  84.960052,  61.030792, ...,   0.      ,   0.      ,\n",
       "          0.      ],\n",
       "       [ 67.204994,  84.960075,  55.655983, ...,   0.      ,   0.      ,\n",
       "          0.      ],\n",
       "       [ 59.195515,  84.960602,  54.380981, ...,   0.      ,   0.      ,\n",
       "          0.      ]])"
      ]
     },
     "execution_count": 21,
     "metadata": {},
     "output_type": "execute_result"
    }
   ],
   "source": [
    "dist_matrix"
   ]
  },
  {
   "cell_type": "code",
   "execution_count": 34,
   "metadata": {
    "collapsed": false
   },
   "outputs": [
    {
     "data": {
      "text/plain": [
       "(array([  77513.,  205502.,  581182.,  228776.,  186986.,  110102.,\n",
       "          49140.,   22776.,    7448.,    1944.]),\n",
       " array([   0.       ,   48.4970001,   96.9940002,  145.4910003,\n",
       "         193.9880004,  242.4850005,  290.9820006,  339.4790007,\n",
       "         387.9760008,  436.4730009,  484.970001 ]),\n",
       " <a list of 10 Patch objects>)"
      ]
     },
     "execution_count": 34,
     "metadata": {},
     "output_type": "execute_result"
    },
    {
     "data": {
      "image/png": "[encoded data removed]",
      "text/plain": [
       "<matplotlib.figure.Figure at 0x1dbe0358>"
      ]
     },
     "metadata": {},
     "output_type": "display_data"
    }
   ],
   "source": [
    "%matplotlib inline\n",
    "plt.hist(dist_matrix.flatten())"
   ]
  },
  {
   "cell_type": "code",
   "execution_count": 59,
   "metadata": {
    "collapsed": false
   },
   "outputs": [
    {
     "data": {
      "image/png": "[encoded data removed]",
      "text/plain": [
       "<matplotlib.figure.Figure at 0x27cb3b38>"
      ]
     },
     "metadata": {},
     "output_type": "display_data"
    }
   ],
   "source": [
    "import matplotlib.cm as mcm\n",
    "import matplotlib.colors as mcolors\n",
    "\n",
    "norm = mcolors.Normalize(vmin=0.001)\n",
    "bins = np.arange(0,500,50)\n",
    "bins[0] = dist_matrix[dist_matrix>0].min()\n",
    "\n",
    "cmap = mcm.viridis\n",
    "cmap = mcm.Set1\n",
    "norm = mcolors.BoundaryNorm(bins, cmap.N)\n",
    "cmap.set_under(\"White\")\n",
    "fig, ax = plt.subplots(figsize=(10,10))\n",
    "R=50\n",
    "#clusterR = np.repeat(cluster_map, R, axis=0)\n",
    "#sm = ax.imshow(clusterR, cmap=mcm.Greys)\n",
    "sm = ax.imshow(dist_matrix, cmap=cmap, norm=norm)\n",
    "ax.set_xlabel(\"IPU\")\n",
    "ax.set_ylabel(\"IPU\")\n",
    "#ax.set_yticks(np.arange(R/2, clusterR.shape[0],R))\n",
    "#ax.set_yticklabels(clabels)\n",
    "cb = fig.colorbar(sm, ax=ax, fraction=.04)\n",
    "cb.set_label(\"Frechet Distance\")\n",
    "#ax.set_title(\"IPUs Assigned to Clusters Based on Frechet Distances\")"
   ]
  },
  {
   "cell_type": "code",
   "execution_count": 36,
   "metadata": {
    "collapsed": false
   },
   "outputs": [
    {
     "data": {
      "text/plain": [
       "(array([  58950.,   33000.,  759750.,  567850.,  178100.,   67000.,\n",
       "          21050.,   10050.,    1250.,    1200.]),\n",
       " array([   0.       ,   48.4970001,   96.9940002,  145.4910003,\n",
       "         193.9880004,  242.4850005,  290.9820006,  339.4790007,\n",
       "         387.9760008,  436.4730009,  484.970001 ]),\n",
       " <a list of 10 Patch objects>)"
      ]
     },
     "execution_count": 36,
     "metadata": {},
     "output_type": "execute_result"
    },
    {
     "data": {
      "image/png": "[encoded data removed]",
      "text/plain": [
       "<matplotlib.figure.Figure at 0x351b97f0>"
      ]
     },
     "metadata": {},
     "output_type": "display_data"
    }
   ],
   "source": [
    "plt.hist(clusterR.flatten())"
   ]
  },
  {
   "cell_type": "code",
   "execution_count": 11,
   "metadata": {
    "collapsed": false,
    "scrolled": true
   },
   "outputs": [
    {
     "data": {
      "text/plain": [
       "1213"
      ]
     },
     "execution_count": 11,
     "metadata": {},
     "output_type": "execute_result"
    }
   ],
   "source": [
    "len(cluster.labels_)"
   ]
  },
  {
   "cell_type": "code",
   "execution_count": 12,
   "metadata": {
    "collapsed": false
   },
   "outputs": [],
   "source": [
    "cluster_labels = cluster.labels_"
   ]
  },
  {
   "cell_type": "code",
   "execution_count": 13,
   "metadata": {
    "collapsed": false,
    "scrolled": true
   },
   "outputs": [
    {
     "name": "stdout",
     "output_type": "stream",
     "text": [
      "[ 0  0  0 ..., 26 26 26]\n"
     ]
    }
   ],
   "source": [
    "print cluster_labels"
   ]
  },
  {
   "cell_type": "code",
   "execution_count": 23,
   "metadata": {
    "collapsed": false
   },
   "outputs": [
    {
     "data": {
      "text/plain": [
       "array([0], dtype=int64)"
      ]
     },
     "execution_count": 23,
     "metadata": {},
     "output_type": "execute_result"
    }
   ],
   "source": [
    "np.unique(cluster_labels)"
   ]
  },
  {
   "cell_type": "code",
   "execution_count": 14,
   "metadata": {
    "collapsed": false
   },
   "outputs": [
    {
     "name": "stdout",
     "output_type": "stream",
     "text": [
      "[ 0  0  0 ..., 26 26 26]\n"
     ]
    }
   ],
   "source": [
    "print cluster.labels_"
   ]
  },
  {
   "cell_type": "code",
   "execution_count": 16,
   "metadata": {
    "collapsed": false,
    "scrolled": true
   },
   "outputs": [
    {
     "name": "stdout",
     "output_type": "stream",
     "text": [
      "-1\n",
      "26\n"
     ]
    }
   ],
   "source": [
    "print min(cluster.labels_)\n",
    "print max(cluster.labels_)"
   ]
  },
  {
   "cell_type": "code",
   "execution_count": 15,
   "metadata": {
    "collapsed": false
   },
   "outputs": [],
   "source": [
    "length_cluster_labels = max(cluster.labels_)\n",
    "cluster_labels = cluster.labels_"
   ]
  },
  {
   "cell_type": "code",
   "execution_count": null,
   "metadata": {
    "collapsed": false
   },
   "outputs": [],
   "source": [
    "print len(cluster_labels)"
   ]
  },
  {
   "cell_type": "code",
   "execution_count": 76,
   "metadata": {
    "collapsed": false
   },
   "outputs": [
    {
     "data": {
      "text/plain": [
       "26"
      ]
     },
     "execution_count": 76,
     "metadata": {},
     "output_type": "execute_result"
    }
   ],
   "source": [
    "max(cluster_labels)"
   ]
  },
  {
   "cell_type": "code",
   "execution_count": 17,
   "metadata": {
    "collapsed": false
   },
   "outputs": [],
   "source": [
    "for i in range(len(cluster_labels)):\n",
    "    if cluster_labels[i]==-1:\n",
    "        cluster_labels[i]=27"
   ]
  },
  {
   "cell_type": "markdown",
   "metadata": {},
   "source": [
    "## In which we try to create some visualizations of the cluster features\n",
    "- Note (4/5): When I try to do this with my better distance matrix (halved, and then adding in all of the 0 features with the other half, this breaks - says that the first argument of bincount must be non-negative?  But it's 0, so I don't know what is happening here."
   ]
  },
  {
   "cell_type": "code",
   "execution_count": 18,
   "metadata": {
    "collapsed": false,
    "scrolled": false
   },
   "outputs": [
    {
     "data": {
      "text/plain": [
       "array([ 67,  53,   6,  75,  45,  49,  46,  50,  47,  61,  65,  29,  42,\n",
       "        49,  34,  15, 107,  52,  11,  27,  42,  34,  44,   5,  26,  45,\n",
       "        66,  21], dtype=int64)"
      ]
     },
     "execution_count": 18,
     "metadata": {},
     "output_type": "execute_result"
    }
   ],
   "source": [
    "np.bincount(cluster_labels)"
   ]
  },
  {
   "cell_type": "code",
   "execution_count": null,
   "metadata": {
    "collapsed": true
   },
   "outputs": [],
   "source": []
  },
  {
   "cell_type": "code",
   "execution_count": 19,
   "metadata": {
    "collapsed": false
   },
   "outputs": [],
   "source": [
    "## code by Hannah to get the cluster labels\n",
    "cluster_map = np.empty((cluster_labels.max()+1, dist_matrix.shape[1]))\n",
    "clabels = np.unique(cluster_labels)\n",
    "for label, count in zip(np.unique(cluster_labels), np.bincount(cluster_labels)):\n",
    "       cluster_map[label:,:] = (dist_matrix[cluster_labels==label].mean(axis=0))"
   ]
  },
  {
   "cell_type": "code",
   "execution_count": null,
   "metadata": {
    "collapsed": true
   },
   "outputs": [],
   "source": []
  },
  {
   "cell_type": "code",
   "execution_count": 54,
   "metadata": {
    "collapsed": false
   },
   "outputs": [
    {
     "data": {
      "text/plain": [
       "<matplotlib.text.Text at 0x23504400>"
      ]
     },
     "execution_count": 54,
     "metadata": {},
     "output_type": "execute_result"
    },
    {
     "data": {
      "image/png": "[encoded data removed]",
      "text/plain": [
       "<matplotlib.figure.Figure at 0x2348c3c8>"
      ]
     },
     "metadata": {},
     "output_type": "display_data"
    }
   ],
   "source": [
    "## makes a heatmap of the ipu distances, and the clusters\n",
    "import matplotlib.cm as mcm\n",
    "import matplotlib.colors as mcolors\n",
    "\n",
    "norm = mcolors.Normalize(vmin=0.001)\n",
    "bins = np.arange(0,500,50)\n",
    "bins[0] = clusterR[clusterR>0].min()\n",
    "\n",
    "cmap = mcm.viridis\n",
    "cmap = mcm.Set1\n",
    "norm = mcolors.BoundaryNorm(bins, cmap.N)\n",
    "cmap.set_under(\"White\")\n",
    "fig, ax = plt.subplots(figsize=(10,10))\n",
    "R=50\n",
    "clusterR = np.repeat(cluster_map, R, axis=0)\n",
    "#sm = ax.imshow(clusterR, cmap=mcm.Greys)\n",
    "sm = ax.imshow(clusterR, cmap=cmap, norm=norm)\n",
    "ax.set_xlabel(\"IPU\")\n",
    "ax.set_ylabel(\"Clusters\")\n",
    "ax.set_yticks(np.arange(R/2, clusterR.shape[0],R))\n",
    "ax.set_yticklabels(clabels)\n",
    "cb = fig.colorbar(sm, ax=ax, fraction=.04)\n",
    "cb.set_label(\"Frechet Distance\")\n",
    "ax.set_title(\"IPUs Assigned to Clusters Based on Frechet Distances\")\n",
    "\n",
    "#cb.set_ticks\n",
    "#cb.set_ticklabels\n"
   ]
  },
  {
   "cell_type": "code",
   "execution_count": null,
   "metadata": {
    "collapsed": true
   },
   "outputs": [],
   "source": []
  },
  {
   "cell_type": "code",
   "execution_count": null,
   "metadata": {
    "collapsed": true
   },
   "outputs": [],
   "source": []
  },
  {
   "cell_type": "code",
   "execution_count": null,
   "metadata": {
    "collapsed": true
   },
   "outputs": [],
   "source": []
  },
  {
   "cell_type": "code",
   "execution_count": 40,
   "metadata": {
    "collapsed": false,
    "scrolled": true
   },
   "outputs": [
    {
     "name": "stdout",
     "output_type": "stream",
     "text": [
      "[ 67  53   6  75  45  49  46  50  47  61  65  29  42  49  34  15 107  52\n",
      "  11  27  42  34  44   5  26  45  66  21]\n"
     ]
    }
   ],
   "source": [
    "histo = np.bincount(cluster_labels)\n",
    "print histo"
   ]
  },
  {
   "cell_type": "code",
   "execution_count": null,
   "metadata": {
    "collapsed": false
   },
   "outputs": [],
   "source": [
    "sum(histo)"
   ]
  },
  {
   "cell_type": "markdown",
   "metadata": {},
   "source": [
    "### Notes (3/17/17)\n",
    "- More than half of our data (53.60%) is being assigned to one cluster (in this case, cluster 13)\n",
    "    - I would LOVE to see the labels of what's being assigned to that cluster..."
   ]
  },
  {
   "cell_type": "code",
   "execution_count": null,
   "metadata": {
    "collapsed": false
   },
   "outputs": [],
   "source": [
    "plt.figure()\n",
    "plt.title(\"Number of IPUs assigned to each cluster\")\n",
    "plt.xlabel(\"Cluster number\")\n",
    "plt.ylabel(\"# of IPUs assigned to cluster\")\n",
    "plt.hist(cluster_labels, bins=5)"
   ]
  },
  {
   "cell_type": "code",
   "execution_count": null,
   "metadata": {
    "collapsed": false
   },
   "outputs": [],
   "source": [
    "print cluster_labels"
   ]
  },
  {
   "cell_type": "code",
   "execution_count": null,
   "metadata": {
    "collapsed": true
   },
   "outputs": [],
   "source": []
  },
  {
   "cell_type": "code",
   "execution_count": null,
   "metadata": {
    "collapsed": true
   },
   "outputs": [],
   "source": []
  },
  {
   "cell_type": "markdown",
   "metadata": {},
   "source": [
    "### In which Pablo writes some code to organize feautres by speaker"
   ]
  },
  {
   "cell_type": "code",
   "execution_count": null,
   "metadata": {
    "collapsed": false
   },
   "outputs": [],
   "source": [
    "#This is the code that collects the speaker based feature vectors\n",
    "#This will contain one feature vector per speaker\n",
    "speakerFeatures=[]\n",
    "# THis has the corresponding labels in the same order\n",
    "speakerLabels=[]\n",
    "clusternumber=max(cluster_labels)+1\n",
    "for speakID in ipuID:\n",
    "    full=0\n",
    "    thisFeatVect=np.zeros(clusternumber)\n",
    "    for ipu in ipuID[speakID]:\n",
    "        #get the number for the IPU\n",
    "        ident=ipuID[speakID][ipu]\n",
    "        #get the cluster to which it belongs\n",
    "        cluster=cluster_labels[ident]\n",
    "        if cluster!=-1:\n",
    "        #add 1 to the count of that cluster\n",
    "            thisFeatVect[cluster-1]+=1\n",
    "            full+=1\n",
    "        else:\n",
    "            thisFeatVect[24]+=1\n",
    "            full+=1\n",
    "        \n",
    "    #normalize the counts\n",
    "    normFeatVect=[]\n",
    "    #print len(thisFeatVect)\n",
    "    for item in thisFeatVect:\n",
    "        item=(item*1.0)/full\n",
    "        normFeatVect.append(item)\n",
    "    speakerFeatures.append(normFeatVect)\n",
    "    label=labels.iloc[speakID][\"Language\"]\n",
    "    speakerLabels.append(label)"
   ]
  },
  {
   "cell_type": "code",
   "execution_count": null,
   "metadata": {
    "collapsed": false,
    "scrolled": true
   },
   "outputs": [],
   "source": [
    "###ONLY RUN THIS ONCE, DUMMY\n",
    "print len(speakerLabels)\n",
    "print len (speakerFeatures)\n",
    "speakerFeatures=speakerFeatures[:-1]\n",
    "speakerLabels = speakerLabels[:-1]\n"
   ]
  },
  {
   "cell_type": "code",
   "execution_count": null,
   "metadata": {
    "collapsed": false
   },
   "outputs": [],
   "source": [
    "len(speakerFeatures)"
   ]
  },
  {
   "cell_type": "markdown",
   "metadata": {},
   "source": [
    "### NOTE: talk to Pablo about what this did / does"
   ]
  },
  {
   "cell_type": "markdown",
   "metadata": {},
   "source": [
    "### In which I try to make some percentage features (percentage of ipus assigned to each cluster), and this feature doesn't work as well as using the cluster labels themselves?  Does that make sense?"
   ]
  },
  {
   "cell_type": "code",
   "execution_count": null,
   "metadata": {
    "collapsed": true
   },
   "outputs": [],
   "source": [
    "for i in cluster.labels_:\n",
    "    print i"
   ]
  },
  {
   "cell_type": "code",
   "execution_count": null,
   "metadata": {
    "collapsed": false
   },
   "outputs": [],
   "source": [
    "percentage_out = []\n",
    "for item in histo:\n",
    "    percentage_out.append(item/float(histo.sum()))\n",
    "    \n",
    "print (percentage_out)"
   ]
  },
  {
   "cell_type": "code",
   "execution_count": null,
   "metadata": {
    "collapsed": false
   },
   "outputs": [],
   "source": [
    "## what percentage of ipus are in each cluster?  still not speaker based, I don't think there's a way to do that\n",
    "percent_features = []\n",
    "for i in range(len(percentage_out)):\n",
    "    percentage = [percentage_out[i]]\n",
    "    multiplier = histo[i]\n",
    "    outlist = percentage*multiplier\n",
    "    for item in outlist:\n",
    "        percent_features.append(item)\n",
    "\n",
    "print len(percent_features)\n",
    "    \n",
    "    "
   ]
  },
  {
   "cell_type": "code",
   "execution_count": null,
   "metadata": {
    "collapsed": true
   },
   "outputs": [],
   "source": [
    "ipu_percentages = [[feat] for feat in percent_features]"
   ]
  },
  {
   "cell_type": "code",
   "execution_count": null,
   "metadata": {
    "collapsed": false
   },
   "outputs": [],
   "source": [
    "x = [3]\n",
    "print x*3"
   ]
  },
  {
   "cell_type": "markdown",
   "metadata": {},
   "source": [
    "### A little bit of shit code below - notes from changing things to speaker based from before, but I can't really do that here, I don't think.\n",
    "    "
   ]
  },
  {
   "cell_type": "markdown",
   "metadata": {},
   "source": [
    "speaker_ipu_histograms = []\n",
    "for speaker in all_ipu_coefs:\n",
    "    scaled_ipu = scaler.transform(speaker)\n",
    "    ipu_centers = cluster.predict(scaled_ipu)\n",
    "    histo = np.bincount(ipu_centers, minlength=cluster.n_clusters) #set to to the clusteres we specificied before \n",
    "    #histo = np.bincount(ipu_centers, minlength=cluster.n_clusters) #set to to the clusteres we specificied before \n",
    "    speaker_ipu_histograms.append(histo / float(histo.sum()))"
   ]
  },
  {
   "cell_type": "markdown",
   "metadata": {},
   "source": [
    "only_legendre = pd.DataFrame(speaker_ipu_histograms, columns=[\"cluster%d\" % i for i in range(70)])\n",
    "print only_legendre"
   ]
  },
  {
   "cell_type": "markdown",
   "metadata": {},
   "source": [
    "### Below makes a feature vector using just the label of the cluster as a feature"
   ]
  },
  {
   "cell_type": "code",
   "execution_count": 41,
   "metadata": {
    "collapsed": false
   },
   "outputs": [],
   "source": [
    "features = [ [feat] for feat in cluster_labels ]"
   ]
  },
  {
   "cell_type": "code",
   "execution_count": 83,
   "metadata": {
    "collapsed": true
   },
   "outputs": [
    {
     "name": "stdout",
     "output_type": "stream",
     "text": [
      "[[0], [0], [0], [0], [0], [0], [0], [0], [0], [0], [0], [0], [0], [0], [0], [0], [0], [0], [0], [0], [0], [0], [0], [0], [0], [0], [0], [0], [0], [0], [0], [0], [0], [0], [0], [0], [0], [0], [0], [0], [0], [0], [0], [0], [0], [0], [0], [0], [0], [0], [0], [0], [0], [0], [0], [0], [0], [0], [0], [0], [0], [0], [0], [0], [0], [0], [0], [1], [1], [1], [1], [1], [1], [1], [1], [1], [1], [1], [1], [1], [1], [1], [1], [1], [1], [1], [1], [1], [1], [1], [1], [1], [1], [1], [1], [1], [1], [1], [1], [1], [1], [1], [1], [1], [1], [1], [1], [1], [1], [1], [1], [1], [1], [1], [1], [1], [1], [1], [1], [1], [27], [27], [27], [2], [2], [2], [2], [2], [2], [3], [3], [3], [3], [3], [3], [3], [3], [3], [3], [3], [3], [3], [3], [3], [3], [3], [3], [3], [3], [3], [3], [3], [3], [3], [3], [3], [3], [3], [3], [3], [3], [3], [3], [3], [3], [3], [3], [3], [3], [3], [3], [3], [3], [3], [3], [3], [3], [3], [3], [3], [3], [3], [3], [3], [3], [3], [3], [3], [3], [3], [3], [3], [3], [3], [3], [3], [3], [3], [3], [3], [3], [3], [3], [3], [27], [27], [27], [27], [27], [27], [27], [27], [27], [27], [4], [4], [4], [4], [4], [4], [4], [4], [4], [4], [4], [4], [4], [4], [4], [4], [4], [4], [4], [4], [4], [4], [4], [4], [4], [4], [4], [4], [4], [4], [4], [4], [4], [4], [4], [4], [4], [4], [4], [4], [4], [4], [4], [4], [4], [5], [5], [5], [5], [5], [5], [5], [5], [5], [5], [5], [5], [5], [5], [5], [5], [5], [5], [5], [5], [5], [5], [5], [5], [5], [5], [5], [5], [5], [5], [5], [5], [5], [5], [5], [5], [5], [5], [5], [5], [6], [6], [6], [6], [6], [6], [6], [6], [6], [6], [6], [6], [6], [6], [6], [6], [6], [6], [6], [6], [6], [6], [6], [6], [6], [6], [6], [6], [6], [6], [6], [6], [6], [6], [6], [6], [6], [6], [6], [6], [6], [6], [6], [6], [6], [6], [7], [7], [7], [7], [7], [7], [7], [7], [7], [7], [7], [7], [7], [7], [7], [7], [7], [7], [7], [7], [7], [7], [7], [7], [7], [7], [7], [7], [7], [7], [7], [7], [7], [7], [7], [7], [7], [7], [7], [7], [7], [7], [7], [7], [7], [7], [7], [7], [7], [7], [8], [8], [8], [8], [8], [8], [8], [8], [8], [8], [8], [8], [8], [8], [8], [8], [8], [8], [8], [8], [8], [8], [8], [8], [8], [8], [8], [8], [8], [8], [8], [8], [8], [8], [8], [8], [8], [8], [8], [8], [8], [8], [8], [8], [8], [8], [8], [9], [9], [9], [9], [9], [9], [9], [9], [9], [9], [9], [9], [9], [9], [9], [9], [9], [9], [9], [9], [9], [9], [9], [9], [9], [9], [9], [9], [9], [9], [9], [9], [9], [9], [9], [9], [9], [9], [9], [9], [9], [9], [9], [9], [9], [9], [9], [9], [9], [9], [9], [9], [9], [9], [9], [9], [9], [9], [9], [9], [9], [10], [10], [10], [10], [10], [10], [10], [10], [10], [10], [10], [10], [10], [10], [10], [10], [10], [10], [10], [10], [10], [10], [10], [10], [10], [10], [10], [10], [10], [10], [10], [10], [10], [10], [10], [10], [10], [10], [10], [10], [10], [10], [10], [10], [10], [10], [10], [10], [10], [10], [10], [10], [10], [10], [10], [10], [10], [10], [10], [10], [10], [10], [10], [10], [10], [11], [11], [11], [11], [11], [11], [11], [11], [11], [11], [11], [11], [11], [11], [11], [11], [11], [11], [11], [11], [11], [11], [11], [11], [11], [11], [11], [11], [11], [12], [12], [12], [12], [12], [12], [12], [12], [12], [12], [12], [12], [12], [12], [12], [12], [12], [12], [12], [12], [12], [12], [12], [12], [12], [12], [12], [12], [12], [12], [12], [12], [12], [12], [12], [12], [12], [12], [12], [12], [12], [12], [13], [13], [13], [13], [13], [13], [13], [13], [13], [13], [13], [13], [13], [13], [13], [13], [13], [13], [13], [13], [13], [13], [13], [13], [13], [13], [13], [13], [13], [13], [13], [13], [13], [13], [13], [13], [13], [13], [13], [13], [13], [13], [13], [13], [13], [13], [13], [13], [13], [27], [27], [27], [14], [14], [14], [14], [14], [14], [14], [14], [14], [14], [14], [14], [14], [14], [14], [14], [14], [14], [14], [14], [14], [14], [14], [14], [14], [14], [14], [14], [14], [14], [14], [14], [14], [14], [15], [15], [15], [15], [15], [15], [15], [15], [15], [15], [15], [15], [15], [15], [15], [16], [16], [16], [16], [16], [16], [16], [16], [16], [16], [16], [16], [16], [16], [16], [16], [16], [16], [16], [16], [16], [16], [16], [16], [16], [16], [16], [16], [16], [16], [16], [16], [16], [16], [16], [16], [16], [16], [16], [16], [16], [16], [16], [16], [16], [16], [16], [16], [16], [16], [16], [16], [16], [16], [16], [16], [16], [16], [16], [16], [16], [16], [16], [16], [16], [16], [16], [16], [16], [16], [16], [16], [16], [16], [16], [16], [16], [16], [16], [16], [16], [16], [16], [16], [16], [16], [16], [16], [16], [16], [16], [16], [16], [16], [16], [16], [16], [16], [16], [16], [16], [16], [16], [16], [16], [16], [16], [27], [27], [27], [27], [17], [17], [17], [17], [17], [17], [17], [17], [17], [17], [17], [17], [17], [17], [17], [17], [17], [17], [17], [17], [17], [17], [17], [17], [17], [17], [17], [17], [17], [17], [17], [17], [17], [17], [17], [17], [17], [17], [17], [17], [17], [17], [17], [17], [17], [17], [17], [17], [17], [17], [17], [17], [5], [5], [5], [5], [5], [5], [5], [5], [5], [18], [18], [18], [18], [18], [18], [18], [18], [18], [18], [18], [19], [19], [19], [19], [19], [19], [19], [19], [19], [19], [19], [19], [19], [19], [19], [19], [19], [19], [19], [19], [19], [19], [19], [19], [19], [19], [19], [20], [20], [20], [20], [20], [20], [20], [20], [20], [20], [20], [20], [20], [20], [20], [20], [20], [20], [20], [20], [20], [20], [20], [20], [20], [20], [20], [20], [20], [20], [20], [20], [20], [20], [20], [20], [20], [20], [20], [20], [20], [20], [21], [21], [21], [21], [21], [21], [21], [21], [21], [21], [21], [21], [21], [21], [21], [21], [21], [21], [21], [21], [21], [21], [21], [21], [21], [21], [21], [21], [21], [21], [21], [21], [21], [21], [22], [22], [22], [22], [22], [22], [22], [22], [22], [22], [22], [22], [22], [22], [22], [22], [22], [22], [22], [22], [22], [22], [22], [22], [22], [22], [22], [22], [22], [22], [22], [22], [22], [22], [22], [22], [22], [22], [22], [22], [22], [22], [22], [22], [23], [23], [23], [23], [23], [24], [24], [24], [24], [24], [24], [24], [24], [24], [24], [24], [24], [24], [24], [24], [24], [24], [24], [24], [24], [24], [24], [24], [24], [24], [24], [25], [25], [25], [25], [25], [25], [25], [25], [25], [25], [25], [25], [25], [25], [25], [25], [25], [25], [25], [25], [25], [25], [25], [25], [25], [25], [25], [25], [25], [25], [25], [25], [25], [25], [25], [25], [25], [25], [25], [25], [25], [25], [25], [25], [25], [27], [26], [26], [26], [26], [26], [26], [26], [26], [26], [26], [26], [26], [26], [26], [26], [26], [26], [26], [26], [26], [26], [26], [26], [26], [26], [26], [26], [26], [26], [26], [26], [26], [26], [26], [26], [26], [26], [26], [26], [26], [26], [26], [26], [26], [26], [26], [26], [26], [26], [26], [26], [26], [26], [26], [26], [26], [26], [26], [26], [26], [26], [26], [26], [26], [26], [26]]\n"
     ]
    }
   ],
   "source": [
    "print features"
   ]
  },
  {
   "cell_type": "code",
   "execution_count": 42,
   "metadata": {
    "collapsed": true
   },
   "outputs": [],
   "source": [
    "clf_labels = [IDtoLabel[i]for i in range(len(features))]"
   ]
  },
  {
   "cell_type": "code",
   "execution_count": null,
   "metadata": {
    "collapsed": true
   },
   "outputs": [],
   "source": [
    "print clf_labels"
   ]
  },
  {
   "cell_type": "markdown",
   "metadata": {},
   "source": [
    "### Here, we make more visualizations of the data (useful histograms)"
   ]
  },
  {
   "cell_type": "code",
   "execution_count": 43,
   "metadata": {
    "collapsed": false
   },
   "outputs": [],
   "source": [
    "langlab = zip(clf_labels, cluster_labels)\n",
    "import collections\n",
    "c = dict(collections.Counter(langlab))"
   ]
  },
  {
   "cell_type": "code",
   "execution_count": 44,
   "metadata": {
    "collapsed": true
   },
   "outputs": [],
   "source": [
    "lcounts = {'English':np.zeros(clabels.max()+1), 'Mandarin':np.zeros(clabels.max()+1)}"
   ]
  },
  {
   "cell_type": "code",
   "execution_count": 45,
   "metadata": {
    "collapsed": false
   },
   "outputs": [],
   "source": [
    "for ((lang, clust), count) in c.items():\n",
    "    lcounts[lang][clust] = count\n",
    "   "
   ]
  },
  {
   "cell_type": "code",
   "execution_count": 57,
   "metadata": {
    "collapsed": false
   },
   "outputs": [
    {
     "data": {
      "text/plain": [
       "<matplotlib.text.Text at 0x27deb6a0>"
      ]
     },
     "execution_count": 57,
     "metadata": {},
     "output_type": "execute_result"
    },
    {
     "data": {
      "image/png": "[encoded data removed]",
      "text/plain": [
       "<matplotlib.figure.Figure at 0x22c64208>"
      ]
     },
     "metadata": {},
     "output_type": "display_data"
    }
   ],
   "source": [
    "fig, ax = plt.subplots(figsize=(15,5))\n",
    "ax.bar(clabels, lcounts['English'], label=\"English\")\n",
    "ax.bar(clabels, lcounts['Mandarin'], bottom=lcounts['English'], label=\"Mandarin\")\n",
    "ax.set_xticks(clabels)\n",
    "ax.legend()\n",
    "ax.set_ylim((0,200))\n",
    "ax.set_xlabel(\"Clusters\")\n",
    "ax.set_ylabel(\"Number of IPUs assigned to cluster\")\n",
    "ax.set_title(\"Number of IPUs Assigned to Clusters by Native Language\")"
   ]
  },
  {
   "cell_type": "code",
   "execution_count": 89,
   "metadata": {
    "collapsed": true
   },
   "outputs": [
    {
     "data": {
      "text/plain": [
       "{'English': array([ 67.,  53.,   0.,   0.,  45.,  40.,   0.,  50.,  47.,  61.,   0.,\n",
       "         29.,  42.,  49.,  34.,   0.,   0.,   0.,   0.,   0.,   0.,   0.,\n",
       "          0.,   0.,   0.,   0.,   0.,  11.]),\n",
       " 'Mandarin': array([   0.,    0.,    6.,   75.,    0.,    9.,   46.,    0.,    0.,\n",
       "           0.,   65.,    0.,    0.,    0.,    0.,   15.,  107.,   52.,\n",
       "          11.,   27.,   42.,   34.,   44.,    5.,   26.,   45.,   66.,   10.])}"
      ]
     },
     "execution_count": 89,
     "metadata": {},
     "output_type": "execute_result"
    }
   ],
   "source": [
    "lcounts"
   ]
  },
  {
   "cell_type": "code",
   "execution_count": 40,
   "metadata": {
    "collapsed": false
   },
   "outputs": [
    {
     "name": "stdout",
     "output_type": "stream",
     "text": [
      "1213 1213\n"
     ]
    }
   ],
   "source": [
    "print len(features),len(clf_labels)"
   ]
  },
  {
   "cell_type": "code",
   "execution_count": null,
   "metadata": {
    "collapsed": false
   },
   "outputs": [],
   "source": [
    "print len(speakerFeatures[0])"
   ]
  },
  {
   "cell_type": "code",
   "execution_count": null,
   "metadata": {
    "collapsed": false,
    "scrolled": true
   },
   "outputs": [],
   "source": [
    "count = 0\n",
    "thirteen_labels = []\n",
    "for i in range(len(features)):\n",
    "    if features[i][0]==13:\n",
    "        labs = clf_labels[i]\n",
    "        thirteen_labels.append(labs)\n",
    "print thirteen_labels"
   ]
  },
  {
   "cell_type": "markdown",
   "metadata": {
    "collapsed": true
   },
   "source": [
    "#### More analysis, 3/17/17 \n",
    "Holy crap.  Apart from cluster 13, each other cluster contains it in only IPUs with the same label.  Each other cluster is 100% labeled as English or labeled as Mandarin.  That is pretty damn cool.\n",
    "What are we clustering by again?  IPU distance?  So the centers are distances, I think?  This is showing us a lot of solid, strong evidence that the distances are clusterable.  \n",
    "\n",
    "53.6% of our data (so like 54% of our data / our distances) are being assigned to cluster 13.  Within cluster 13, English labels (ipu distances) make up 54.71% of that cluster, and Mandarin labels (ipu distances) make up 45.29% of that cluster.  Slight majority to English, but I bet that we could super cut this down.\n",
    "\n",
    "What might this mean?\n",
    "- This could mean that cluster 13 is where our distances are similar - they *are* all speaking English, after all\n",
    "- This could also mean that this is where some of our distance computing errors might be (halving/doubling errors in computing distancs might make some of the distances between native and non-native language groups look more similar)\n",
    "- This indicates that for slightly less than half of our data (approx 46%), the distances between native and non-native question contours are VERY SEPERABLE - different enough that they are getting assigned to different clusters, and these clusters are contain strictly within-label distances.  \n",
    "\n",
    "## NOTE:\n",
    "As of 3/17/17, IPU only cluster features give us 78% accuracy.  Just to verify this all still is working.  78% is not bad."
   ]
  },
  {
   "cell_type": "code",
   "execution_count": null,
   "metadata": {
    "collapsed": false
   },
   "outputs": [],
   "source": [
    "eng_count = 0\n",
    "man_count = 0\n",
    "for item in thirteen_labels:\n",
    "    if item[0] == \"E\":\n",
    "        eng_count = eng_count+1\n",
    "    else:\n",
    "        man_count = man_count+1\n",
    "        \n",
    "eng_percent = float(eng_count)/len(thirteen_labels)\n",
    "man_percent = float(man_count)/len(thirteen_labels)\n",
    "\n",
    "print eng_percent\n",
    "print man_percent"
   ]
  },
  {
   "cell_type": "code",
   "execution_count": null,
   "metadata": {
    "collapsed": true
   },
   "outputs": [],
   "source": []
  },
  {
   "cell_type": "code",
   "execution_count": null,
   "metadata": {
    "collapsed": true
   },
   "outputs": [],
   "source": []
  },
  {
   "cell_type": "code",
   "execution_count": null,
   "metadata": {
    "collapsed": true
   },
   "outputs": [],
   "source": []
  },
  {
   "cell_type": "code",
   "execution_count": null,
   "metadata": {
    "collapsed": true
   },
   "outputs": [],
   "source": []
  },
  {
   "cell_type": "code",
   "execution_count": 63,
   "metadata": {
    "collapsed": false
   },
   "outputs": [
    {
     "name": "stderr",
     "output_type": "stream",
     "text": [
      "C:\\Users\\Rachel\\AppData\\Local\\Continuum\\Anaconda2\\lib\\site-packages\\sklearn\\cross_validation.py:44: DeprecationWarning: This module was deprecated in version 0.18 in favor of the model_selection module into which all the refactored classes and functions are moved. Also note that the interface of the new CV iterators are different from that of this module. This module will be removed in 0.20.\n",
      "  \"This module will be removed in 0.20.\", DeprecationWarning)\n"
     ]
    }
   ],
   "source": [
    "from sklearn.cross_validation import cross_val_score\n",
    "from sklearn.cross_validation import train_test_split\n",
    "from sklearn.cross_validation import ShuffleSplit"
   ]
  },
  {
   "cell_type": "code",
   "execution_count": 90,
   "metadata": {
    "collapsed": false
   },
   "outputs": [
    {
     "name": "stdout",
     "output_type": "stream",
     "text": [
      "{'C': 0.1, 'gamma': 1}\n",
      "0.984598459846\n"
     ]
    }
   ],
   "source": [
    "param_grid = {'C': [0.001, 0.01, 0.1, 1, 10, 100],\n",
    "              'gamma': [0.001, 0.01, 0.1, 1, 10, 100]}\n",
    "\n",
    "\n",
    "\n",
    "#param_grid = {'C': [0.001, 0.01, 0.1, 1, 10, 100]}\n",
    "\n",
    "from sklearn.grid_search import GridSearchCV\n",
    "from sklearn.svm import SVC\n",
    "#rom sklearn.svm import LinearSVC\n",
    "grid_search = GridSearchCV(SVC(), param_grid, cv=10)\n",
    "\n",
    "#X_train, X_test, y_train, y_test = train_test_split(features, clf_labels, random_state=0)\n",
    "X_train, X_test, y_train, y_test = train_test_split(features, clf_labels, random_state=0)\n",
    "grid_search.fit(X_train, y_train)\n",
    "\n",
    "print(grid_search.best_params_)\n",
    "print(grid_search.best_score_)"
   ]
  },
  {
   "cell_type": "code",
   "execution_count": 61,
   "metadata": {
    "collapsed": false
   },
   "outputs": [],
   "source": [
    "####print len(speakerFeatures)"
   ]
  },
  {
   "cell_type": "code",
   "execution_count": null,
   "metadata": {
    "collapsed": true
   },
   "outputs": [],
   "source": [
    "from sklearn.preprocessing "
   ]
  },
  {
   "cell_type": "code",
   "execution_count": 64,
   "metadata": {
    "collapsed": false
   },
   "outputs": [
    {
     "name": "stdout",
     "output_type": "stream",
     "text": [
      "[ 0.97039474  0.97368421  0.99342105  0.98026316  0.98355263  0.99013158\n",
      "  0.97697368  0.98684211  0.98026316  0.97039474]\n",
      "0.980592105263\n"
     ]
    }
   ],
   "source": [
    "from sklearn.svm import SVC\n",
    "classifier = SVC(C=0.1, gamma=1)\n",
    "from sklearn.cross_validation import ShuffleSplit\n",
    "from sklearn.cross_validation import cross_val_score\n",
    "shuffle_split = ShuffleSplit(1213, n_iter= 10, test_size=.25, train_size=.75)\n",
    "shuffle_score = cross_val_score(classifier, features, clf_labels, cv=shuffle_split)\n",
    "print shuffle_score\n",
    "print shuffle_score.mean()"
   ]
  },
  {
   "cell_type": "code",
   "execution_count": 44,
   "metadata": {
    "collapsed": false
   },
   "outputs": [
    {
     "name": "stdout",
     "output_type": "stream",
     "text": [
      "0.980263157895\n"
     ]
    }
   ],
   "source": [
    "from sklearn.svm import SVC\n",
    "classifier = SVC(C=1, gamma = 10)\n",
    "\n",
    "X_train, X_test, y_train, y_test = train_test_split(features, clf_labels, random_state=0)\n",
    "classifier.fit(X_train, y_train)\n",
    "score = classifier.score(X_test, y_test)\n",
    "print score"
   ]
  },
  {
   "cell_type": "code",
   "execution_count": null,
   "metadata": {
    "collapsed": true
   },
   "outputs": [],
   "source": [
    "count_Eng = 0\n",
    "count_Man = 0\n",
    "total_Eng = 0\n",
    "total_Man= 0\n",
    "count_full = 0\n",
    "total_instances=0\n",
    "man_dist = []\n",
    "eng_dist = []\n",
    "full_dist = []\n",
    "for i in range(len(dist_matrix)):\n",
    "    for j in range(len(dist_matrix)):\n",
    "        if IDtoLabel[i]==IDtoLabel[j]:\n",
    "            if IDtoLabel[i]==\"English\":\n",
    "                count_Eng+= dist_matrix[i][j]\n",
    "                eng_dist.append(dist_matrix[i][j])\n",
    "                total_Eng+=1\n",
    "            else:\n",
    "                count_Man+= dist_matrix[i][j]\n",
    "                man_dist.append(dist_matrix[i][j])\n",
    "                total_Man+=1\n",
    "        count_full+= dist_matrix[i][j]\n",
    "        total_instances+=1\n",
    "        full_dist.append(dist_matrix[i][j])\n",
    "\n",
    "        "
   ]
  },
  {
   "cell_type": "code",
   "execution_count": null,
   "metadata": {
    "collapsed": true
   },
   "outputs": [],
   "source": [
    "avg_dist_Eng = count_Eng/float(total_Eng)\n",
    "avg_dist_Man = count_Man/float(total_Man)\n",
    "avg_dist = count_full/float(total_instances)"
   ]
  },
  {
   "cell_type": "markdown",
   "metadata": {},
   "source": [
    "## Summary of results (speaker-based features) (8/30)\n",
    "Why haven't I written this into my paper yet?  When did I do this?  I have 0 memory of this but that isn't necessary surprising.  Saves me work, though!  I believe me.\n",
    "- With an eps of 2.0, we get 23 clusters, which is very close to creating one cluster per speaker.  By creating a binary feature vector, assigning each speaker to a cluster, we do pretty badly - hovering around 50% accuracy.  \n",
    "- Eps of 6.0, we do better - 8 clusters, 63% accurate.  But this is still not as good as just using the clusters as binary features on their own.\n"
   ]
  },
  {
   "cell_type": "markdown",
   "metadata": {},
   "source": [
    "## (6/29) SUMMARY OF RESULTS (with all but 7 of the IPUs).\n",
    "### NOTE: STILL MAY NOT BE TOTALLY CORRECT (check distance matrix and frechet distances, results are still suspiciously high)\n",
    "NOTE:  This is with an eps of 2.0\n",
    "- English IPUs are closer to each other than to random distances\n",
    "- English IPUs are closer to each other than Mandarin IPUs\n",
    "- Mandarin IPUs are also closer to each other than they are to random distances\n",
    "- All of this is statistically significant"
   ]
  },
  {
   "cell_type": "code",
   "execution_count": null,
   "metadata": {
    "collapsed": false
   },
   "outputs": [],
   "source": [
    "print avg_dist_Eng\n",
    "print avg_dist_Man\n",
    "print avg_dist"
   ]
  },
  {
   "cell_type": "code",
   "execution_count": null,
   "metadata": {
    "collapsed": false
   },
   "outputs": [],
   "source": [
    "from scipy.stats import ttest_ind\n",
    "p_eng = ttest_ind(eng_dist, full_dist)\n",
    "p_man = ttest_ind(man_dist,full_dist)\n",
    "print p_eng\n",
    "print p_man"
   ]
  },
  {
   "cell_type": "code",
   "execution_count": null,
   "metadata": {
    "collapsed": false
   },
   "outputs": [],
   "source": [
    "distance_labels = pd.DataFrame"
   ]
  },
  {
   "cell_type": "code",
   "execution_count": null,
   "metadata": {
    "collapsed": false
   },
   "outputs": [],
   "source": [
    "type(labels.iloc[5])"
   ]
  },
  {
   "cell_type": "markdown",
   "metadata": {},
   "source": [
    "count = 0\n",
    "for item in distances.iterrows():\n",
    "    speakerID =  item[1][1]\n",
    "    if speakersID == count:\n",
    "        lab = label.iloc[count][0]\n",
    "        distance_labels.append(lab)\n",
    "    else:"
   ]
  },
  {
   "cell_type": "code",
   "execution_count": 66,
   "metadata": {
    "collapsed": false
   },
   "outputs": [],
   "source": [
    "cross_val_score?"
   ]
  },
  {
   "cell_type": "code",
   "execution_count": null,
   "metadata": {
    "collapsed": true
   },
   "outputs": [],
   "source": []
  }
 ],
 "metadata": {
  "anaconda-cloud": {},
  "kernelspec": {
   "display_name": "Python [default]",
   "language": "python",
   "name": "python2"
  },
  "language_info": {
   "codemirror_mode": {
    "name": "ipython",
    "version": 2
   },
   "file_extension": ".py",
   "mimetype": "text/x-python",
   "name": "python",
   "nbconvert_exporter": "python",
   "pygments_lexer": "ipython2",
   "version": "2.7.12"
  }
 },
 "nbformat": 4,
 "nbformat_minor": 0
}
