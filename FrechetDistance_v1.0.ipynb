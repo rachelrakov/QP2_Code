{
 "cells": [
  {
   "cell_type": "code",
   "execution_count": 1,
   "metadata": {
    "collapsed": false
   },
   "outputs": [],
   "source": [
    "import os\n",
    "import pandas as pd\n",
    "import numpy as np\n",
    "#from Tkinter import *\n",
    "#import tkSnack\n",
    "#root = Tk()\n",
    "#tkSnack.initializeSnack(root)\n",
    "\n",
    "import matplotlib.pyplot as plt\n",
    "%matplotlib notebook"
   ]
  },
  {
   "cell_type": "code",
   "execution_count": 2,
   "metadata": {
    "collapsed": false,
    "scrolled": true
   },
   "outputs": [],
   "source": [
    "path = \"c:/Python27/qp2_py/frechet_distance/current_results/\"\n",
    "allFiles = os.listdir(path)\n",
    "for name in allFiles:\n",
    "    fname = path+name\n",
    "    distances = pd.read_csv(fname, sep=\"_\", header=None)\n",
    "#print distances"
   ]
  },
  {
   "cell_type": "code",
   "execution_count": null,
   "metadata": {
    "collapsed": true
   },
   "outputs": [],
   "source": []
  },
  {
   "cell_type": "code",
   "execution_count": 3,
   "metadata": {
    "collapsed": false
   },
   "outputs": [],
   "source": [
    "distances.columns= [\"speakerID\", \"speakerIPU\", \"comp_speaker\", \"comp_speakerIPU\",\"frechetdistance\"]"
   ]
  },
  {
   "cell_type": "code",
   "execution_count": null,
   "metadata": {
    "collapsed": true
   },
   "outputs": [],
   "source": [
    "distances"
   ]
  },
  {
   "cell_type": "markdown",
   "metadata": {},
   "source": [
    "### Divide the dataframe in half or so"
   ]
  },
  {
   "cell_type": "code",
   "execution_count": null,
   "metadata": {
    "collapsed": true
   },
   "outputs": [],
   "source": [
    "split = 10\n",
    "distances_test = distances[distances[\"speakerID\"]< split]\n",
    "distances_train = distances[distances[\"speakerID\"]>=split]"
   ]
  },
  {
   "cell_type": "code",
   "execution_count": null,
   "metadata": {
    "collapsed": false,
    "scrolled": true
   },
   "outputs": [],
   "source": [
    "distances_test"
   ]
  },
  {
   "cell_type": "code",
   "execution_count": null,
   "metadata": {
    "collapsed": true
   },
   "outputs": [],
   "source": [
    "speakers = distances_train[\"speakerID\"]"
   ]
  },
  {
   "cell_type": "code",
   "execution_count": null,
   "metadata": {
    "collapsed": false
   },
   "outputs": [],
   "source": [
    "distances_train.groupby([\"speakerID\"]).size()"
   ]
  },
  {
   "cell_type": "markdown",
   "metadata": {
    "collapsed": true
   },
   "source": [
    "### A little bit of notetaking code to make sure we aren't missing things.  Which we probably still are"
   ]
  },
  {
   "cell_type": "code",
   "execution_count": null,
   "metadata": {
    "collapsed": false
   },
   "outputs": [],
   "source": [
    "results = pd.read_csv(\"C:/Python27/qp2_py/frechet_distance/results_4_17.txt\", sep=\"_\", header=None)"
   ]
  },
  {
   "cell_type": "code",
   "execution_count": null,
   "metadata": {
    "collapsed": true
   },
   "outputs": [],
   "source": [
    "check = pd.read_csv(\"C:/Python27/qp2_py/frechet_distance/check_ipus.txt\", sep=\" \", header=None)"
   ]
  },
  {
   "cell_type": "code",
   "execution_count": null,
   "metadata": {
    "collapsed": true
   },
   "outputs": [],
   "source": [
    "check"
   ]
  },
  {
   "cell_type": "code",
   "execution_count": null,
   "metadata": {
    "collapsed": false,
    "scrolled": true
   },
   "outputs": [],
   "source": [
    "linecounts = [int(f) for f in list(check[1])]"
   ]
  },
  {
   "cell_type": "code",
   "execution_count": null,
   "metadata": {
    "collapsed": true
   },
   "outputs": [],
   "source": []
  },
  {
   "cell_type": "code",
   "execution_count": null,
   "metadata": {
    "collapsed": false
   },
   "outputs": [],
   "source": [
    "s1 = list(results[0])\n",
    "s1_ipus = list(results[1])\n",
    "s2 = list(results[2])\n",
    "s2_ipus = list(results[3])"
   ]
  },
  {
   "cell_type": "code",
   "execution_count": null,
   "metadata": {
    "collapsed": false
   },
   "outputs": [],
   "source": [
    "comparisons = zip(s1, s1_ipus, s2, s2_ipus)"
   ]
  },
  {
   "cell_type": "code",
   "execution_count": null,
   "metadata": {
    "collapsed": true
   },
   "outputs": [],
   "source": [
    "comp_dict = {}\n",
    "for comp in comparisons:\n",
    "    comp_dict[comp] = True"
   ]
  },
  {
   "cell_type": "code",
   "execution_count": null,
   "metadata": {
    "collapsed": false,
    "scrolled": true
   },
   "outputs": [],
   "source": [
    "len(comparisons)"
   ]
  },
  {
   "cell_type": "code",
   "execution_count": null,
   "metadata": {
    "collapsed": false,
    "scrolled": true
   },
   "outputs": [],
   "source": [
    "sum(linecounts[:41])"
   ]
  },
  {
   "cell_type": "code",
   "execution_count": null,
   "metadata": {
    "collapsed": false
   },
   "outputs": [],
   "source": [
    "(367*6)+(740*6)"
   ]
  },
  {
   "cell_type": "code",
   "execution_count": null,
   "metadata": {
    "collapsed": true
   },
   "outputs": [],
   "source": [
    "for i in range(41):\n",
    "    print i\n",
    "    for j in range(linecounts[i]):\n",
    "        for k in range(i+1, 41):\n",
    "            for l in range(linecounts[k]):\n",
    "                if k!= 26 and (i,j,k,l) not in comp_dict:\n",
    "                    print (i,j,k,l)"
   ]
  },
  {
   "cell_type": "markdown",
   "metadata": {},
   "source": [
    "### Import labels because that's important"
   ]
  },
  {
   "cell_type": "code",
   "execution_count": 4,
   "metadata": {
    "collapsed": true
   },
   "outputs": [],
   "source": [
    "labels = pd.read_csv(\"c:/Python27/qp2_py/labels/labels41_onlyqs.csv\")"
   ]
  },
  {
   "cell_type": "code",
   "execution_count": null,
   "metadata": {
    "collapsed": false,
    "scrolled": true
   },
   "outputs": [],
   "source": [
    "print labels"
   ]
  },
  {
   "cell_type": "code",
   "execution_count": null,
   "metadata": {
    "collapsed": false
   },
   "outputs": [],
   "source": [
    "labels.iloc[0][\"Language\"]"
   ]
  },
  {
   "cell_type": "code",
   "execution_count": null,
   "metadata": {
    "collapsed": false
   },
   "outputs": [],
   "source": [
    "labs_test = labels.iloc[:10][\"Language\"]\n",
    "labs_train = labels.iloc[10:][\"Language\"]"
   ]
  },
  {
   "cell_type": "code",
   "execution_count": null,
   "metadata": {
    "collapsed": false
   },
   "outputs": [],
   "source": [
    "labs_train"
   ]
  },
  {
   "cell_type": "markdown",
   "metadata": {},
   "source": [
    "df.index = df.Year\n",
    "df.loc[1913:1914]"
   ]
  },
  {
   "cell_type": "code",
   "execution_count": null,
   "metadata": {
    "collapsed": true
   },
   "outputs": [],
   "source": [
    "####To figure out how big my matrix should be\n",
    "from collections import defaultdict\n",
    "ipuID = defaultdict(lambda:{})\n",
    "IDtoLabel = defaultdict(str)\n",
    "count = 0\n",
    "for item in distances_train.iterrows():\n",
    "    speakerID =  item[1][\"speakerID\"]\n",
    "    speakerIPU = item[1][\"speakerIPU\"]\n",
    "    speakerID = int(speakerID)\n",
    "    speakerIPU = int(speakerIPU)\n",
    "    if speakerIPU not in ipuID[speakerID]:\n",
    "        ipuID[speakerID][speakerIPU]=count\n",
    "        IDtoLabel[count] = labels.iloc[speakerID][0]\n",
    "        count +=1"
   ]
  },
  {
   "cell_type": "code",
   "execution_count": null,
   "metadata": {
    "collapsed": false
   },
   "outputs": [],
   "source": [
    "train_count = count"
   ]
  },
  {
   "cell_type": "code",
   "execution_count": 5,
   "metadata": {
    "collapsed": false
   },
   "outputs": [],
   "source": [
    "###### I fixed it!  I fixed something!!!\n",
    "from collections import defaultdict\n",
    "ipuID = defaultdict(lambda:{})\n",
    "IDtoLabel = defaultdict(str)\n",
    "count = 0\n",
    "for item in distances.iterrows():\n",
    "    speakerID =  item[1][\"speakerID\"]\n",
    "    speakerIPU = item[1][\"speakerIPU\"]\n",
    "    speakerID = int(speakerID)\n",
    "    speakerIPU = int(speakerIPU)\n",
    "    if speakerIPU not in ipuID[speakerID]:\n",
    "        ipuID[speakerID][speakerIPU]=count\n",
    "        IDtoLabel[count] = labels.iloc[speakerID][0]\n",
    "        count +=1"
   ]
  },
  {
   "cell_type": "code",
   "execution_count": null,
   "metadata": {
    "collapsed": true
   },
   "outputs": [],
   "source": []
  },
  {
   "cell_type": "code",
   "execution_count": null,
   "metadata": {
    "collapsed": false
   },
   "outputs": [],
   "source": [
    "print IDtoLabel[0]"
   ]
  },
  {
   "cell_type": "code",
   "execution_count": null,
   "metadata": {
    "collapsed": false
   },
   "outputs": [],
   "source": [
    "count"
   ]
  },
  {
   "cell_type": "code",
   "execution_count": null,
   "metadata": {
    "collapsed": false
   },
   "outputs": [],
   "source": [
    "count**2"
   ]
  },
  {
   "cell_type": "code",
   "execution_count": null,
   "metadata": {
    "collapsed": false
   },
   "outputs": [],
   "source": [
    "###labels.iloc[speakID][\"Language\"]"
   ]
  },
  {
   "cell_type": "code",
   "execution_count": 6,
   "metadata": {
    "collapsed": true
   },
   "outputs": [],
   "source": [
    "dist_matrix = np.zeros([count,count])"
   ]
  },
  {
   "cell_type": "code",
   "execution_count": null,
   "metadata": {
    "collapsed": false
   },
   "outputs": [],
   "source": [
    "dist_matrix = np.zeros([train_count,train_count])"
   ]
  },
  {
   "cell_type": "code",
   "execution_count": null,
   "metadata": {
    "collapsed": false
   },
   "outputs": [],
   "source": [
    "dist_matrix"
   ]
  },
  {
   "cell_type": "code",
   "execution_count": 7,
   "metadata": {
    "collapsed": true
   },
   "outputs": [],
   "source": [
    "for item in distances.iterrows():\n",
    "    speakerID = item[1][\"speakerID\"]\n",
    "    speakerIPU = item[1][\"speakerIPU\"]\n",
    "    compared_speaker = item[1][\"comp_speaker\"]\n",
    "    compared_IPU = item[1][\"comp_speakerIPU\"]\n",
    "    distance = item[1][\"frechetdistance\"]\n",
    "    if compared_IPU in ipuID[compared_speaker]:\n",
    "        id1 = ipuID[speakerID][speakerIPU]\n",
    "        id2 = ipuID[compared_speaker][compared_IPU]\n",
    "        dist_matrix[id1,id2] = distance"
   ]
  },
  {
   "cell_type": "code",
   "execution_count": null,
   "metadata": {
    "collapsed": false
   },
   "outputs": [],
   "source": [
    "####### trying to train the matrix on half of the data\n",
    "for item in distances_train.iterrows():\n",
    "    speakerID = item[1][\"speakerID\"]\n",
    "    speakerIPU = item[1][\"speakerIPU\"]\n",
    "    compared_speaker = item[1][\"comp_speaker\"]\n",
    "    compared_IPU = item[1][\"comp_speakerIPU\"]\n",
    "    distance = item[1][\"frechetdistance\"]\n",
    "    if compared_IPU in ipuID[compared_speaker]:\n",
    "        id1 = ipuID[speakerID][speakerIPU]\n",
    "        id2 = ipuID[compared_speaker][compared_IPU]\n",
    "        dist_matrix[id1,id2] = distance"
   ]
  },
  {
   "cell_type": "code",
   "execution_count": null,
   "metadata": {
    "collapsed": false
   },
   "outputs": [],
   "source": [
    "dist_matrix"
   ]
  },
  {
   "cell_type": "code",
   "execution_count": null,
   "metadata": {
    "collapsed": false
   },
   "outputs": [],
   "source": [
    "dist_matrix"
   ]
  },
  {
   "cell_type": "code",
   "execution_count": null,
   "metadata": {
    "collapsed": false,
    "scrolled": true
   },
   "outputs": [],
   "source": [
    "dist2 == dist_matrix.T"
   ]
  },
  {
   "cell_type": "markdown",
   "metadata": {},
   "source": [
    "### In which I try to fill the rest of these zeroes with the inverse?"
   ]
  },
  {
   "cell_type": "code",
   "execution_count": null,
   "metadata": {
    "collapsed": false
   },
   "outputs": [],
   "source": [
    "print len(dist_matrix)\n",
    "print len(dist_matrix[0])"
   ]
  },
  {
   "cell_type": "code",
   "execution_count": 8,
   "metadata": {
    "collapsed": false
   },
   "outputs": [],
   "source": [
    "dist2 = dist_matrix\n",
    "#dist2 = distances_train"
   ]
  },
  {
   "cell_type": "code",
   "execution_count": 9,
   "metadata": {
    "collapsed": false
   },
   "outputs": [],
   "source": [
    "for i in range(len(dist_matrix)):\n",
    "    for j in range(len(dist_matrix[0])):\n",
    "        dist2[j][i]=dist_matrix[i][j]"
   ]
  },
  {
   "cell_type": "code",
   "execution_count": null,
   "metadata": {
    "collapsed": false
   },
   "outputs": [],
   "source": [
    "for i in range(len(distances_train)):\n",
    "    print distances_train[i]\n",
    "    break\n",
    "    for j in range(len(distances_train[0])):\n",
    "        dist2[j][i]=distances_train[i][j]"
   ]
  },
  {
   "cell_type": "code",
   "execution_count": 11,
   "metadata": {
    "collapsed": false,
    "scrolled": true
   },
   "outputs": [
    {
     "data": {
      "text/plain": [
       "array([[  0.      ,   0.      ,   0.      , ...,  69.01545 ,  67.204994,\n",
       "         59.195515],\n",
       "       [  0.      ,   0.      ,   0.      , ...,  84.960052,  84.960075,\n",
       "         84.960602],\n",
       "       [  0.      ,   0.      ,   0.      , ...,  61.030792,  55.655983,\n",
       "         54.380981],\n",
       "       ..., \n",
       "       [ 69.01545 ,  84.960052,  61.030792, ...,   0.      ,   0.      ,\n",
       "          0.      ],\n",
       "       [ 67.204994,  84.960075,  55.655983, ...,   0.      ,   0.      ,\n",
       "          0.      ],\n",
       "       [ 59.195515,  84.960602,  54.380981, ...,   0.      ,   0.      ,\n",
       "          0.      ]])"
      ]
     },
     "execution_count": 11,
     "metadata": {},
     "output_type": "execute_result"
    }
   ],
   "source": [
    "dist2"
   ]
  },
  {
   "cell_type": "code",
   "execution_count": null,
   "metadata": {
    "collapsed": true
   },
   "outputs": [],
   "source": []
  },
  {
   "cell_type": "code",
   "execution_count": null,
   "metadata": {
    "collapsed": false
   },
   "outputs": [],
   "source": [
    "#### why is this just printing out gibberish?  I would \n",
    "#np.save(\"c:/Python27/qp2_py/frechet_distance/dist_matrix_1207.txt\", dist_matrix, allow_pickle=False)\n",
    "np.savetxt(\"c:/Python27/qp2_py/frechet_distance/dist_matrix_1207.txt\", dist_matrix)"
   ]
  },
  {
   "cell_type": "markdown",
   "metadata": {},
   "source": [
    "infile = open(\"c:/Python27/qp2_py/frechet_distance/half_matrix.txt\", \"r\")\n",
    "in_matrix = np.load(infile)"
   ]
  },
  {
   "cell_type": "code",
   "execution_count": null,
   "metadata": {
    "collapsed": true
   },
   "outputs": [],
   "source": [
    "#infile = open(\"c:/Python27/qp2_py/frechet_distance/half_matrix.txt\", \"r\")\n",
    "#in_matrix = np.load(infile)"
   ]
  },
  {
   "cell_type": "code",
   "execution_count": null,
   "metadata": {
    "collapsed": false
   },
   "outputs": [],
   "source": [
    "#in_matrix"
   ]
  },
  {
   "cell_type": "code",
   "execution_count": null,
   "metadata": {
    "collapsed": true
   },
   "outputs": [],
   "source": [
    "##### try scaling from the book, to make the matrix more compact- results in a single cluster, which is no good\n",
    "from sklearn.preprocessing import StandardScaler\n",
    "scaler = StandardScaler()\n",
    "scaler.fit(dist_matrix)\n",
    "dist_scaled = scaler.transform(dist_matrix)"
   ]
  },
  {
   "cell_type": "code",
   "execution_count": null,
   "metadata": {
    "collapsed": false
   },
   "outputs": [],
   "source": [
    "dist_scaled"
   ]
  },
  {
   "cell_type": "code",
   "execution_count": null,
   "metadata": {
    "collapsed": false
   },
   "outputs": [],
   "source": [
    "## 4/26 retry with assistence from The Book\n",
    "from sklearn.cluster import DBSCAN\n",
    "\n",
    "dbscan = DBSCAN(eps = 2.0, metric=\"precomputed\")\n",
    "clusters = dbscan.fit_predict(dist_matrix)"
   ]
  },
  {
   "cell_type": "code",
   "execution_count": null,
   "metadata": {
    "collapsed": false
   },
   "outputs": [],
   "source": [
    "print format(clusters)"
   ]
  },
  {
   "cell_type": "code",
   "execution_count": null,
   "metadata": {
    "collapsed": true
   },
   "outputs": [],
   "source": [
    "### for Book format only\n",
    "cluster_labels = clusters"
   ]
  },
  {
   "cell_type": "code",
   "execution_count": null,
   "metadata": {
    "collapsed": false
   },
   "outputs": [],
   "source": [
    "import matplotlib.cm as mcm\n",
    "plt.scatter(dist_matrix[:,0], dist_matrix[:1], c=clusters, cmap = mcm.viridis)"
   ]
  },
  {
   "cell_type": "code",
   "execution_count": null,
   "metadata": {
    "collapsed": false
   },
   "outputs": [],
   "source": [
    "import matplotlib.cm as mcm\n",
    "plt.scatter(dist_scaled[:,0], dist_scaled[:1], c=clusters, cmap = mcm.viridis)"
   ]
  },
  {
   "cell_type": "markdown",
   "metadata": {
    "collapsed": true
   },
   "source": [
    "### Clustering, as we've been doing"
   ]
  },
  {
   "cell_type": "code",
   "execution_count": 68,
   "metadata": {
    "collapsed": false,
    "scrolled": true
   },
   "outputs": [
    {
     "data": {
      "text/plain": [
       "DBSCAN(algorithm='auto', eps=2.0, leaf_size=30, metric='precomputed',\n",
       "    min_samples=5, n_jobs=1, p=None)"
      ]
     },
     "execution_count": 68,
     "metadata": {},
     "output_type": "execute_result"
    }
   ],
   "source": [
    "from sklearn.cluster import DBSCAN\n",
    "\n",
    "cluster = DBSCAN(eps = 2.0, metric=\"precomputed\")\n",
    "cluster.fit(dist_matrix)"
   ]
  },
  {
   "cell_type": "code",
   "execution_count": null,
   "metadata": {
    "collapsed": true
   },
   "outputs": [],
   "source": []
  },
  {
   "cell_type": "code",
   "execution_count": null,
   "metadata": {
    "collapsed": true
   },
   "outputs": [],
   "source": []
  },
  {
   "cell_type": "code",
   "execution_count": 69,
   "metadata": {
    "collapsed": false,
    "scrolled": true
   },
   "outputs": [
    {
     "data": {
      "text/plain": [
       "1213"
      ]
     },
     "execution_count": 69,
     "metadata": {},
     "output_type": "execute_result"
    }
   ],
   "source": [
    "len(cluster.labels_)"
   ]
  },
  {
   "cell_type": "code",
   "execution_count": 70,
   "metadata": {
    "collapsed": false
   },
   "outputs": [],
   "source": [
    "cluster_labels = cluster.labels_"
   ]
  },
  {
   "cell_type": "code",
   "execution_count": 71,
   "metadata": {
    "collapsed": false
   },
   "outputs": [
    {
     "name": "stdout",
     "output_type": "stream",
     "text": [
      "[ 0  0  0 ..., 26 26 26]\n"
     ]
    }
   ],
   "source": [
    "print cluster_labels"
   ]
  },
  {
   "cell_type": "code",
   "execution_count": 72,
   "metadata": {
    "collapsed": false
   },
   "outputs": [
    {
     "name": "stdout",
     "output_type": "stream",
     "text": [
      "[ 0  0  0 ..., 26 26 26]\n"
     ]
    }
   ],
   "source": [
    "print cluster.labels_"
   ]
  },
  {
   "cell_type": "code",
   "execution_count": 74,
   "metadata": {
    "collapsed": false,
    "scrolled": true
   },
   "outputs": [
    {
     "name": "stdout",
     "output_type": "stream",
     "text": [
      "-1\n",
      "26\n"
     ]
    }
   ],
   "source": [
    "print min(cluster.labels_)\n",
    "print max(cluster.labels_)"
   ]
  },
  {
   "cell_type": "code",
   "execution_count": 75,
   "metadata": {
    "collapsed": false
   },
   "outputs": [],
   "source": [
    "length_cluster_labels = max(cluster.labels_)\n",
    "cluster_labels = cluster.labels_"
   ]
  },
  {
   "cell_type": "code",
   "execution_count": null,
   "metadata": {
    "collapsed": false
   },
   "outputs": [],
   "source": [
    "print len(cluster_labels)"
   ]
  },
  {
   "cell_type": "code",
   "execution_count": 76,
   "metadata": {
    "collapsed": false
   },
   "outputs": [
    {
     "data": {
      "text/plain": [
       "26"
      ]
     },
     "execution_count": 76,
     "metadata": {},
     "output_type": "execute_result"
    }
   ],
   "source": [
    "max(cluster_labels)"
   ]
  },
  {
   "cell_type": "code",
   "execution_count": 77,
   "metadata": {
    "collapsed": false
   },
   "outputs": [],
   "source": [
    "for i in range(len(cluster_labels)):\n",
    "    if cluster_labels[i]==-1:\n",
    "        cluster_labels[i]=27"
   ]
  },
  {
   "cell_type": "markdown",
   "metadata": {},
   "source": [
    "## In which we try to create some visualizations of the cluster features\n",
    "- Note (4/5): When I try to do this with my better distance matrix (halved, and then adding in all of the 0 features with the other half, this breaks - says that the first argument of bincount must be non-negative?  But it's 0, so I don't know what is happening here."
   ]
  },
  {
   "cell_type": "code",
   "execution_count": 78,
   "metadata": {
    "collapsed": false,
    "scrolled": false
   },
   "outputs": [
    {
     "data": {
      "text/plain": [
       "array([ 67,  53,   6,  75,  45,  49,  46,  50,  47,  61,  65,  29,  42,\n",
       "        49,  34,  15, 107,  52,  11,  27,  42,  34,  44,   5,  26,  45,\n",
       "        66,  21], dtype=int64)"
      ]
     },
     "execution_count": 78,
     "metadata": {},
     "output_type": "execute_result"
    }
   ],
   "source": [
    "np.bincount(cluster_labels)"
   ]
  },
  {
   "cell_type": "code",
   "execution_count": null,
   "metadata": {
    "collapsed": true
   },
   "outputs": [],
   "source": []
  },
  {
   "cell_type": "code",
   "execution_count": 79,
   "metadata": {
    "collapsed": false
   },
   "outputs": [],
   "source": [
    "## code by Hannah to get the cluster labels\n",
    "cluster_map = np.empty((cluster_labels.max()+1, dist_matrix.shape[1]))\n",
    "clabels = np.unique(cluster_labels)\n",
    "for label, count in zip(np.unique(cluster_labels), np.bincount(cluster_labels)):\n",
    "       cluster_map[label:,:] = (dist_matrix[cluster_labels==label].mean(axis=0))"
   ]
  },
  {
   "cell_type": "code",
   "execution_count": 80,
   "metadata": {
    "collapsed": false
   },
   "outputs": [
    {
     "data": {
      "application/javascript": [
       "/* Put everything inside the global mpl namespace */\n",
       "window.mpl = {};\n",
       "\n",
       "\n",
       "mpl.get_websocket_type = function() {\n",
       "    if (typeof(WebSocket) !== 'undefined') {\n",
       "        return WebSocket;\n",
       "    } else if (typeof(MozWebSocket) !== 'undefined') {\n",
       "        return MozWebSocket;\n",
       "    } else {\n",
       "        alert('Your browser does not have WebSocket support.' +\n",
       "              'Please try Chrome, Safari or Firefox ≥ 6. ' +\n",
       "              'Firefox 4 and 5 are also supported but you ' +\n",
       "              'have to enable WebSockets in about:config.');\n",
       "    };\n",
       "}\n",
       "\n",
       "mpl.figure = function(figure_id, websocket, ondownload, parent_element) {\n",
       "    this.id = figure_id;\n",
       "\n",
       "    this.ws = websocket;\n",
       "\n",
       "    this.supports_binary = (this.ws.binaryType != undefined);\n",
       "\n",
       "    if (!this.supports_binary) {\n",
       "        var warnings = document.getElementById(\"mpl-warnings\");\n",
       "        if (warnings) {\n",
       "            warnings.style.display = 'block';\n",
       "            warnings.textContent = (\n",
       "                \"This browser does not support binary websocket messages. \" +\n",
       "                    \"Performance may be slow.\");\n",
       "        }\n",
       "    }\n",
       "\n",
       "    this.imageObj = new Image();\n",
       "\n",
       "    this.context = undefined;\n",
       "    this.message = undefined;\n",
       "    this.canvas = undefined;\n",
       "    this.rubberband_canvas = undefined;\n",
       "    this.rubberband_context = undefined;\n",
       "    this.format_dropdown = undefined;\n",
       "\n",
       "    this.image_mode = 'full';\n",
       "\n",
       "    this.root = $('<div/>');\n",
       "    this._root_extra_style(this.root)\n",
       "    this.root.attr('style', 'display: inline-block');\n",
       "\n",
       "    $(parent_element).append(this.root);\n",
       "\n",
       "    this._init_header(this);\n",
       "    this._init_canvas(this);\n",
       "    this._init_toolbar(this);\n",
       "\n",
       "    var fig = this;\n",
       "\n",
       "    this.waiting = false;\n",
       "\n",
       "    this.ws.onopen =  function () {\n",
       "            fig.send_message(\"supports_binary\", {value: fig.supports_binary});\n",
       "            fig.send_message(\"send_image_mode\", {});\n",
       "            if (mpl.ratio != 1) {\n",
       "                fig.send_message(\"set_dpi_ratio\", {'dpi_ratio': mpl.ratio});\n",
       "            }\n",
       "            fig.send_message(\"refresh\", {});\n",
       "        }\n",
       "\n",
       "    this.imageObj.onload = function() {\n",
       "            if (fig.image_mode == 'full') {\n",
       "                // Full images could contain transparency (where diff images\n",
       "                // almost always do), so we need to clear the canvas so that\n",
       "                // there is no ghosting.\n",
       "                fig.context.clearRect(0, 0, fig.canvas.width, fig.canvas.height);\n",
       "            }\n",
       "            fig.context.drawImage(fig.imageObj, 0, 0);\n",
       "        };\n",
       "\n",
       "    this.imageObj.onunload = function() {\n",
       "        this.ws.close();\n",
       "    }\n",
       "\n",
       "    this.ws.onmessage = this._make_on_message_function(this);\n",
       "\n",
       "    this.ondownload = ondownload;\n",
       "}\n",
       "\n",
       "mpl.figure.prototype._init_header = function() {\n",
       "    var titlebar = $(\n",
       "        '<div class=\"ui-dialog-titlebar ui-widget-header ui-corner-all ' +\n",
       "        'ui-helper-clearfix\"/>');\n",
       "    var titletext = $(\n",
       "        '<div class=\"ui-dialog-title\" style=\"width: 100%; ' +\n",
       "        'text-align: center; padding: 3px;\"/>');\n",
       "    titlebar.append(titletext)\n",
       "    this.root.append(titlebar);\n",
       "    this.header = titletext[0];\n",
       "}\n",
       "\n",
       "\n",
       "\n",
       "mpl.figure.prototype._canvas_extra_style = function(canvas_div) {\n",
       "\n",
       "}\n",
       "\n",
       "\n",
       "mpl.figure.prototype._root_extra_style = function(canvas_div) {\n",
       "\n",
       "}\n",
       "\n",
       "mpl.figure.prototype._init_canvas = function() {\n",
       "    var fig = this;\n",
       "\n",
       "    var canvas_div = $('<div/>');\n",
       "\n",
       "    canvas_div.attr('style', 'position: relative; clear: both; outline: 0');\n",
       "\n",
       "    function canvas_keyboard_event(event) {\n",
       "        return fig.key_event(event, event['data']);\n",
       "    }\n",
       "\n",
       "    canvas_div.keydown('key_press', canvas_keyboard_event);\n",
       "    canvas_div.keyup('key_release', canvas_keyboard_event);\n",
       "    this.canvas_div = canvas_div\n",
       "    this._canvas_extra_style(canvas_div)\n",
       "    this.root.append(canvas_div);\n",
       "\n",
       "    var canvas = $('<canvas/>');\n",
       "    canvas.addClass('mpl-canvas');\n",
       "    canvas.attr('style', \"left: 0; top: 0; z-index: 0; outline: 0\")\n",
       "\n",
       "    this.canvas = canvas[0];\n",
       "    this.context = canvas[0].getContext(\"2d\");\n",
       "\n",
       "    var backingStore = this.context.backingStorePixelRatio ||\n",
       "\tthis.context.webkitBackingStorePixelRatio ||\n",
       "\tthis.context.mozBackingStorePixelRatio ||\n",
       "\tthis.context.msBackingStorePixelRatio ||\n",
       "\tthis.context.oBackingStorePixelRatio ||\n",
       "\tthis.context.backingStorePixelRatio || 1;\n",
       "\n",
       "    mpl.ratio = (window.devicePixelRatio || 1) / backingStore;\n",
       "\n",
       "    var rubberband = $('<canvas/>');\n",
       "    rubberband.attr('style', \"position: absolute; left: 0; top: 0; z-index: 1;\")\n",
       "\n",
       "    var pass_mouse_events = true;\n",
       "\n",
       "    canvas_div.resizable({\n",
       "        start: function(event, ui) {\n",
       "            pass_mouse_events = false;\n",
       "        },\n",
       "        resize: function(event, ui) {\n",
       "            fig.request_resize(ui.size.width, ui.size.height);\n",
       "        },\n",
       "        stop: function(event, ui) {\n",
       "            pass_mouse_events = true;\n",
       "            fig.request_resize(ui.size.width, ui.size.height);\n",
       "        },\n",
       "    });\n",
       "\n",
       "    function mouse_event_fn(event) {\n",
       "        if (pass_mouse_events)\n",
       "            return fig.mouse_event(event, event['data']);\n",
       "    }\n",
       "\n",
       "    rubberband.mousedown('button_press', mouse_event_fn);\n",
       "    rubberband.mouseup('button_release', mouse_event_fn);\n",
       "    // Throttle sequential mouse events to 1 every 20ms.\n",
       "    rubberband.mousemove('motion_notify', mouse_event_fn);\n",
       "\n",
       "    rubberband.mouseenter('figure_enter', mouse_event_fn);\n",
       "    rubberband.mouseleave('figure_leave', mouse_event_fn);\n",
       "\n",
       "    canvas_div.on(\"wheel\", function (event) {\n",
       "        event = event.originalEvent;\n",
       "        event['data'] = 'scroll'\n",
       "        if (event.deltaY < 0) {\n",
       "            event.step = 1;\n",
       "        } else {\n",
       "            event.step = -1;\n",
       "        }\n",
       "        mouse_event_fn(event);\n",
       "    });\n",
       "\n",
       "    canvas_div.append(canvas);\n",
       "    canvas_div.append(rubberband);\n",
       "\n",
       "    this.rubberband = rubberband;\n",
       "    this.rubberband_canvas = rubberband[0];\n",
       "    this.rubberband_context = rubberband[0].getContext(\"2d\");\n",
       "    this.rubberband_context.strokeStyle = \"#000000\";\n",
       "\n",
       "    this._resize_canvas = function(width, height) {\n",
       "        // Keep the size of the canvas, canvas container, and rubber band\n",
       "        // canvas in synch.\n",
       "        canvas_div.css('width', width)\n",
       "        canvas_div.css('height', height)\n",
       "\n",
       "        canvas.attr('width', width * mpl.ratio);\n",
       "        canvas.attr('height', height * mpl.ratio);\n",
       "        canvas.attr('style', 'width: ' + width + 'px; height: ' + height + 'px;');\n",
       "\n",
       "        rubberband.attr('width', width);\n",
       "        rubberband.attr('height', height);\n",
       "    }\n",
       "\n",
       "    // Set the figure to an initial 600x600px, this will subsequently be updated\n",
       "    // upon first draw.\n",
       "    this._resize_canvas(600, 600);\n",
       "\n",
       "    // Disable right mouse context menu.\n",
       "    $(this.rubberband_canvas).bind(\"contextmenu\",function(e){\n",
       "        return false;\n",
       "    });\n",
       "\n",
       "    function set_focus () {\n",
       "        canvas.focus();\n",
       "        canvas_div.focus();\n",
       "    }\n",
       "\n",
       "    window.setTimeout(set_focus, 100);\n",
       "}\n",
       "\n",
       "mpl.figure.prototype._init_toolbar = function() {\n",
       "    var fig = this;\n",
       "\n",
       "    var nav_element = $('<div/>')\n",
       "    nav_element.attr('style', 'width: 100%');\n",
       "    this.root.append(nav_element);\n",
       "\n",
       "    // Define a callback function for later on.\n",
       "    function toolbar_event(event) {\n",
       "        return fig.toolbar_button_onclick(event['data']);\n",
       "    }\n",
       "    function toolbar_mouse_event(event) {\n",
       "        return fig.toolbar_button_onmouseover(event['data']);\n",
       "    }\n",
       "\n",
       "    for(var toolbar_ind in mpl.toolbar_items) {\n",
       "        var name = mpl.toolbar_items[toolbar_ind][0];\n",
       "        var tooltip = mpl.toolbar_items[toolbar_ind][1];\n",
       "        var image = mpl.toolbar_items[toolbar_ind][2];\n",
       "        var method_name = mpl.toolbar_items[toolbar_ind][3];\n",
       "\n",
       "        if (!name) {\n",
       "            // put a spacer in here.\n",
       "            continue;\n",
       "        }\n",
       "        var button = $('<button/>');\n",
       "        button.addClass('ui-button ui-widget ui-state-default ui-corner-all ' +\n",
       "                        'ui-button-icon-only');\n",
       "        button.attr('role', 'button');\n",
       "        button.attr('aria-disabled', 'false');\n",
       "        button.click(method_name, toolbar_event);\n",
       "        button.mouseover(tooltip, toolbar_mouse_event);\n",
       "\n",
       "        var icon_img = $('<span/>');\n",
       "        icon_img.addClass('ui-button-icon-primary ui-icon');\n",
       "        icon_img.addClass(image);\n",
       "        icon_img.addClass('ui-corner-all');\n",
       "\n",
       "        var tooltip_span = $('<span/>');\n",
       "        tooltip_span.addClass('ui-button-text');\n",
       "        tooltip_span.html(tooltip);\n",
       "\n",
       "        button.append(icon_img);\n",
       "        button.append(tooltip_span);\n",
       "\n",
       "        nav_element.append(button);\n",
       "    }\n",
       "\n",
       "    var fmt_picker_span = $('<span/>');\n",
       "\n",
       "    var fmt_picker = $('<select/>');\n",
       "    fmt_picker.addClass('mpl-toolbar-option ui-widget ui-widget-content');\n",
       "    fmt_picker_span.append(fmt_picker);\n",
       "    nav_element.append(fmt_picker_span);\n",
       "    this.format_dropdown = fmt_picker[0];\n",
       "\n",
       "    for (var ind in mpl.extensions) {\n",
       "        var fmt = mpl.extensions[ind];\n",
       "        var option = $(\n",
       "            '<option/>', {selected: fmt === mpl.default_extension}).html(fmt);\n",
       "        fmt_picker.append(option)\n",
       "    }\n",
       "\n",
       "    // Add hover states to the ui-buttons\n",
       "    $( \".ui-button\" ).hover(\n",
       "        function() { $(this).addClass(\"ui-state-hover\");},\n",
       "        function() { $(this).removeClass(\"ui-state-hover\");}\n",
       "    );\n",
       "\n",
       "    var status_bar = $('<span class=\"mpl-message\"/>');\n",
       "    nav_element.append(status_bar);\n",
       "    this.message = status_bar[0];\n",
       "}\n",
       "\n",
       "mpl.figure.prototype.request_resize = function(x_pixels, y_pixels) {\n",
       "    // Request matplotlib to resize the figure. Matplotlib will then trigger a resize in the client,\n",
       "    // which will in turn request a refresh of the image.\n",
       "    this.send_message('resize', {'width': x_pixels, 'height': y_pixels});\n",
       "}\n",
       "\n",
       "mpl.figure.prototype.send_message = function(type, properties) {\n",
       "    properties['type'] = type;\n",
       "    properties['figure_id'] = this.id;\n",
       "    this.ws.send(JSON.stringify(properties));\n",
       "}\n",
       "\n",
       "mpl.figure.prototype.send_draw_message = function() {\n",
       "    if (!this.waiting) {\n",
       "        this.waiting = true;\n",
       "        this.ws.send(JSON.stringify({type: \"draw\", figure_id: this.id}));\n",
       "    }\n",
       "}\n",
       "\n",
       "\n",
       "mpl.figure.prototype.handle_save = function(fig, msg) {\n",
       "    var format_dropdown = fig.format_dropdown;\n",
       "    var format = format_dropdown.options[format_dropdown.selectedIndex].value;\n",
       "    fig.ondownload(fig, format);\n",
       "}\n",
       "\n",
       "\n",
       "mpl.figure.prototype.handle_resize = function(fig, msg) {\n",
       "    var size = msg['size'];\n",
       "    if (size[0] != fig.canvas.width || size[1] != fig.canvas.height) {\n",
       "        fig._resize_canvas(size[0], size[1]);\n",
       "        fig.send_message(\"refresh\", {});\n",
       "    };\n",
       "}\n",
       "\n",
       "mpl.figure.prototype.handle_rubberband = function(fig, msg) {\n",
       "    var x0 = msg['x0'] / mpl.ratio;\n",
       "    var y0 = (fig.canvas.height - msg['y0']) / mpl.ratio;\n",
       "    var x1 = msg['x1'] / mpl.ratio;\n",
       "    var y1 = (fig.canvas.height - msg['y1']) / mpl.ratio;\n",
       "    x0 = Math.floor(x0) + 0.5;\n",
       "    y0 = Math.floor(y0) + 0.5;\n",
       "    x1 = Math.floor(x1) + 0.5;\n",
       "    y1 = Math.floor(y1) + 0.5;\n",
       "    var min_x = Math.min(x0, x1);\n",
       "    var min_y = Math.min(y0, y1);\n",
       "    var width = Math.abs(x1 - x0);\n",
       "    var height = Math.abs(y1 - y0);\n",
       "\n",
       "    fig.rubberband_context.clearRect(\n",
       "        0, 0, fig.canvas.width, fig.canvas.height);\n",
       "\n",
       "    fig.rubberband_context.strokeRect(min_x, min_y, width, height);\n",
       "}\n",
       "\n",
       "mpl.figure.prototype.handle_figure_label = function(fig, msg) {\n",
       "    // Updates the figure title.\n",
       "    fig.header.textContent = msg['label'];\n",
       "}\n",
       "\n",
       "mpl.figure.prototype.handle_cursor = function(fig, msg) {\n",
       "    var cursor = msg['cursor'];\n",
       "    switch(cursor)\n",
       "    {\n",
       "    case 0:\n",
       "        cursor = 'pointer';\n",
       "        break;\n",
       "    case 1:\n",
       "        cursor = 'default';\n",
       "        break;\n",
       "    case 2:\n",
       "        cursor = 'crosshair';\n",
       "        break;\n",
       "    case 3:\n",
       "        cursor = 'move';\n",
       "        break;\n",
       "    }\n",
       "    fig.rubberband_canvas.style.cursor = cursor;\n",
       "}\n",
       "\n",
       "mpl.figure.prototype.handle_message = function(fig, msg) {\n",
       "    fig.message.textContent = msg['message'];\n",
       "}\n",
       "\n",
       "mpl.figure.prototype.handle_draw = function(fig, msg) {\n",
       "    // Request the server to send over a new figure.\n",
       "    fig.send_draw_message();\n",
       "}\n",
       "\n",
       "mpl.figure.prototype.handle_image_mode = function(fig, msg) {\n",
       "    fig.image_mode = msg['mode'];\n",
       "}\n",
       "\n",
       "mpl.figure.prototype.updated_canvas_event = function() {\n",
       "    // Called whenever the canvas gets updated.\n",
       "    this.send_message(\"ack\", {});\n",
       "}\n",
       "\n",
       "// A function to construct a web socket function for onmessage handling.\n",
       "// Called in the figure constructor.\n",
       "mpl.figure.prototype._make_on_message_function = function(fig) {\n",
       "    return function socket_on_message(evt) {\n",
       "        if (evt.data instanceof Blob) {\n",
       "            /* FIXME: We get \"Resource interpreted as Image but\n",
       "             * transferred with MIME type text/plain:\" errors on\n",
       "             * Chrome.  But how to set the MIME type?  It doesn't seem\n",
       "             * to be part of the websocket stream */\n",
       "            evt.data.type = \"image/png\";\n",
       "\n",
       "            /* Free the memory for the previous frames */\n",
       "            if (fig.imageObj.src) {\n",
       "                (window.URL || window.webkitURL).revokeObjectURL(\n",
       "                    fig.imageObj.src);\n",
       "            }\n",
       "\n",
       "            fig.imageObj.src = (window.URL || window.webkitURL).createObjectURL(\n",
       "                evt.data);\n",
       "            fig.updated_canvas_event();\n",
       "            fig.waiting = false;\n",
       "            return;\n",
       "        }\n",
       "        else if (typeof evt.data === 'string' && evt.data.slice(0, 21) == \"data:image/png;base64\") {\n",
       "            fig.imageObj.src = evt.data;\n",
       "            fig.updated_canvas_event();\n",
       "            fig.waiting = false;\n",
       "            return;\n",
       "        }\n",
       "\n",
       "        var msg = JSON.parse(evt.data);\n",
       "        var msg_type = msg['type'];\n",
       "\n",
       "        // Call the  \"handle_{type}\" callback, which takes\n",
       "        // the figure and JSON message as its only arguments.\n",
       "        try {\n",
       "            var callback = fig[\"handle_\" + msg_type];\n",
       "        } catch (e) {\n",
       "            console.log(\"No handler for the '\" + msg_type + \"' message type: \", msg);\n",
       "            return;\n",
       "        }\n",
       "\n",
       "        if (callback) {\n",
       "            try {\n",
       "                // console.log(\"Handling '\" + msg_type + \"' message: \", msg);\n",
       "                callback(fig, msg);\n",
       "            } catch (e) {\n",
       "                console.log(\"Exception inside the 'handler_\" + msg_type + \"' callback:\", e, e.stack, msg);\n",
       "            }\n",
       "        }\n",
       "    };\n",
       "}\n",
       "\n",
       "// from http://stackoverflow.com/questions/1114465/getting-mouse-location-in-canvas\n",
       "mpl.findpos = function(e) {\n",
       "    //this section is from http://www.quirksmode.org/js/events_properties.html\n",
       "    var targ;\n",
       "    if (!e)\n",
       "        e = window.event;\n",
       "    if (e.target)\n",
       "        targ = e.target;\n",
       "    else if (e.srcElement)\n",
       "        targ = e.srcElement;\n",
       "    if (targ.nodeType == 3) // defeat Safari bug\n",
       "        targ = targ.parentNode;\n",
       "\n",
       "    // jQuery normalizes the pageX and pageY\n",
       "    // pageX,Y are the mouse positions relative to the document\n",
       "    // offset() returns the position of the element relative to the document\n",
       "    var x = e.pageX - $(targ).offset().left;\n",
       "    var y = e.pageY - $(targ).offset().top;\n",
       "\n",
       "    return {\"x\": x, \"y\": y};\n",
       "};\n",
       "\n",
       "/*\n",
       " * return a copy of an object with only non-object keys\n",
       " * we need this to avoid circular references\n",
       " * http://stackoverflow.com/a/24161582/3208463\n",
       " */\n",
       "function simpleKeys (original) {\n",
       "  return Object.keys(original).reduce(function (obj, key) {\n",
       "    if (typeof original[key] !== 'object')\n",
       "        obj[key] = original[key]\n",
       "    return obj;\n",
       "  }, {});\n",
       "}\n",
       "\n",
       "mpl.figure.prototype.mouse_event = function(event, name) {\n",
       "    var canvas_pos = mpl.findpos(event)\n",
       "\n",
       "    if (name === 'button_press')\n",
       "    {\n",
       "        this.canvas.focus();\n",
       "        this.canvas_div.focus();\n",
       "    }\n",
       "\n",
       "    var x = canvas_pos.x * mpl.ratio;\n",
       "    var y = canvas_pos.y * mpl.ratio;\n",
       "\n",
       "    this.send_message(name, {x: x, y: y, button: event.button,\n",
       "                             step: event.step,\n",
       "                             guiEvent: simpleKeys(event)});\n",
       "\n",
       "    /* This prevents the web browser from automatically changing to\n",
       "     * the text insertion cursor when the button is pressed.  We want\n",
       "     * to control all of the cursor setting manually through the\n",
       "     * 'cursor' event from matplotlib */\n",
       "    event.preventDefault();\n",
       "    return false;\n",
       "}\n",
       "\n",
       "mpl.figure.prototype._key_event_extra = function(event, name) {\n",
       "    // Handle any extra behaviour associated with a key event\n",
       "}\n",
       "\n",
       "mpl.figure.prototype.key_event = function(event, name) {\n",
       "\n",
       "    // Prevent repeat events\n",
       "    if (name == 'key_press')\n",
       "    {\n",
       "        if (event.which === this._key)\n",
       "            return;\n",
       "        else\n",
       "            this._key = event.which;\n",
       "    }\n",
       "    if (name == 'key_release')\n",
       "        this._key = null;\n",
       "\n",
       "    var value = '';\n",
       "    if (event.ctrlKey && event.which != 17)\n",
       "        value += \"ctrl+\";\n",
       "    if (event.altKey && event.which != 18)\n",
       "        value += \"alt+\";\n",
       "    if (event.shiftKey && event.which != 16)\n",
       "        value += \"shift+\";\n",
       "\n",
       "    value += 'k';\n",
       "    value += event.which.toString();\n",
       "\n",
       "    this._key_event_extra(event, name);\n",
       "\n",
       "    this.send_message(name, {key: value,\n",
       "                             guiEvent: simpleKeys(event)});\n",
       "    return false;\n",
       "}\n",
       "\n",
       "mpl.figure.prototype.toolbar_button_onclick = function(name) {\n",
       "    if (name == 'download') {\n",
       "        this.handle_save(this, null);\n",
       "    } else {\n",
       "        this.send_message(\"toolbar_button\", {name: name});\n",
       "    }\n",
       "};\n",
       "\n",
       "mpl.figure.prototype.toolbar_button_onmouseover = function(tooltip) {\n",
       "    this.message.textContent = tooltip;\n",
       "};\n",
       "mpl.toolbar_items = [[\"Home\", \"Reset original view\", \"fa fa-home icon-home\", \"home\"], [\"Back\", \"Back to  previous view\", \"fa fa-arrow-left icon-arrow-left\", \"back\"], [\"Forward\", \"Forward to next view\", \"fa fa-arrow-right icon-arrow-right\", \"forward\"], [\"\", \"\", \"\", \"\"], [\"Pan\", \"Pan axes with left mouse, zoom with right\", \"fa fa-arrows icon-move\", \"pan\"], [\"Zoom\", \"Zoom to rectangle\", \"fa fa-square-o icon-check-empty\", \"zoom\"], [\"\", \"\", \"\", \"\"], [\"Download\", \"Download plot\", \"fa fa-floppy-o icon-save\", \"download\"]];\n",
       "\n",
       "mpl.extensions = [\"eps\", \"jpeg\", \"pdf\", \"png\", \"ps\", \"raw\", \"svg\", \"tif\"];\n",
       "\n",
       "mpl.default_extension = \"png\";var comm_websocket_adapter = function(comm) {\n",
       "    // Create a \"websocket\"-like object which calls the given IPython comm\n",
       "    // object with the appropriate methods. Currently this is a non binary\n",
       "    // socket, so there is still some room for performance tuning.\n",
       "    var ws = {};\n",
       "\n",
       "    ws.close = function() {\n",
       "        comm.close()\n",
       "    };\n",
       "    ws.send = function(m) {\n",
       "        //console.log('sending', m);\n",
       "        comm.send(m);\n",
       "    };\n",
       "    // Register the callback with on_msg.\n",
       "    comm.on_msg(function(msg) {\n",
       "        //console.log('receiving', msg['content']['data'], msg);\n",
       "        // Pass the mpl event to the overriden (by mpl) onmessage function.\n",
       "        ws.onmessage(msg['content']['data'])\n",
       "    });\n",
       "    return ws;\n",
       "}\n",
       "\n",
       "mpl.mpl_figure_comm = function(comm, msg) {\n",
       "    // This is the function which gets called when the mpl process\n",
       "    // starts-up an IPython Comm through the \"matplotlib\" channel.\n",
       "\n",
       "    var id = msg.content.data.id;\n",
       "    // Get hold of the div created by the display call when the Comm\n",
       "    // socket was opened in Python.\n",
       "    var element = $(\"#\" + id);\n",
       "    var ws_proxy = comm_websocket_adapter(comm)\n",
       "\n",
       "    function ondownload(figure, format) {\n",
       "        window.open(figure.imageObj.src);\n",
       "    }\n",
       "\n",
       "    var fig = new mpl.figure(id, ws_proxy,\n",
       "                           ondownload,\n",
       "                           element.get(0));\n",
       "\n",
       "    // Call onopen now - mpl needs it, as it is assuming we've passed it a real\n",
       "    // web socket which is closed, not our websocket->open comm proxy.\n",
       "    ws_proxy.onopen();\n",
       "\n",
       "    fig.parent_element = element.get(0);\n",
       "    fig.cell_info = mpl.find_output_cell(\"<div id='\" + id + \"'></div>\");\n",
       "    if (!fig.cell_info) {\n",
       "        console.error(\"Failed to find cell for figure\", id, fig);\n",
       "        return;\n",
       "    }\n",
       "\n",
       "    var output_index = fig.cell_info[2]\n",
       "    var cell = fig.cell_info[0];\n",
       "\n",
       "};\n",
       "\n",
       "mpl.figure.prototype.handle_close = function(fig, msg) {\n",
       "    var width = fig.canvas.width/mpl.ratio\n",
       "    fig.root.unbind('remove')\n",
       "\n",
       "    // Update the output cell to use the data from the current canvas.\n",
       "    fig.push_to_output();\n",
       "    var dataURL = fig.canvas.toDataURL();\n",
       "    // Re-enable the keyboard manager in IPython - without this line, in FF,\n",
       "    // the notebook keyboard shortcuts fail.\n",
       "    IPython.keyboard_manager.enable()\n",
       "    $(fig.parent_element).html('<img src=\"' + dataURL + '\" width=\"' + width + '\">');\n",
       "    fig.close_ws(fig, msg);\n",
       "}\n",
       "\n",
       "mpl.figure.prototype.close_ws = function(fig, msg){\n",
       "    fig.send_message('closing', msg);\n",
       "    // fig.ws.close()\n",
       "}\n",
       "\n",
       "mpl.figure.prototype.push_to_output = function(remove_interactive) {\n",
       "    // Turn the data on the canvas into data in the output cell.\n",
       "    var width = this.canvas.width/mpl.ratio\n",
       "    var dataURL = this.canvas.toDataURL();\n",
       "    this.cell_info[1]['text/html'] = '<img src=\"' + dataURL + '\" width=\"' + width + '\">';\n",
       "}\n",
       "\n",
       "mpl.figure.prototype.updated_canvas_event = function() {\n",
       "    // Tell IPython that the notebook contents must change.\n",
       "    IPython.notebook.set_dirty(true);\n",
       "    this.send_message(\"ack\", {});\n",
       "    var fig = this;\n",
       "    // Wait a second, then push the new image to the DOM so\n",
       "    // that it is saved nicely (might be nice to debounce this).\n",
       "    setTimeout(function () { fig.push_to_output() }, 1000);\n",
       "}\n",
       "\n",
       "mpl.figure.prototype._init_toolbar = function() {\n",
       "    var fig = this;\n",
       "\n",
       "    var nav_element = $('<div/>')\n",
       "    nav_element.attr('style', 'width: 100%');\n",
       "    this.root.append(nav_element);\n",
       "\n",
       "    // Define a callback function for later on.\n",
       "    function toolbar_event(event) {\n",
       "        return fig.toolbar_button_onclick(event['data']);\n",
       "    }\n",
       "    function toolbar_mouse_event(event) {\n",
       "        return fig.toolbar_button_onmouseover(event['data']);\n",
       "    }\n",
       "\n",
       "    for(var toolbar_ind in mpl.toolbar_items){\n",
       "        var name = mpl.toolbar_items[toolbar_ind][0];\n",
       "        var tooltip = mpl.toolbar_items[toolbar_ind][1];\n",
       "        var image = mpl.toolbar_items[toolbar_ind][2];\n",
       "        var method_name = mpl.toolbar_items[toolbar_ind][3];\n",
       "\n",
       "        if (!name) { continue; };\n",
       "\n",
       "        var button = $('<button class=\"btn btn-default\" href=\"#\" title=\"' + name + '\"><i class=\"fa ' + image + ' fa-lg\"></i></button>');\n",
       "        button.click(method_name, toolbar_event);\n",
       "        button.mouseover(tooltip, toolbar_mouse_event);\n",
       "        nav_element.append(button);\n",
       "    }\n",
       "\n",
       "    // Add the status bar.\n",
       "    var status_bar = $('<span class=\"mpl-message\" style=\"text-align:right; float: right;\"/>');\n",
       "    nav_element.append(status_bar);\n",
       "    this.message = status_bar[0];\n",
       "\n",
       "    // Add the close button to the window.\n",
       "    var buttongrp = $('<div class=\"btn-group inline pull-right\"></div>');\n",
       "    var button = $('<button class=\"btn btn-mini btn-primary\" href=\"#\" title=\"Stop Interaction\"><i class=\"fa fa-power-off icon-remove icon-large\"></i></button>');\n",
       "    button.click(function (evt) { fig.handle_close(fig, {}); } );\n",
       "    button.mouseover('Stop Interaction', toolbar_mouse_event);\n",
       "    buttongrp.append(button);\n",
       "    var titlebar = this.root.find($('.ui-dialog-titlebar'));\n",
       "    titlebar.prepend(buttongrp);\n",
       "}\n",
       "\n",
       "mpl.figure.prototype._root_extra_style = function(el){\n",
       "    var fig = this\n",
       "    el.on(\"remove\", function(){\n",
       "\tfig.close_ws(fig, {});\n",
       "    });\n",
       "}\n",
       "\n",
       "mpl.figure.prototype._canvas_extra_style = function(el){\n",
       "    // this is important to make the div 'focusable\n",
       "    el.attr('tabindex', 0)\n",
       "    // reach out to IPython and tell the keyboard manager to turn it's self\n",
       "    // off when our div gets focus\n",
       "\n",
       "    // location in version 3\n",
       "    if (IPython.notebook.keyboard_manager) {\n",
       "        IPython.notebook.keyboard_manager.register_events(el);\n",
       "    }\n",
       "    else {\n",
       "        // location in version 2\n",
       "        IPython.keyboard_manager.register_events(el);\n",
       "    }\n",
       "\n",
       "}\n",
       "\n",
       "mpl.figure.prototype._key_event_extra = function(event, name) {\n",
       "    var manager = IPython.notebook.keyboard_manager;\n",
       "    if (!manager)\n",
       "        manager = IPython.keyboard_manager;\n",
       "\n",
       "    // Check for shift+enter\n",
       "    if (event.shiftKey && event.which == 13) {\n",
       "        this.canvas_div.blur();\n",
       "        // select the cell after this one\n",
       "        var index = IPython.notebook.find_cell_index(this.cell_info[0]);\n",
       "        IPython.notebook.select(index + 1);\n",
       "    }\n",
       "}\n",
       "\n",
       "mpl.figure.prototype.handle_save = function(fig, msg) {\n",
       "    fig.ondownload(fig, null);\n",
       "}\n",
       "\n",
       "\n",
       "mpl.find_output_cell = function(html_output) {\n",
       "    // Return the cell and output element which can be found *uniquely* in the notebook.\n",
       "    // Note - this is a bit hacky, but it is done because the \"notebook_saving.Notebook\"\n",
       "    // IPython event is triggered only after the cells have been serialised, which for\n",
       "    // our purposes (turning an active figure into a static one), is too late.\n",
       "    var cells = IPython.notebook.get_cells();\n",
       "    var ncells = cells.length;\n",
       "    for (var i=0; i<ncells; i++) {\n",
       "        var cell = cells[i];\n",
       "        if (cell.cell_type === 'code'){\n",
       "            for (var j=0; j<cell.output_area.outputs.length; j++) {\n",
       "                var data = cell.output_area.outputs[j];\n",
       "                if (data.data) {\n",
       "                    // IPython >= 3 moved mimebundle to data attribute of output\n",
       "                    data = data.data;\n",
       "                }\n",
       "                if (data['text/html'] == html_output) {\n",
       "                    return [cell, data, j];\n",
       "                }\n",
       "            }\n",
       "        }\n",
       "    }\n",
       "}\n",
       "\n",
       "// Register the function which deals with the matplotlib target/channel.\n",
       "// The kernel may be null if the page has been refreshed.\n",
       "if (IPython.notebook.kernel != null) {\n",
       "    IPython.notebook.kernel.comm_manager.register_target('matplotlib', mpl.mpl_figure_comm);\n",
       "}\n"
      ],
      "text/plain": [
       "<IPython.core.display.Javascript object>"
      ]
     },
     "metadata": {},
     "output_type": "display_data"
    },
    {
     "data": {
      "text/html": [
       "<img src=\"data:image/png;base64,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\" width=\"1000\">"
      ],
      "text/plain": [
       "<IPython.core.display.HTML object>"
      ]
     },
     "metadata": {},
     "output_type": "display_data"
    },
    {
     "data": {
      "text/plain": [
       "<matplotlib.text.Text at 0x1d401080>"
      ]
     },
     "execution_count": 80,
     "metadata": {},
     "output_type": "execute_result"
    }
   ],
   "source": [
    "## makes a heatmap of the ipu distances, and the clusters\n",
    "import matplotlib.cm as mcm\n",
    "import matplotlib.colors as mcolors\n",
    "\n",
    "norm = mcolors.Normalize(vmin=0.001)\n",
    "cmap = mcm.viridis\n",
    "cmap.set_under(\"White\")\n",
    "fig, ax = plt.subplots(figsize=(10,10))\n",
    "R=50\n",
    "clusterR = np.repeat(cluster_map, R, axis=0)\n",
    "#sm = ax.imshow(clusterR, cmap=mcm.Greys)\n",
    "sm = ax.imshow(clusterR, cmap=cmap, norm=norm)\n",
    "ax.set_xlabel(\"IPU\")\n",
    "ax.set_ylabel(\"Clusters\")\n",
    "ax.set_yticks(np.arange(R/2, clusterR.shape[0],R))\n",
    "ax.set_yticklabels(clabels)\n",
    "cb = fig.colorbar(sm, ax=ax, fraction=.04)\n",
    "cb.set_label(\"Frechet Distance\")\n",
    "ax.set_title(\"IPUs Assigned to Clusters Based on Frechet Distances\")\n",
    "\n",
    "#cb.set_ticks\n",
    "#cb.set_ticklabels\n"
   ]
  },
  {
   "cell_type": "code",
   "execution_count": null,
   "metadata": {
    "collapsed": true
   },
   "outputs": [],
   "source": []
  },
  {
   "cell_type": "code",
   "execution_count": null,
   "metadata": {
    "collapsed": true
   },
   "outputs": [],
   "source": []
  },
  {
   "cell_type": "code",
   "execution_count": null,
   "metadata": {
    "collapsed": true
   },
   "outputs": [],
   "source": []
  },
  {
   "cell_type": "code",
   "execution_count": 81,
   "metadata": {
    "collapsed": false,
    "scrolled": true
   },
   "outputs": [
    {
     "name": "stdout",
     "output_type": "stream",
     "text": [
      "[ 67  53   6  75  45  49  46  50  47  61  65  29  42  49  34  15 107  52\n",
      "  11  27  42  34  44   5  26  45  66  21]\n"
     ]
    }
   ],
   "source": [
    "histo = np.bincount(cluster_labels)\n",
    "print histo"
   ]
  },
  {
   "cell_type": "code",
   "execution_count": null,
   "metadata": {
    "collapsed": false
   },
   "outputs": [],
   "source": [
    "sum(histo)"
   ]
  },
  {
   "cell_type": "markdown",
   "metadata": {},
   "source": [
    "### Notes (3/17/17)\n",
    "- More than half of our data (53.60%) is being assigned to one cluster (in this case, cluster 13)\n",
    "    - I would LOVE to see the labels of what's being assigned to that cluster..."
   ]
  },
  {
   "cell_type": "code",
   "execution_count": null,
   "metadata": {
    "collapsed": false
   },
   "outputs": [],
   "source": [
    "plt.figure()\n",
    "plt.title(\"Number of IPUs assigned to each cluster\")\n",
    "plt.xlabel(\"Cluster number\")\n",
    "plt.ylabel(\"# of IPUs assigned to cluster\")\n",
    "plt.hist(cluster_labels, bins=5)"
   ]
  },
  {
   "cell_type": "code",
   "execution_count": null,
   "metadata": {
    "collapsed": false
   },
   "outputs": [],
   "source": [
    "print cluster_labels"
   ]
  },
  {
   "cell_type": "code",
   "execution_count": null,
   "metadata": {
    "collapsed": true
   },
   "outputs": [],
   "source": []
  },
  {
   "cell_type": "code",
   "execution_count": null,
   "metadata": {
    "collapsed": true
   },
   "outputs": [],
   "source": []
  },
  {
   "cell_type": "markdown",
   "metadata": {},
   "source": [
    "### In which Pablo writes some code to organize feautres by speaker"
   ]
  },
  {
   "cell_type": "code",
   "execution_count": null,
   "metadata": {
    "collapsed": false
   },
   "outputs": [],
   "source": [
    "#This is the code that collects the speaker based feature vectors\n",
    "#This will contain one feature vector per speaker\n",
    "speakerFeatures=[]\n",
    "# THis has the corresponding labels in the same order\n",
    "speakerLabels=[]\n",
    "clusternumber=max(cluster_labels)+1\n",
    "for speakID in ipuID:\n",
    "    full=0\n",
    "    thisFeatVect=np.zeros(clusternumber)\n",
    "    for ipu in ipuID[speakID]:\n",
    "        #get the number for the IPU\n",
    "        ident=ipuID[speakID][ipu]\n",
    "        #get the cluster to which it belongs\n",
    "        cluster=cluster_labels[ident]\n",
    "        if cluster!=-1:\n",
    "        #add 1 to the count of that cluster\n",
    "            thisFeatVect[cluster-1]+=1\n",
    "            full+=1\n",
    "        else:\n",
    "            thisFeatVect[24]+=1\n",
    "            full+=1\n",
    "        \n",
    "    #normalize the counts\n",
    "    normFeatVect=[]\n",
    "    #print len(thisFeatVect)\n",
    "    for item in thisFeatVect:\n",
    "        item=(item*1.0)/full\n",
    "        normFeatVect.append(item)\n",
    "    speakerFeatures.append(normFeatVect)\n",
    "    label=labels.iloc[speakID][\"Language\"]\n",
    "    speakerLabels.append(label)"
   ]
  },
  {
   "cell_type": "code",
   "execution_count": null,
   "metadata": {
    "collapsed": false,
    "scrolled": true
   },
   "outputs": [],
   "source": [
    "###ONLY RUN THIS ONCE, DUMMY\n",
    "print len(speakerLabels)\n",
    "print len (speakerFeatures)\n",
    "speakerFeatures=speakerFeatures[:-1]\n",
    "speakerLabels = speakerLabels[:-1]\n"
   ]
  },
  {
   "cell_type": "code",
   "execution_count": null,
   "metadata": {
    "collapsed": false
   },
   "outputs": [],
   "source": [
    "len(speakerFeatures)"
   ]
  },
  {
   "cell_type": "markdown",
   "metadata": {},
   "source": [
    "### NOTE: talk to Pablo about what this did / does"
   ]
  },
  {
   "cell_type": "markdown",
   "metadata": {},
   "source": [
    "### In which I try to make some percentage features (percentage of ipus assigned to each cluster), and this feature doesn't work as well as using the cluster labels themselves?  Does that make sense?"
   ]
  },
  {
   "cell_type": "code",
   "execution_count": null,
   "metadata": {
    "collapsed": true
   },
   "outputs": [],
   "source": [
    "for i in cluster.labels_:\n",
    "    print i"
   ]
  },
  {
   "cell_type": "code",
   "execution_count": null,
   "metadata": {
    "collapsed": false
   },
   "outputs": [],
   "source": [
    "percentage_out = []\n",
    "for item in histo:\n",
    "    percentage_out.append(item/float(histo.sum()))\n",
    "    \n",
    "print (percentage_out)"
   ]
  },
  {
   "cell_type": "code",
   "execution_count": null,
   "metadata": {
    "collapsed": false
   },
   "outputs": [],
   "source": [
    "## what percentage of ipus are in each cluster?  still not speaker based, I don't think there's a way to do that\n",
    "percent_features = []\n",
    "for i in range(len(percentage_out)):\n",
    "    percentage = [percentage_out[i]]\n",
    "    multiplier = histo[i]\n",
    "    outlist = percentage*multiplier\n",
    "    for item in outlist:\n",
    "        percent_features.append(item)\n",
    "\n",
    "print len(percent_features)\n",
    "    \n",
    "    "
   ]
  },
  {
   "cell_type": "code",
   "execution_count": null,
   "metadata": {
    "collapsed": true
   },
   "outputs": [],
   "source": [
    "ipu_percentages = [[feat] for feat in percent_features]"
   ]
  },
  {
   "cell_type": "code",
   "execution_count": null,
   "metadata": {
    "collapsed": false
   },
   "outputs": [],
   "source": [
    "x = [3]\n",
    "print x*3"
   ]
  },
  {
   "cell_type": "markdown",
   "metadata": {},
   "source": [
    "### A little bit of shit code below - notes from changing things to speaker based from before, but I can't really do that here, I don't think.\n",
    "    "
   ]
  },
  {
   "cell_type": "markdown",
   "metadata": {},
   "source": [
    "speaker_ipu_histograms = []\n",
    "for speaker in all_ipu_coefs:\n",
    "    scaled_ipu = scaler.transform(speaker)\n",
    "    ipu_centers = cluster.predict(scaled_ipu)\n",
    "    histo = np.bincount(ipu_centers, minlength=cluster.n_clusters) #set to to the clusteres we specificied before \n",
    "    #histo = np.bincount(ipu_centers, minlength=cluster.n_clusters) #set to to the clusteres we specificied before \n",
    "    speaker_ipu_histograms.append(histo / float(histo.sum()))"
   ]
  },
  {
   "cell_type": "markdown",
   "metadata": {},
   "source": [
    "only_legendre = pd.DataFrame(speaker_ipu_histograms, columns=[\"cluster%d\" % i for i in range(70)])\n",
    "print only_legendre"
   ]
  },
  {
   "cell_type": "markdown",
   "metadata": {},
   "source": [
    "### Below makes a feature vector using just the label of the cluster as a feature"
   ]
  },
  {
   "cell_type": "code",
   "execution_count": 82,
   "metadata": {
    "collapsed": false
   },
   "outputs": [],
   "source": [
    "features = [ [feat] for feat in cluster_labels ]"
   ]
  },
  {
   "cell_type": "code",
   "execution_count": 83,
   "metadata": {
    "collapsed": true
   },
   "outputs": [
    {
     "name": "stdout",
     "output_type": "stream",
     "text": [
      "[[0], [0], [0], [0], [0], [0], [0], [0], [0], [0], [0], [0], [0], [0], [0], [0], [0], [0], [0], [0], [0], [0], [0], [0], [0], [0], [0], [0], [0], [0], [0], [0], [0], [0], [0], [0], [0], [0], [0], [0], [0], [0], [0], [0], [0], [0], [0], [0], [0], [0], [0], [0], [0], [0], [0], [0], [0], [0], [0], [0], [0], [0], [0], [0], [0], [0], [0], [1], [1], [1], [1], [1], [1], [1], [1], [1], [1], [1], [1], [1], [1], [1], [1], [1], [1], [1], [1], [1], [1], [1], [1], [1], [1], [1], [1], [1], [1], [1], [1], [1], [1], [1], [1], [1], [1], [1], [1], [1], [1], [1], [1], [1], [1], [1], [1], [1], [1], [1], [1], [1], [27], [27], [27], [2], [2], [2], [2], [2], [2], [3], [3], [3], [3], [3], [3], [3], [3], [3], [3], [3], [3], [3], [3], [3], [3], [3], [3], [3], [3], [3], [3], [3], [3], [3], [3], [3], [3], [3], [3], [3], [3], [3], [3], [3], [3], [3], [3], [3], [3], [3], [3], [3], [3], [3], [3], [3], [3], [3], [3], [3], [3], [3], [3], [3], [3], [3], [3], [3], [3], [3], [3], [3], [3], [3], [3], [3], [3], [3], [3], [3], [3], [3], [3], [3], [27], [27], [27], [27], [27], [27], [27], [27], [27], [27], [4], [4], [4], [4], [4], [4], [4], [4], [4], [4], [4], [4], [4], [4], [4], [4], [4], [4], [4], [4], [4], [4], [4], [4], [4], [4], [4], [4], [4], [4], [4], [4], [4], [4], [4], [4], [4], [4], [4], [4], [4], [4], [4], [4], [4], [5], [5], [5], [5], [5], [5], [5], [5], [5], [5], [5], [5], [5], [5], [5], [5], [5], [5], [5], [5], [5], [5], [5], [5], [5], [5], [5], [5], [5], [5], [5], [5], [5], [5], [5], [5], [5], [5], [5], [5], [6], [6], [6], [6], [6], [6], [6], [6], [6], [6], [6], [6], [6], [6], [6], [6], [6], [6], [6], [6], [6], [6], [6], [6], [6], [6], [6], [6], [6], [6], [6], [6], [6], [6], [6], [6], [6], [6], [6], [6], [6], [6], [6], [6], [6], [6], [7], [7], [7], [7], [7], [7], [7], [7], [7], [7], [7], [7], [7], [7], [7], [7], [7], [7], [7], [7], [7], [7], [7], [7], [7], [7], [7], [7], [7], [7], [7], [7], [7], [7], [7], [7], [7], [7], [7], [7], [7], [7], [7], [7], [7], [7], [7], [7], [7], [7], [8], [8], [8], [8], [8], [8], [8], [8], [8], [8], [8], [8], [8], [8], [8], [8], [8], [8], [8], [8], [8], [8], [8], [8], [8], [8], [8], [8], [8], [8], [8], [8], [8], [8], [8], [8], [8], [8], [8], [8], [8], [8], [8], [8], [8], [8], [8], [9], [9], [9], [9], [9], [9], [9], [9], [9], [9], [9], [9], [9], [9], [9], [9], [9], [9], [9], [9], [9], [9], [9], [9], [9], [9], [9], [9], [9], [9], [9], [9], [9], [9], [9], [9], [9], [9], [9], [9], [9], [9], [9], [9], [9], [9], [9], [9], [9], [9], [9], [9], [9], [9], [9], [9], [9], [9], [9], [9], [9], [10], [10], [10], [10], [10], [10], [10], [10], [10], [10], [10], [10], [10], [10], [10], [10], [10], [10], [10], [10], [10], [10], [10], [10], [10], [10], [10], [10], [10], [10], [10], [10], [10], [10], [10], [10], [10], [10], [10], [10], [10], [10], [10], [10], [10], [10], [10], [10], [10], [10], [10], [10], [10], [10], [10], [10], [10], [10], [10], [10], [10], [10], [10], [10], [10], [11], [11], [11], [11], [11], [11], [11], [11], [11], [11], [11], [11], [11], [11], [11], [11], [11], [11], [11], [11], [11], [11], [11], [11], [11], [11], [11], [11], [11], [12], [12], [12], [12], [12], [12], [12], [12], [12], [12], [12], [12], [12], [12], [12], [12], [12], [12], [12], [12], [12], [12], [12], [12], [12], [12], [12], [12], [12], [12], [12], [12], [12], [12], [12], [12], [12], [12], [12], [12], [12], [12], [13], [13], [13], [13], [13], [13], [13], [13], [13], [13], [13], [13], [13], [13], [13], [13], [13], [13], [13], [13], [13], [13], [13], [13], [13], [13], [13], [13], [13], [13], [13], [13], [13], [13], [13], [13], [13], [13], [13], [13], [13], [13], [13], [13], [13], [13], [13], [13], [13], [27], [27], [27], [14], [14], [14], [14], [14], [14], [14], [14], [14], [14], [14], [14], [14], [14], [14], [14], [14], [14], [14], [14], [14], [14], [14], [14], [14], [14], [14], [14], [14], [14], [14], [14], [14], [14], [15], [15], [15], [15], [15], [15], [15], [15], [15], [15], [15], [15], [15], [15], [15], [16], [16], [16], [16], [16], [16], [16], [16], [16], [16], [16], [16], [16], [16], [16], [16], [16], [16], [16], [16], [16], [16], [16], [16], [16], [16], [16], [16], [16], [16], [16], [16], [16], [16], [16], [16], [16], [16], [16], [16], [16], [16], [16], [16], [16], [16], [16], [16], [16], [16], [16], [16], [16], [16], [16], [16], [16], [16], [16], [16], [16], [16], [16], [16], [16], [16], [16], [16], [16], [16], [16], [16], [16], [16], [16], [16], [16], [16], [16], [16], [16], [16], [16], [16], [16], [16], [16], [16], [16], [16], [16], [16], [16], [16], [16], [16], [16], [16], [16], [16], [16], [16], [16], [16], [16], [16], [16], [27], [27], [27], [27], [17], [17], [17], [17], [17], [17], [17], [17], [17], [17], [17], [17], [17], [17], [17], [17], [17], [17], [17], [17], [17], [17], [17], [17], [17], [17], [17], [17], [17], [17], [17], [17], [17], [17], [17], [17], [17], [17], [17], [17], [17], [17], [17], [17], [17], [17], [17], [17], [17], [17], [17], [17], [5], [5], [5], [5], [5], [5], [5], [5], [5], [18], [18], [18], [18], [18], [18], [18], [18], [18], [18], [18], [19], [19], [19], [19], [19], [19], [19], [19], [19], [19], [19], [19], [19], [19], [19], [19], [19], [19], [19], [19], [19], [19], [19], [19], [19], [19], [19], [20], [20], [20], [20], [20], [20], [20], [20], [20], [20], [20], [20], [20], [20], [20], [20], [20], [20], [20], [20], [20], [20], [20], [20], [20], [20], [20], [20], [20], [20], [20], [20], [20], [20], [20], [20], [20], [20], [20], [20], [20], [20], [21], [21], [21], [21], [21], [21], [21], [21], [21], [21], [21], [21], [21], [21], [21], [21], [21], [21], [21], [21], [21], [21], [21], [21], [21], [21], [21], [21], [21], [21], [21], [21], [21], [21], [22], [22], [22], [22], [22], [22], [22], [22], [22], [22], [22], [22], [22], [22], [22], [22], [22], [22], [22], [22], [22], [22], [22], [22], [22], [22], [22], [22], [22], [22], [22], [22], [22], [22], [22], [22], [22], [22], [22], [22], [22], [22], [22], [22], [23], [23], [23], [23], [23], [24], [24], [24], [24], [24], [24], [24], [24], [24], [24], [24], [24], [24], [24], [24], [24], [24], [24], [24], [24], [24], [24], [24], [24], [24], [24], [25], [25], [25], [25], [25], [25], [25], [25], [25], [25], [25], [25], [25], [25], [25], [25], [25], [25], [25], [25], [25], [25], [25], [25], [25], [25], [25], [25], [25], [25], [25], [25], [25], [25], [25], [25], [25], [25], [25], [25], [25], [25], [25], [25], [25], [27], [26], [26], [26], [26], [26], [26], [26], [26], [26], [26], [26], [26], [26], [26], [26], [26], [26], [26], [26], [26], [26], [26], [26], [26], [26], [26], [26], [26], [26], [26], [26], [26], [26], [26], [26], [26], [26], [26], [26], [26], [26], [26], [26], [26], [26], [26], [26], [26], [26], [26], [26], [26], [26], [26], [26], [26], [26], [26], [26], [26], [26], [26], [26], [26], [26], [26]]\n"
     ]
    }
   ],
   "source": [
    "print features"
   ]
  },
  {
   "cell_type": "code",
   "execution_count": 84,
   "metadata": {
    "collapsed": true
   },
   "outputs": [],
   "source": [
    "clf_labels = [IDtoLabel[i]for i in range(len(features))]"
   ]
  },
  {
   "cell_type": "code",
   "execution_count": null,
   "metadata": {
    "collapsed": true
   },
   "outputs": [],
   "source": [
    "print clf_labels"
   ]
  },
  {
   "cell_type": "markdown",
   "metadata": {},
   "source": [
    "### Here, we make more visualizations of the data (useful histograms)"
   ]
  },
  {
   "cell_type": "code",
   "execution_count": 85,
   "metadata": {
    "collapsed": false
   },
   "outputs": [],
   "source": [
    "langlab = zip(clf_labels, cluster_labels)\n",
    "import collections\n",
    "c = dict(collections.Counter(langlab))"
   ]
  },
  {
   "cell_type": "code",
   "execution_count": 86,
   "metadata": {
    "collapsed": true
   },
   "outputs": [],
   "source": [
    "lcounts = {'English':np.zeros(clabels.max()+1), 'Mandarin':np.zeros(clabels.max()+1)}"
   ]
  },
  {
   "cell_type": "code",
   "execution_count": 87,
   "metadata": {
    "collapsed": false
   },
   "outputs": [],
   "source": [
    "for ((lang, clust), count) in c.items():\n",
    "    lcounts[lang][clust] = count\n",
    "   "
   ]
  },
  {
   "cell_type": "code",
   "execution_count": 88,
   "metadata": {
    "collapsed": false
   },
   "outputs": [
    {
     "data": {
      "application/javascript": [
       "/* Put everything inside the global mpl namespace */\n",
       "window.mpl = {};\n",
       "\n",
       "\n",
       "mpl.get_websocket_type = function() {\n",
       "    if (typeof(WebSocket) !== 'undefined') {\n",
       "        return WebSocket;\n",
       "    } else if (typeof(MozWebSocket) !== 'undefined') {\n",
       "        return MozWebSocket;\n",
       "    } else {\n",
       "        alert('Your browser does not have WebSocket support.' +\n",
       "              'Please try Chrome, Safari or Firefox ≥ 6. ' +\n",
       "              'Firefox 4 and 5 are also supported but you ' +\n",
       "              'have to enable WebSockets in about:config.');\n",
       "    };\n",
       "}\n",
       "\n",
       "mpl.figure = function(figure_id, websocket, ondownload, parent_element) {\n",
       "    this.id = figure_id;\n",
       "\n",
       "    this.ws = websocket;\n",
       "\n",
       "    this.supports_binary = (this.ws.binaryType != undefined);\n",
       "\n",
       "    if (!this.supports_binary) {\n",
       "        var warnings = document.getElementById(\"mpl-warnings\");\n",
       "        if (warnings) {\n",
       "            warnings.style.display = 'block';\n",
       "            warnings.textContent = (\n",
       "                \"This browser does not support binary websocket messages. \" +\n",
       "                    \"Performance may be slow.\");\n",
       "        }\n",
       "    }\n",
       "\n",
       "    this.imageObj = new Image();\n",
       "\n",
       "    this.context = undefined;\n",
       "    this.message = undefined;\n",
       "    this.canvas = undefined;\n",
       "    this.rubberband_canvas = undefined;\n",
       "    this.rubberband_context = undefined;\n",
       "    this.format_dropdown = undefined;\n",
       "\n",
       "    this.image_mode = 'full';\n",
       "\n",
       "    this.root = $('<div/>');\n",
       "    this._root_extra_style(this.root)\n",
       "    this.root.attr('style', 'display: inline-block');\n",
       "\n",
       "    $(parent_element).append(this.root);\n",
       "\n",
       "    this._init_header(this);\n",
       "    this._init_canvas(this);\n",
       "    this._init_toolbar(this);\n",
       "\n",
       "    var fig = this;\n",
       "\n",
       "    this.waiting = false;\n",
       "\n",
       "    this.ws.onopen =  function () {\n",
       "            fig.send_message(\"supports_binary\", {value: fig.supports_binary});\n",
       "            fig.send_message(\"send_image_mode\", {});\n",
       "            if (mpl.ratio != 1) {\n",
       "                fig.send_message(\"set_dpi_ratio\", {'dpi_ratio': mpl.ratio});\n",
       "            }\n",
       "            fig.send_message(\"refresh\", {});\n",
       "        }\n",
       "\n",
       "    this.imageObj.onload = function() {\n",
       "            if (fig.image_mode == 'full') {\n",
       "                // Full images could contain transparency (where diff images\n",
       "                // almost always do), so we need to clear the canvas so that\n",
       "                // there is no ghosting.\n",
       "                fig.context.clearRect(0, 0, fig.canvas.width, fig.canvas.height);\n",
       "            }\n",
       "            fig.context.drawImage(fig.imageObj, 0, 0);\n",
       "        };\n",
       "\n",
       "    this.imageObj.onunload = function() {\n",
       "        this.ws.close();\n",
       "    }\n",
       "\n",
       "    this.ws.onmessage = this._make_on_message_function(this);\n",
       "\n",
       "    this.ondownload = ondownload;\n",
       "}\n",
       "\n",
       "mpl.figure.prototype._init_header = function() {\n",
       "    var titlebar = $(\n",
       "        '<div class=\"ui-dialog-titlebar ui-widget-header ui-corner-all ' +\n",
       "        'ui-helper-clearfix\"/>');\n",
       "    var titletext = $(\n",
       "        '<div class=\"ui-dialog-title\" style=\"width: 100%; ' +\n",
       "        'text-align: center; padding: 3px;\"/>');\n",
       "    titlebar.append(titletext)\n",
       "    this.root.append(titlebar);\n",
       "    this.header = titletext[0];\n",
       "}\n",
       "\n",
       "\n",
       "\n",
       "mpl.figure.prototype._canvas_extra_style = function(canvas_div) {\n",
       "\n",
       "}\n",
       "\n",
       "\n",
       "mpl.figure.prototype._root_extra_style = function(canvas_div) {\n",
       "\n",
       "}\n",
       "\n",
       "mpl.figure.prototype._init_canvas = function() {\n",
       "    var fig = this;\n",
       "\n",
       "    var canvas_div = $('<div/>');\n",
       "\n",
       "    canvas_div.attr('style', 'position: relative; clear: both; outline: 0');\n",
       "\n",
       "    function canvas_keyboard_event(event) {\n",
       "        return fig.key_event(event, event['data']);\n",
       "    }\n",
       "\n",
       "    canvas_div.keydown('key_press', canvas_keyboard_event);\n",
       "    canvas_div.keyup('key_release', canvas_keyboard_event);\n",
       "    this.canvas_div = canvas_div\n",
       "    this._canvas_extra_style(canvas_div)\n",
       "    this.root.append(canvas_div);\n",
       "\n",
       "    var canvas = $('<canvas/>');\n",
       "    canvas.addClass('mpl-canvas');\n",
       "    canvas.attr('style', \"left: 0; top: 0; z-index: 0; outline: 0\")\n",
       "\n",
       "    this.canvas = canvas[0];\n",
       "    this.context = canvas[0].getContext(\"2d\");\n",
       "\n",
       "    var backingStore = this.context.backingStorePixelRatio ||\n",
       "\tthis.context.webkitBackingStorePixelRatio ||\n",
       "\tthis.context.mozBackingStorePixelRatio ||\n",
       "\tthis.context.msBackingStorePixelRatio ||\n",
       "\tthis.context.oBackingStorePixelRatio ||\n",
       "\tthis.context.backingStorePixelRatio || 1;\n",
       "\n",
       "    mpl.ratio = (window.devicePixelRatio || 1) / backingStore;\n",
       "\n",
       "    var rubberband = $('<canvas/>');\n",
       "    rubberband.attr('style', \"position: absolute; left: 0; top: 0; z-index: 1;\")\n",
       "\n",
       "    var pass_mouse_events = true;\n",
       "\n",
       "    canvas_div.resizable({\n",
       "        start: function(event, ui) {\n",
       "            pass_mouse_events = false;\n",
       "        },\n",
       "        resize: function(event, ui) {\n",
       "            fig.request_resize(ui.size.width, ui.size.height);\n",
       "        },\n",
       "        stop: function(event, ui) {\n",
       "            pass_mouse_events = true;\n",
       "            fig.request_resize(ui.size.width, ui.size.height);\n",
       "        },\n",
       "    });\n",
       "\n",
       "    function mouse_event_fn(event) {\n",
       "        if (pass_mouse_events)\n",
       "            return fig.mouse_event(event, event['data']);\n",
       "    }\n",
       "\n",
       "    rubberband.mousedown('button_press', mouse_event_fn);\n",
       "    rubberband.mouseup('button_release', mouse_event_fn);\n",
       "    // Throttle sequential mouse events to 1 every 20ms.\n",
       "    rubberband.mousemove('motion_notify', mouse_event_fn);\n",
       "\n",
       "    rubberband.mouseenter('figure_enter', mouse_event_fn);\n",
       "    rubberband.mouseleave('figure_leave', mouse_event_fn);\n",
       "\n",
       "    canvas_div.on(\"wheel\", function (event) {\n",
       "        event = event.originalEvent;\n",
       "        event['data'] = 'scroll'\n",
       "        if (event.deltaY < 0) {\n",
       "            event.step = 1;\n",
       "        } else {\n",
       "            event.step = -1;\n",
       "        }\n",
       "        mouse_event_fn(event);\n",
       "    });\n",
       "\n",
       "    canvas_div.append(canvas);\n",
       "    canvas_div.append(rubberband);\n",
       "\n",
       "    this.rubberband = rubberband;\n",
       "    this.rubberband_canvas = rubberband[0];\n",
       "    this.rubberband_context = rubberband[0].getContext(\"2d\");\n",
       "    this.rubberband_context.strokeStyle = \"#000000\";\n",
       "\n",
       "    this._resize_canvas = function(width, height) {\n",
       "        // Keep the size of the canvas, canvas container, and rubber band\n",
       "        // canvas in synch.\n",
       "        canvas_div.css('width', width)\n",
       "        canvas_div.css('height', height)\n",
       "\n",
       "        canvas.attr('width', width * mpl.ratio);\n",
       "        canvas.attr('height', height * mpl.ratio);\n",
       "        canvas.attr('style', 'width: ' + width + 'px; height: ' + height + 'px;');\n",
       "\n",
       "        rubberband.attr('width', width);\n",
       "        rubberband.attr('height', height);\n",
       "    }\n",
       "\n",
       "    // Set the figure to an initial 600x600px, this will subsequently be updated\n",
       "    // upon first draw.\n",
       "    this._resize_canvas(600, 600);\n",
       "\n",
       "    // Disable right mouse context menu.\n",
       "    $(this.rubberband_canvas).bind(\"contextmenu\",function(e){\n",
       "        return false;\n",
       "    });\n",
       "\n",
       "    function set_focus () {\n",
       "        canvas.focus();\n",
       "        canvas_div.focus();\n",
       "    }\n",
       "\n",
       "    window.setTimeout(set_focus, 100);\n",
       "}\n",
       "\n",
       "mpl.figure.prototype._init_toolbar = function() {\n",
       "    var fig = this;\n",
       "\n",
       "    var nav_element = $('<div/>')\n",
       "    nav_element.attr('style', 'width: 100%');\n",
       "    this.root.append(nav_element);\n",
       "\n",
       "    // Define a callback function for later on.\n",
       "    function toolbar_event(event) {\n",
       "        return fig.toolbar_button_onclick(event['data']);\n",
       "    }\n",
       "    function toolbar_mouse_event(event) {\n",
       "        return fig.toolbar_button_onmouseover(event['data']);\n",
       "    }\n",
       "\n",
       "    for(var toolbar_ind in mpl.toolbar_items) {\n",
       "        var name = mpl.toolbar_items[toolbar_ind][0];\n",
       "        var tooltip = mpl.toolbar_items[toolbar_ind][1];\n",
       "        var image = mpl.toolbar_items[toolbar_ind][2];\n",
       "        var method_name = mpl.toolbar_items[toolbar_ind][3];\n",
       "\n",
       "        if (!name) {\n",
       "            // put a spacer in here.\n",
       "            continue;\n",
       "        }\n",
       "        var button = $('<button/>');\n",
       "        button.addClass('ui-button ui-widget ui-state-default ui-corner-all ' +\n",
       "                        'ui-button-icon-only');\n",
       "        button.attr('role', 'button');\n",
       "        button.attr('aria-disabled', 'false');\n",
       "        button.click(method_name, toolbar_event);\n",
       "        button.mouseover(tooltip, toolbar_mouse_event);\n",
       "\n",
       "        var icon_img = $('<span/>');\n",
       "        icon_img.addClass('ui-button-icon-primary ui-icon');\n",
       "        icon_img.addClass(image);\n",
       "        icon_img.addClass('ui-corner-all');\n",
       "\n",
       "        var tooltip_span = $('<span/>');\n",
       "        tooltip_span.addClass('ui-button-text');\n",
       "        tooltip_span.html(tooltip);\n",
       "\n",
       "        button.append(icon_img);\n",
       "        button.append(tooltip_span);\n",
       "\n",
       "        nav_element.append(button);\n",
       "    }\n",
       "\n",
       "    var fmt_picker_span = $('<span/>');\n",
       "\n",
       "    var fmt_picker = $('<select/>');\n",
       "    fmt_picker.addClass('mpl-toolbar-option ui-widget ui-widget-content');\n",
       "    fmt_picker_span.append(fmt_picker);\n",
       "    nav_element.append(fmt_picker_span);\n",
       "    this.format_dropdown = fmt_picker[0];\n",
       "\n",
       "    for (var ind in mpl.extensions) {\n",
       "        var fmt = mpl.extensions[ind];\n",
       "        var option = $(\n",
       "            '<option/>', {selected: fmt === mpl.default_extension}).html(fmt);\n",
       "        fmt_picker.append(option)\n",
       "    }\n",
       "\n",
       "    // Add hover states to the ui-buttons\n",
       "    $( \".ui-button\" ).hover(\n",
       "        function() { $(this).addClass(\"ui-state-hover\");},\n",
       "        function() { $(this).removeClass(\"ui-state-hover\");}\n",
       "    );\n",
       "\n",
       "    var status_bar = $('<span class=\"mpl-message\"/>');\n",
       "    nav_element.append(status_bar);\n",
       "    this.message = status_bar[0];\n",
       "}\n",
       "\n",
       "mpl.figure.prototype.request_resize = function(x_pixels, y_pixels) {\n",
       "    // Request matplotlib to resize the figure. Matplotlib will then trigger a resize in the client,\n",
       "    // which will in turn request a refresh of the image.\n",
       "    this.send_message('resize', {'width': x_pixels, 'height': y_pixels});\n",
       "}\n",
       "\n",
       "mpl.figure.prototype.send_message = function(type, properties) {\n",
       "    properties['type'] = type;\n",
       "    properties['figure_id'] = this.id;\n",
       "    this.ws.send(JSON.stringify(properties));\n",
       "}\n",
       "\n",
       "mpl.figure.prototype.send_draw_message = function() {\n",
       "    if (!this.waiting) {\n",
       "        this.waiting = true;\n",
       "        this.ws.send(JSON.stringify({type: \"draw\", figure_id: this.id}));\n",
       "    }\n",
       "}\n",
       "\n",
       "\n",
       "mpl.figure.prototype.handle_save = function(fig, msg) {\n",
       "    var format_dropdown = fig.format_dropdown;\n",
       "    var format = format_dropdown.options[format_dropdown.selectedIndex].value;\n",
       "    fig.ondownload(fig, format);\n",
       "}\n",
       "\n",
       "\n",
       "mpl.figure.prototype.handle_resize = function(fig, msg) {\n",
       "    var size = msg['size'];\n",
       "    if (size[0] != fig.canvas.width || size[1] != fig.canvas.height) {\n",
       "        fig._resize_canvas(size[0], size[1]);\n",
       "        fig.send_message(\"refresh\", {});\n",
       "    };\n",
       "}\n",
       "\n",
       "mpl.figure.prototype.handle_rubberband = function(fig, msg) {\n",
       "    var x0 = msg['x0'] / mpl.ratio;\n",
       "    var y0 = (fig.canvas.height - msg['y0']) / mpl.ratio;\n",
       "    var x1 = msg['x1'] / mpl.ratio;\n",
       "    var y1 = (fig.canvas.height - msg['y1']) / mpl.ratio;\n",
       "    x0 = Math.floor(x0) + 0.5;\n",
       "    y0 = Math.floor(y0) + 0.5;\n",
       "    x1 = Math.floor(x1) + 0.5;\n",
       "    y1 = Math.floor(y1) + 0.5;\n",
       "    var min_x = Math.min(x0, x1);\n",
       "    var min_y = Math.min(y0, y1);\n",
       "    var width = Math.abs(x1 - x0);\n",
       "    var height = Math.abs(y1 - y0);\n",
       "\n",
       "    fig.rubberband_context.clearRect(\n",
       "        0, 0, fig.canvas.width, fig.canvas.height);\n",
       "\n",
       "    fig.rubberband_context.strokeRect(min_x, min_y, width, height);\n",
       "}\n",
       "\n",
       "mpl.figure.prototype.handle_figure_label = function(fig, msg) {\n",
       "    // Updates the figure title.\n",
       "    fig.header.textContent = msg['label'];\n",
       "}\n",
       "\n",
       "mpl.figure.prototype.handle_cursor = function(fig, msg) {\n",
       "    var cursor = msg['cursor'];\n",
       "    switch(cursor)\n",
       "    {\n",
       "    case 0:\n",
       "        cursor = 'pointer';\n",
       "        break;\n",
       "    case 1:\n",
       "        cursor = 'default';\n",
       "        break;\n",
       "    case 2:\n",
       "        cursor = 'crosshair';\n",
       "        break;\n",
       "    case 3:\n",
       "        cursor = 'move';\n",
       "        break;\n",
       "    }\n",
       "    fig.rubberband_canvas.style.cursor = cursor;\n",
       "}\n",
       "\n",
       "mpl.figure.prototype.handle_message = function(fig, msg) {\n",
       "    fig.message.textContent = msg['message'];\n",
       "}\n",
       "\n",
       "mpl.figure.prototype.handle_draw = function(fig, msg) {\n",
       "    // Request the server to send over a new figure.\n",
       "    fig.send_draw_message();\n",
       "}\n",
       "\n",
       "mpl.figure.prototype.handle_image_mode = function(fig, msg) {\n",
       "    fig.image_mode = msg['mode'];\n",
       "}\n",
       "\n",
       "mpl.figure.prototype.updated_canvas_event = function() {\n",
       "    // Called whenever the canvas gets updated.\n",
       "    this.send_message(\"ack\", {});\n",
       "}\n",
       "\n",
       "// A function to construct a web socket function for onmessage handling.\n",
       "// Called in the figure constructor.\n",
       "mpl.figure.prototype._make_on_message_function = function(fig) {\n",
       "    return function socket_on_message(evt) {\n",
       "        if (evt.data instanceof Blob) {\n",
       "            /* FIXME: We get \"Resource interpreted as Image but\n",
       "             * transferred with MIME type text/plain:\" errors on\n",
       "             * Chrome.  But how to set the MIME type?  It doesn't seem\n",
       "             * to be part of the websocket stream */\n",
       "            evt.data.type = \"image/png\";\n",
       "\n",
       "            /* Free the memory for the previous frames */\n",
       "            if (fig.imageObj.src) {\n",
       "                (window.URL || window.webkitURL).revokeObjectURL(\n",
       "                    fig.imageObj.src);\n",
       "            }\n",
       "\n",
       "            fig.imageObj.src = (window.URL || window.webkitURL).createObjectURL(\n",
       "                evt.data);\n",
       "            fig.updated_canvas_event();\n",
       "            fig.waiting = false;\n",
       "            return;\n",
       "        }\n",
       "        else if (typeof evt.data === 'string' && evt.data.slice(0, 21) == \"data:image/png;base64\") {\n",
       "            fig.imageObj.src = evt.data;\n",
       "            fig.updated_canvas_event();\n",
       "            fig.waiting = false;\n",
       "            return;\n",
       "        }\n",
       "\n",
       "        var msg = JSON.parse(evt.data);\n",
       "        var msg_type = msg['type'];\n",
       "\n",
       "        // Call the  \"handle_{type}\" callback, which takes\n",
       "        // the figure and JSON message as its only arguments.\n",
       "        try {\n",
       "            var callback = fig[\"handle_\" + msg_type];\n",
       "        } catch (e) {\n",
       "            console.log(\"No handler for the '\" + msg_type + \"' message type: \", msg);\n",
       "            return;\n",
       "        }\n",
       "\n",
       "        if (callback) {\n",
       "            try {\n",
       "                // console.log(\"Handling '\" + msg_type + \"' message: \", msg);\n",
       "                callback(fig, msg);\n",
       "            } catch (e) {\n",
       "                console.log(\"Exception inside the 'handler_\" + msg_type + \"' callback:\", e, e.stack, msg);\n",
       "            }\n",
       "        }\n",
       "    };\n",
       "}\n",
       "\n",
       "// from http://stackoverflow.com/questions/1114465/getting-mouse-location-in-canvas\n",
       "mpl.findpos = function(e) {\n",
       "    //this section is from http://www.quirksmode.org/js/events_properties.html\n",
       "    var targ;\n",
       "    if (!e)\n",
       "        e = window.event;\n",
       "    if (e.target)\n",
       "        targ = e.target;\n",
       "    else if (e.srcElement)\n",
       "        targ = e.srcElement;\n",
       "    if (targ.nodeType == 3) // defeat Safari bug\n",
       "        targ = targ.parentNode;\n",
       "\n",
       "    // jQuery normalizes the pageX and pageY\n",
       "    // pageX,Y are the mouse positions relative to the document\n",
       "    // offset() returns the position of the element relative to the document\n",
       "    var x = e.pageX - $(targ).offset().left;\n",
       "    var y = e.pageY - $(targ).offset().top;\n",
       "\n",
       "    return {\"x\": x, \"y\": y};\n",
       "};\n",
       "\n",
       "/*\n",
       " * return a copy of an object with only non-object keys\n",
       " * we need this to avoid circular references\n",
       " * http://stackoverflow.com/a/24161582/3208463\n",
       " */\n",
       "function simpleKeys (original) {\n",
       "  return Object.keys(original).reduce(function (obj, key) {\n",
       "    if (typeof original[key] !== 'object')\n",
       "        obj[key] = original[key]\n",
       "    return obj;\n",
       "  }, {});\n",
       "}\n",
       "\n",
       "mpl.figure.prototype.mouse_event = function(event, name) {\n",
       "    var canvas_pos = mpl.findpos(event)\n",
       "\n",
       "    if (name === 'button_press')\n",
       "    {\n",
       "        this.canvas.focus();\n",
       "        this.canvas_div.focus();\n",
       "    }\n",
       "\n",
       "    var x = canvas_pos.x * mpl.ratio;\n",
       "    var y = canvas_pos.y * mpl.ratio;\n",
       "\n",
       "    this.send_message(name, {x: x, y: y, button: event.button,\n",
       "                             step: event.step,\n",
       "                             guiEvent: simpleKeys(event)});\n",
       "\n",
       "    /* This prevents the web browser from automatically changing to\n",
       "     * the text insertion cursor when the button is pressed.  We want\n",
       "     * to control all of the cursor setting manually through the\n",
       "     * 'cursor' event from matplotlib */\n",
       "    event.preventDefault();\n",
       "    return false;\n",
       "}\n",
       "\n",
       "mpl.figure.prototype._key_event_extra = function(event, name) {\n",
       "    // Handle any extra behaviour associated with a key event\n",
       "}\n",
       "\n",
       "mpl.figure.prototype.key_event = function(event, name) {\n",
       "\n",
       "    // Prevent repeat events\n",
       "    if (name == 'key_press')\n",
       "    {\n",
       "        if (event.which === this._key)\n",
       "            return;\n",
       "        else\n",
       "            this._key = event.which;\n",
       "    }\n",
       "    if (name == 'key_release')\n",
       "        this._key = null;\n",
       "\n",
       "    var value = '';\n",
       "    if (event.ctrlKey && event.which != 17)\n",
       "        value += \"ctrl+\";\n",
       "    if (event.altKey && event.which != 18)\n",
       "        value += \"alt+\";\n",
       "    if (event.shiftKey && event.which != 16)\n",
       "        value += \"shift+\";\n",
       "\n",
       "    value += 'k';\n",
       "    value += event.which.toString();\n",
       "\n",
       "    this._key_event_extra(event, name);\n",
       "\n",
       "    this.send_message(name, {key: value,\n",
       "                             guiEvent: simpleKeys(event)});\n",
       "    return false;\n",
       "}\n",
       "\n",
       "mpl.figure.prototype.toolbar_button_onclick = function(name) {\n",
       "    if (name == 'download') {\n",
       "        this.handle_save(this, null);\n",
       "    } else {\n",
       "        this.send_message(\"toolbar_button\", {name: name});\n",
       "    }\n",
       "};\n",
       "\n",
       "mpl.figure.prototype.toolbar_button_onmouseover = function(tooltip) {\n",
       "    this.message.textContent = tooltip;\n",
       "};\n",
       "mpl.toolbar_items = [[\"Home\", \"Reset original view\", \"fa fa-home icon-home\", \"home\"], [\"Back\", \"Back to  previous view\", \"fa fa-arrow-left icon-arrow-left\", \"back\"], [\"Forward\", \"Forward to next view\", \"fa fa-arrow-right icon-arrow-right\", \"forward\"], [\"\", \"\", \"\", \"\"], [\"Pan\", \"Pan axes with left mouse, zoom with right\", \"fa fa-arrows icon-move\", \"pan\"], [\"Zoom\", \"Zoom to rectangle\", \"fa fa-square-o icon-check-empty\", \"zoom\"], [\"\", \"\", \"\", \"\"], [\"Download\", \"Download plot\", \"fa fa-floppy-o icon-save\", \"download\"]];\n",
       "\n",
       "mpl.extensions = [\"eps\", \"jpeg\", \"pdf\", \"png\", \"ps\", \"raw\", \"svg\", \"tif\"];\n",
       "\n",
       "mpl.default_extension = \"png\";var comm_websocket_adapter = function(comm) {\n",
       "    // Create a \"websocket\"-like object which calls the given IPython comm\n",
       "    // object with the appropriate methods. Currently this is a non binary\n",
       "    // socket, so there is still some room for performance tuning.\n",
       "    var ws = {};\n",
       "\n",
       "    ws.close = function() {\n",
       "        comm.close()\n",
       "    };\n",
       "    ws.send = function(m) {\n",
       "        //console.log('sending', m);\n",
       "        comm.send(m);\n",
       "    };\n",
       "    // Register the callback with on_msg.\n",
       "    comm.on_msg(function(msg) {\n",
       "        //console.log('receiving', msg['content']['data'], msg);\n",
       "        // Pass the mpl event to the overriden (by mpl) onmessage function.\n",
       "        ws.onmessage(msg['content']['data'])\n",
       "    });\n",
       "    return ws;\n",
       "}\n",
       "\n",
       "mpl.mpl_figure_comm = function(comm, msg) {\n",
       "    // This is the function which gets called when the mpl process\n",
       "    // starts-up an IPython Comm through the \"matplotlib\" channel.\n",
       "\n",
       "    var id = msg.content.data.id;\n",
       "    // Get hold of the div created by the display call when the Comm\n",
       "    // socket was opened in Python.\n",
       "    var element = $(\"#\" + id);\n",
       "    var ws_proxy = comm_websocket_adapter(comm)\n",
       "\n",
       "    function ondownload(figure, format) {\n",
       "        window.open(figure.imageObj.src);\n",
       "    }\n",
       "\n",
       "    var fig = new mpl.figure(id, ws_proxy,\n",
       "                           ondownload,\n",
       "                           element.get(0));\n",
       "\n",
       "    // Call onopen now - mpl needs it, as it is assuming we've passed it a real\n",
       "    // web socket which is closed, not our websocket->open comm proxy.\n",
       "    ws_proxy.onopen();\n",
       "\n",
       "    fig.parent_element = element.get(0);\n",
       "    fig.cell_info = mpl.find_output_cell(\"<div id='\" + id + \"'></div>\");\n",
       "    if (!fig.cell_info) {\n",
       "        console.error(\"Failed to find cell for figure\", id, fig);\n",
       "        return;\n",
       "    }\n",
       "\n",
       "    var output_index = fig.cell_info[2]\n",
       "    var cell = fig.cell_info[0];\n",
       "\n",
       "};\n",
       "\n",
       "mpl.figure.prototype.handle_close = function(fig, msg) {\n",
       "    var width = fig.canvas.width/mpl.ratio\n",
       "    fig.root.unbind('remove')\n",
       "\n",
       "    // Update the output cell to use the data from the current canvas.\n",
       "    fig.push_to_output();\n",
       "    var dataURL = fig.canvas.toDataURL();\n",
       "    // Re-enable the keyboard manager in IPython - without this line, in FF,\n",
       "    // the notebook keyboard shortcuts fail.\n",
       "    IPython.keyboard_manager.enable()\n",
       "    $(fig.parent_element).html('<img src=\"' + dataURL + '\" width=\"' + width + '\">');\n",
       "    fig.close_ws(fig, msg);\n",
       "}\n",
       "\n",
       "mpl.figure.prototype.close_ws = function(fig, msg){\n",
       "    fig.send_message('closing', msg);\n",
       "    // fig.ws.close()\n",
       "}\n",
       "\n",
       "mpl.figure.prototype.push_to_output = function(remove_interactive) {\n",
       "    // Turn the data on the canvas into data in the output cell.\n",
       "    var width = this.canvas.width/mpl.ratio\n",
       "    var dataURL = this.canvas.toDataURL();\n",
       "    this.cell_info[1]['text/html'] = '<img src=\"' + dataURL + '\" width=\"' + width + '\">';\n",
       "}\n",
       "\n",
       "mpl.figure.prototype.updated_canvas_event = function() {\n",
       "    // Tell IPython that the notebook contents must change.\n",
       "    IPython.notebook.set_dirty(true);\n",
       "    this.send_message(\"ack\", {});\n",
       "    var fig = this;\n",
       "    // Wait a second, then push the new image to the DOM so\n",
       "    // that it is saved nicely (might be nice to debounce this).\n",
       "    setTimeout(function () { fig.push_to_output() }, 1000);\n",
       "}\n",
       "\n",
       "mpl.figure.prototype._init_toolbar = function() {\n",
       "    var fig = this;\n",
       "\n",
       "    var nav_element = $('<div/>')\n",
       "    nav_element.attr('style', 'width: 100%');\n",
       "    this.root.append(nav_element);\n",
       "\n",
       "    // Define a callback function for later on.\n",
       "    function toolbar_event(event) {\n",
       "        return fig.toolbar_button_onclick(event['data']);\n",
       "    }\n",
       "    function toolbar_mouse_event(event) {\n",
       "        return fig.toolbar_button_onmouseover(event['data']);\n",
       "    }\n",
       "\n",
       "    for(var toolbar_ind in mpl.toolbar_items){\n",
       "        var name = mpl.toolbar_items[toolbar_ind][0];\n",
       "        var tooltip = mpl.toolbar_items[toolbar_ind][1];\n",
       "        var image = mpl.toolbar_items[toolbar_ind][2];\n",
       "        var method_name = mpl.toolbar_items[toolbar_ind][3];\n",
       "\n",
       "        if (!name) { continue; };\n",
       "\n",
       "        var button = $('<button class=\"btn btn-default\" href=\"#\" title=\"' + name + '\"><i class=\"fa ' + image + ' fa-lg\"></i></button>');\n",
       "        button.click(method_name, toolbar_event);\n",
       "        button.mouseover(tooltip, toolbar_mouse_event);\n",
       "        nav_element.append(button);\n",
       "    }\n",
       "\n",
       "    // Add the status bar.\n",
       "    var status_bar = $('<span class=\"mpl-message\" style=\"text-align:right; float: right;\"/>');\n",
       "    nav_element.append(status_bar);\n",
       "    this.message = status_bar[0];\n",
       "\n",
       "    // Add the close button to the window.\n",
       "    var buttongrp = $('<div class=\"btn-group inline pull-right\"></div>');\n",
       "    var button = $('<button class=\"btn btn-mini btn-primary\" href=\"#\" title=\"Stop Interaction\"><i class=\"fa fa-power-off icon-remove icon-large\"></i></button>');\n",
       "    button.click(function (evt) { fig.handle_close(fig, {}); } );\n",
       "    button.mouseover('Stop Interaction', toolbar_mouse_event);\n",
       "    buttongrp.append(button);\n",
       "    var titlebar = this.root.find($('.ui-dialog-titlebar'));\n",
       "    titlebar.prepend(buttongrp);\n",
       "}\n",
       "\n",
       "mpl.figure.prototype._root_extra_style = function(el){\n",
       "    var fig = this\n",
       "    el.on(\"remove\", function(){\n",
       "\tfig.close_ws(fig, {});\n",
       "    });\n",
       "}\n",
       "\n",
       "mpl.figure.prototype._canvas_extra_style = function(el){\n",
       "    // this is important to make the div 'focusable\n",
       "    el.attr('tabindex', 0)\n",
       "    // reach out to IPython and tell the keyboard manager to turn it's self\n",
       "    // off when our div gets focus\n",
       "\n",
       "    // location in version 3\n",
       "    if (IPython.notebook.keyboard_manager) {\n",
       "        IPython.notebook.keyboard_manager.register_events(el);\n",
       "    }\n",
       "    else {\n",
       "        // location in version 2\n",
       "        IPython.keyboard_manager.register_events(el);\n",
       "    }\n",
       "\n",
       "}\n",
       "\n",
       "mpl.figure.prototype._key_event_extra = function(event, name) {\n",
       "    var manager = IPython.notebook.keyboard_manager;\n",
       "    if (!manager)\n",
       "        manager = IPython.keyboard_manager;\n",
       "\n",
       "    // Check for shift+enter\n",
       "    if (event.shiftKey && event.which == 13) {\n",
       "        this.canvas_div.blur();\n",
       "        // select the cell after this one\n",
       "        var index = IPython.notebook.find_cell_index(this.cell_info[0]);\n",
       "        IPython.notebook.select(index + 1);\n",
       "    }\n",
       "}\n",
       "\n",
       "mpl.figure.prototype.handle_save = function(fig, msg) {\n",
       "    fig.ondownload(fig, null);\n",
       "}\n",
       "\n",
       "\n",
       "mpl.find_output_cell = function(html_output) {\n",
       "    // Return the cell and output element which can be found *uniquely* in the notebook.\n",
       "    // Note - this is a bit hacky, but it is done because the \"notebook_saving.Notebook\"\n",
       "    // IPython event is triggered only after the cells have been serialised, which for\n",
       "    // our purposes (turning an active figure into a static one), is too late.\n",
       "    var cells = IPython.notebook.get_cells();\n",
       "    var ncells = cells.length;\n",
       "    for (var i=0; i<ncells; i++) {\n",
       "        var cell = cells[i];\n",
       "        if (cell.cell_type === 'code'){\n",
       "            for (var j=0; j<cell.output_area.outputs.length; j++) {\n",
       "                var data = cell.output_area.outputs[j];\n",
       "                if (data.data) {\n",
       "                    // IPython >= 3 moved mimebundle to data attribute of output\n",
       "                    data = data.data;\n",
       "                }\n",
       "                if (data['text/html'] == html_output) {\n",
       "                    return [cell, data, j];\n",
       "                }\n",
       "            }\n",
       "        }\n",
       "    }\n",
       "}\n",
       "\n",
       "// Register the function which deals with the matplotlib target/channel.\n",
       "// The kernel may be null if the page has been refreshed.\n",
       "if (IPython.notebook.kernel != null) {\n",
       "    IPython.notebook.kernel.comm_manager.register_target('matplotlib', mpl.mpl_figure_comm);\n",
       "}\n"
      ],
      "text/plain": [
       "<IPython.core.display.Javascript object>"
      ]
     },
     "metadata": {},
     "output_type": "display_data"
    },
    {
     "data": {
      "text/html": [
       "<img src=\"data:image/png;base64,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\" width=\"640\">"
      ],
      "text/plain": [
       "<IPython.core.display.HTML object>"
      ]
     },
     "metadata": {},
     "output_type": "display_data"
    },
    {
     "data": {
      "text/plain": [
       "<matplotlib.text.Text at 0x1d9c4470>"
      ]
     },
     "execution_count": 88,
     "metadata": {},
     "output_type": "execute_result"
    }
   ],
   "source": [
    "fig, ax = plt.subplots()\n",
    "ax.bar(clabels, lcounts['English'], label=\"English\")\n",
    "ax.bar(clabels, lcounts['Mandarin'], bottom=lcounts['English'], label=\"Mandarin\")\n",
    "ax.set_xticks(clabels)\n",
    "ax.legend()\n",
    "ax.set_ylim((0,600))\n",
    "ax.set_xlabel(\"Clusters\")\n",
    "ax.set_ylabel(\"Number of IPUs assigned to cluster\")\n",
    "ax.set_title(\"Number of IPUs Assigned to Clusters by Native Language\")"
   ]
  },
  {
   "cell_type": "code",
   "execution_count": 89,
   "metadata": {
    "collapsed": true
   },
   "outputs": [
    {
     "data": {
      "text/plain": [
       "{'English': array([ 67.,  53.,   0.,   0.,  45.,  40.,   0.,  50.,  47.,  61.,   0.,\n",
       "         29.,  42.,  49.,  34.,   0.,   0.,   0.,   0.,   0.,   0.,   0.,\n",
       "          0.,   0.,   0.,   0.,   0.,  11.]),\n",
       " 'Mandarin': array([   0.,    0.,    6.,   75.,    0.,    9.,   46.,    0.,    0.,\n",
       "           0.,   65.,    0.,    0.,    0.,    0.,   15.,  107.,   52.,\n",
       "          11.,   27.,   42.,   34.,   44.,    5.,   26.,   45.,   66.,   10.])}"
      ]
     },
     "execution_count": 89,
     "metadata": {},
     "output_type": "execute_result"
    }
   ],
   "source": [
    "lcounts"
   ]
  },
  {
   "cell_type": "code",
   "execution_count": 40,
   "metadata": {
    "collapsed": false
   },
   "outputs": [
    {
     "name": "stdout",
     "output_type": "stream",
     "text": [
      "1213 1213\n"
     ]
    }
   ],
   "source": [
    "print len(features),len(clf_labels)"
   ]
  },
  {
   "cell_type": "code",
   "execution_count": null,
   "metadata": {
    "collapsed": false
   },
   "outputs": [],
   "source": [
    "print len(speakerFeatures[0])"
   ]
  },
  {
   "cell_type": "code",
   "execution_count": null,
   "metadata": {
    "collapsed": false,
    "scrolled": true
   },
   "outputs": [],
   "source": [
    "count = 0\n",
    "thirteen_labels = []\n",
    "for i in range(len(features)):\n",
    "    if features[i][0]==13:\n",
    "        labs = clf_labels[i]\n",
    "        thirteen_labels.append(labs)\n",
    "print thirteen_labels"
   ]
  },
  {
   "cell_type": "markdown",
   "metadata": {
    "collapsed": true
   },
   "source": [
    "#### More analysis, 3/17/17 \n",
    "Holy crap.  Apart from cluster 13, each other cluster contains it in only IPUs with the same label.  Each other cluster is 100% labeled as English or labeled as Mandarin.  That is pretty damn cool.\n",
    "What are we clustering by again?  IPU distance?  So the centers are distances, I think?  This is showing us a lot of solid, strong evidence that the distances are clusterable.  \n",
    "\n",
    "53.6% of our data (so like 54% of our data / our distances) are being assigned to cluster 13.  Within cluster 13, English labels (ipu distances) make up 54.71% of that cluster, and Mandarin labels (ipu distances) make up 45.29% of that cluster.  Slight majority to English, but I bet that we could super cut this down.\n",
    "\n",
    "What might this mean?\n",
    "- This could mean that cluster 13 is where our distances are similar - they *are* all speaking English, after all\n",
    "- This could also mean that this is where some of our distance computing errors might be (halving/doubling errors in computing distancs might make some of the distances between native and non-native language groups look more similar)\n",
    "- This indicates that for slightly less than half of our data (approx 46%), the distances between native and non-native question contours are VERY SEPERABLE - different enough that they are getting assigned to different clusters, and these clusters are contain strictly within-label distances.  \n",
    "\n",
    "## NOTE:\n",
    "As of 3/17/17, IPU only cluster features give us 78% accuracy.  Just to verify this all still is working.  78% is not bad."
   ]
  },
  {
   "cell_type": "code",
   "execution_count": null,
   "metadata": {
    "collapsed": false
   },
   "outputs": [],
   "source": [
    "eng_count = 0\n",
    "man_count = 0\n",
    "for item in thirteen_labels:\n",
    "    if item[0] == \"E\":\n",
    "        eng_count = eng_count+1\n",
    "    else:\n",
    "        man_count = man_count+1\n",
    "        \n",
    "eng_percent = float(eng_count)/len(thirteen_labels)\n",
    "man_percent = float(man_count)/len(thirteen_labels)\n",
    "\n",
    "print eng_percent\n",
    "print man_percent"
   ]
  },
  {
   "cell_type": "code",
   "execution_count": null,
   "metadata": {
    "collapsed": true
   },
   "outputs": [],
   "source": []
  },
  {
   "cell_type": "code",
   "execution_count": null,
   "metadata": {
    "collapsed": true
   },
   "outputs": [],
   "source": []
  },
  {
   "cell_type": "code",
   "execution_count": null,
   "metadata": {
    "collapsed": true
   },
   "outputs": [],
   "source": []
  },
  {
   "cell_type": "code",
   "execution_count": null,
   "metadata": {
    "collapsed": true
   },
   "outputs": [],
   "source": []
  },
  {
   "cell_type": "code",
   "execution_count": 41,
   "metadata": {
    "collapsed": false
   },
   "outputs": [
    {
     "name": "stderr",
     "output_type": "stream",
     "text": [
      "C:\\Users\\Rachel\\AppData\\Local\\Continuum\\Anaconda2\\lib\\site-packages\\sklearn\\cross_validation.py:44: DeprecationWarning: This module was deprecated in version 0.18 in favor of the model_selection module into which all the refactored classes and functions are moved. Also note that the interface of the new CV iterators are different from that of this module. This module will be removed in 0.20.\n",
      "  \"This module will be removed in 0.20.\", DeprecationWarning)\n"
     ]
    }
   ],
   "source": [
    "from sklearn.cross_validation import cross_val_score\n",
    "from sklearn.cross_validation import train_test_split\n",
    "from sklearn.cross_validation import ShuffleSplit"
   ]
  },
  {
   "cell_type": "code",
   "execution_count": 90,
   "metadata": {
    "collapsed": false
   },
   "outputs": [
    {
     "name": "stdout",
     "output_type": "stream",
     "text": [
      "{'C': 0.1, 'gamma': 1}\n",
      "0.984598459846\n"
     ]
    }
   ],
   "source": [
    "param_grid = {'C': [0.001, 0.01, 0.1, 1, 10, 100],\n",
    "              'gamma': [0.001, 0.01, 0.1, 1, 10, 100]}\n",
    "\n",
    "\n",
    "\n",
    "#param_grid = {'C': [0.001, 0.01, 0.1, 1, 10, 100]}\n",
    "\n",
    "from sklearn.grid_search import GridSearchCV\n",
    "from sklearn.svm import SVC\n",
    "#rom sklearn.svm import LinearSVC\n",
    "grid_search = GridSearchCV(SVC(), param_grid, cv=10)\n",
    "\n",
    "#X_train, X_test, y_train, y_test = train_test_split(features, clf_labels, random_state=0)\n",
    "X_train, X_test, y_train, y_test = train_test_split(features, clf_labels, random_state=0)\n",
    "grid_search.fit(X_train, y_train)\n",
    "\n",
    "print(grid_search.best_params_)\n",
    "print(grid_search.best_score_)"
   ]
  },
  {
   "cell_type": "code",
   "execution_count": null,
   "metadata": {
    "collapsed": true
   },
   "outputs": [],
   "source": [
    "####print len(speakerFeatures)"
   ]
  },
  {
   "cell_type": "code",
   "execution_count": 91,
   "metadata": {
    "collapsed": false
   },
   "outputs": [
    {
     "name": "stdout",
     "output_type": "stream",
     "text": [
      "[ 0.98684211  0.97697368  0.97697368  0.98026316  0.97697368  0.98355263\n",
      "  0.99013158  0.98026316  0.98026316  0.99013158]\n",
      "0.982236842105\n"
     ]
    }
   ],
   "source": [
    "from sklearn.svm import SVC\n",
    "classifier = SVC(C=0.1, gamma=1)\n",
    "from sklearn.cross_validation import ShuffleSplit\n",
    "from sklearn.cross_validation import cross_val_score\n",
    "shuffle_split = ShuffleSplit(1213, n_iter= 10, test_size=.25, train_size=.75)\n",
    "shuffle_score = cross_val_score(classifier, features, clf_labels, cv=shuffle_split)\n",
    "print shuffle_score\n",
    "print shuffle_score.mean()"
   ]
  },
  {
   "cell_type": "code",
   "execution_count": 44,
   "metadata": {
    "collapsed": false
   },
   "outputs": [
    {
     "name": "stdout",
     "output_type": "stream",
     "text": [
      "0.980263157895\n"
     ]
    }
   ],
   "source": [
    "from sklearn.svm import SVC\n",
    "classifier = SVC(C=1, gamma = 10)\n",
    "\n",
    "X_train, X_test, y_train, y_test = train_test_split(features, clf_labels, random_state=0)\n",
    "classifier.fit(X_train, y_train)\n",
    "score = classifier.score(X_test, y_test)\n",
    "print score"
   ]
  },
  {
   "cell_type": "code",
   "execution_count": null,
   "metadata": {
    "collapsed": true
   },
   "outputs": [],
   "source": [
    "count_Eng = 0\n",
    "count_Man = 0\n",
    "total_Eng = 0\n",
    "total_Man= 0\n",
    "count_full = 0\n",
    "total_instances=0\n",
    "man_dist = []\n",
    "eng_dist = []\n",
    "full_dist = []\n",
    "for i in range(len(dist_matrix)):\n",
    "    for j in range(len(dist_matrix)):\n",
    "        if IDtoLabel[i]==IDtoLabel[j]:\n",
    "            if IDtoLabel[i]==\"English\":\n",
    "                count_Eng+= dist_matrix[i][j]\n",
    "                eng_dist.append(dist_matrix[i][j])\n",
    "                total_Eng+=1\n",
    "            else:\n",
    "                count_Man+= dist_matrix[i][j]\n",
    "                man_dist.append(dist_matrix[i][j])\n",
    "                total_Man+=1\n",
    "        count_full+= dist_matrix[i][j]\n",
    "        total_instances+=1\n",
    "        full_dist.append(dist_matrix[i][j])\n",
    "\n",
    "        "
   ]
  },
  {
   "cell_type": "code",
   "execution_count": null,
   "metadata": {
    "collapsed": true
   },
   "outputs": [],
   "source": [
    "avg_dist_Eng = count_Eng/float(total_Eng)\n",
    "avg_dist_Man = count_Man/float(total_Man)\n",
    "avg_dist = count_full/float(total_instances)"
   ]
  },
  {
   "cell_type": "markdown",
   "metadata": {},
   "source": [
    "## Summary of results (speaker-based features) (8/30)\n",
    "Why haven't I written this into my paper yet?  When did I do this?  I have 0 memory of this but that isn't necessary surprising.  Saves me work, though!  I believe me.\n",
    "- With an eps of 2.0, we get 23 clusters, which is very close to creating one cluster per speaker.  By creating a binary feature vector, assigning each speaker to a cluster, we do pretty badly - hovering around 50% accuracy.  \n",
    "- Eps of 6.0, we do better - 8 clusters, 63% accurate.  But this is still not as good as just using the clusters as binary features on their own.\n"
   ]
  },
  {
   "cell_type": "markdown",
   "metadata": {},
   "source": [
    "## (6/29) SUMMARY OF RESULTS (with all but 7 of the IPUs).\n",
    "### NOTE: STILL MAY NOT BE TOTALLY CORRECT (check distance matrix and frechet distances, results are still suspiciously high)\n",
    "NOTE:  This is with an eps of 2.0\n",
    "- English IPUs are closer to each other than to random distances\n",
    "- English IPUs are closer to each other than Mandarin IPUs\n",
    "- Mandarin IPUs are also closer to each other than they are to random distances\n",
    "- All of this is statistically significant"
   ]
  },
  {
   "cell_type": "code",
   "execution_count": null,
   "metadata": {
    "collapsed": false
   },
   "outputs": [],
   "source": [
    "print avg_dist_Eng\n",
    "print avg_dist_Man\n",
    "print avg_dist"
   ]
  },
  {
   "cell_type": "code",
   "execution_count": null,
   "metadata": {
    "collapsed": false
   },
   "outputs": [],
   "source": [
    "from scipy.stats import ttest_ind\n",
    "p_eng = ttest_ind(eng_dist, full_dist)\n",
    "p_man = ttest_ind(man_dist,full_dist)\n",
    "print p_eng\n",
    "print p_man"
   ]
  },
  {
   "cell_type": "code",
   "execution_count": null,
   "metadata": {
    "collapsed": false
   },
   "outputs": [],
   "source": [
    "distance_labels = pd.DataFrame"
   ]
  },
  {
   "cell_type": "code",
   "execution_count": null,
   "metadata": {
    "collapsed": false
   },
   "outputs": [],
   "source": [
    "type(labels.iloc[5])"
   ]
  },
  {
   "cell_type": "markdown",
   "metadata": {},
   "source": [
    "count = 0\n",
    "for item in distances.iterrows():\n",
    "    speakerID =  item[1][1]\n",
    "    if speakersID == count:\n",
    "        lab = label.iloc[count][0]\n",
    "        distance_labels.append(lab)\n",
    "    else:"
   ]
  },
  {
   "cell_type": "code",
   "execution_count": null,
   "metadata": {
    "collapsed": true
   },
   "outputs": [],
   "source": []
  }
 ],
 "metadata": {
  "anaconda-cloud": {},
  "kernelspec": {
   "display_name": "Python [default]",
   "language": "python",
   "name": "python2"
  },
  "language_info": {
   "codemirror_mode": {
    "name": "ipython",
    "version": 2
   },
   "file_extension": ".py",
   "mimetype": "text/x-python",
   "name": "python",
   "nbconvert_exporter": "python",
   "pygments_lexer": "ipython2",
   "version": "2.7.12"
  }
 },
 "nbformat": 4,
 "nbformat_minor": 0
}
