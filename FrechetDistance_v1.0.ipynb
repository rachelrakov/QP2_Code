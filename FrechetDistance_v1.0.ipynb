{
 "cells": [
  {
   "cell_type": "code",
   "execution_count": 1,
   "metadata": {
    "collapsed": false
   },
   "outputs": [
    {
     "name": "stderr",
     "output_type": "stream",
     "text": [
      "C:\\Python27\\lib\\site-packages\\IPython\\kernel\\__init__.py:13: ShimWarning: The `IPython.kernel` package has been deprecated. You should import from ipykernel or jupyter_client instead.\n",
      "  \"You should import from ipykernel or jupyter_client instead.\", ShimWarning)\n"
     ]
    }
   ],
   "source": [
    "import os\n",
    "import pandas as pd\n",
    "import numpy as np\n",
    "from Tkinter import *\n",
    "import tkSnack\n",
    "root = Tk()\n",
    "tkSnack.initializeSnack(root)\n",
    "\n",
    "import matplotlib.pyplot as plt\n",
    "%matplotlib notebook"
   ]
  },
  {
   "cell_type": "code",
   "execution_count": 2,
   "metadata": {
    "collapsed": false,
    "scrolled": true
   },
   "outputs": [],
   "source": [
    "path = \"c:/Python27/qp2_py/frechet_distance/current_results/\"\n",
    "allFiles = os.listdir(path)\n",
    "for name in allFiles:\n",
    "    fname = path+name\n",
    "    distances = pd.read_csv(fname, sep=\"_\", header=None)\n",
    "#print distances"
   ]
  },
  {
   "cell_type": "code",
   "execution_count": null,
   "metadata": {
    "collapsed": true
   },
   "outputs": [],
   "source": []
  },
  {
   "cell_type": "code",
   "execution_count": 3,
   "metadata": {
    "collapsed": false
   },
   "outputs": [],
   "source": [
    "distances.columns= [\"speakerID\", \"speakerIPU\", \"comp_speaker\", \"comp_speakerIPU\",\"frechetdistance\"]"
   ]
  },
  {
   "cell_type": "code",
   "execution_count": 4,
   "metadata": {
    "collapsed": false,
    "scrolled": true
   },
   "outputs": [
    {
     "data": {
      "text/html": [
       "<div style=\"max-height:1000px;max-width:1500px;overflow:auto;\">\n",
       "<table border=\"1\" class=\"dataframe\">\n",
       "  <thead>\n",
       "    <tr style=\"text-align: right;\">\n",
       "      <th></th>\n",
       "      <th>speakerID</th>\n",
       "      <th>speakerIPU</th>\n",
       "      <th>comp_speaker</th>\n",
       "      <th>comp_speakerIPU</th>\n",
       "      <th>frechetdistance</th>\n",
       "    </tr>\n",
       "  </thead>\n",
       "  <tbody>\n",
       "    <tr>\n",
       "      <th>0     </th>\n",
       "      <td>  0</td>\n",
       "      <td>  0</td>\n",
       "      <td>  1</td>\n",
       "      <td>  0</td>\n",
       "      <td>  65.249969</td>\n",
       "    </tr>\n",
       "    <tr>\n",
       "      <th>1     </th>\n",
       "      <td>  0</td>\n",
       "      <td>  0</td>\n",
       "      <td>  1</td>\n",
       "      <td>  1</td>\n",
       "      <td>  66.515404</td>\n",
       "    </tr>\n",
       "    <tr>\n",
       "      <th>2     </th>\n",
       "      <td>  0</td>\n",
       "      <td>  0</td>\n",
       "      <td>  1</td>\n",
       "      <td>  2</td>\n",
       "      <td> 274.112701</td>\n",
       "    </tr>\n",
       "    <tr>\n",
       "      <th>3     </th>\n",
       "      <td>  0</td>\n",
       "      <td>  0</td>\n",
       "      <td>  1</td>\n",
       "      <td>  3</td>\n",
       "      <td>  84.120514</td>\n",
       "    </tr>\n",
       "    <tr>\n",
       "      <th>4     </th>\n",
       "      <td>  0</td>\n",
       "      <td>  0</td>\n",
       "      <td>  1</td>\n",
       "      <td>  4</td>\n",
       "      <td> 157.210114</td>\n",
       "    </tr>\n",
       "    <tr>\n",
       "      <th>5     </th>\n",
       "      <td>  0</td>\n",
       "      <td>  0</td>\n",
       "      <td>  1</td>\n",
       "      <td>  5</td>\n",
       "      <td>  79.410965</td>\n",
       "    </tr>\n",
       "    <tr>\n",
       "      <th>6     </th>\n",
       "      <td>  0</td>\n",
       "      <td>  0</td>\n",
       "      <td>  1</td>\n",
       "      <td>  6</td>\n",
       "      <td>  66.920204</td>\n",
       "    </tr>\n",
       "    <tr>\n",
       "      <th>7     </th>\n",
       "      <td>  0</td>\n",
       "      <td>  0</td>\n",
       "      <td>  1</td>\n",
       "      <td>  7</td>\n",
       "      <td> 129.865005</td>\n",
       "    </tr>\n",
       "    <tr>\n",
       "      <th>8     </th>\n",
       "      <td>  0</td>\n",
       "      <td>  0</td>\n",
       "      <td>  1</td>\n",
       "      <td>  8</td>\n",
       "      <td>  87.305168</td>\n",
       "    </tr>\n",
       "    <tr>\n",
       "      <th>9     </th>\n",
       "      <td>  0</td>\n",
       "      <td>  0</td>\n",
       "      <td>  1</td>\n",
       "      <td>  9</td>\n",
       "      <td>  70.002014</td>\n",
       "    </tr>\n",
       "    <tr>\n",
       "      <th>10    </th>\n",
       "      <td>  0</td>\n",
       "      <td>  0</td>\n",
       "      <td>  1</td>\n",
       "      <td> 10</td>\n",
       "      <td> 121.547394</td>\n",
       "    </tr>\n",
       "    <tr>\n",
       "      <th>11    </th>\n",
       "      <td>  0</td>\n",
       "      <td>  0</td>\n",
       "      <td>  1</td>\n",
       "      <td> 11</td>\n",
       "      <td> 133.760040</td>\n",
       "    </tr>\n",
       "    <tr>\n",
       "      <th>12    </th>\n",
       "      <td>  0</td>\n",
       "      <td>  0</td>\n",
       "      <td>  1</td>\n",
       "      <td> 12</td>\n",
       "      <td>  70.600319</td>\n",
       "    </tr>\n",
       "    <tr>\n",
       "      <th>13    </th>\n",
       "      <td>  0</td>\n",
       "      <td>  0</td>\n",
       "      <td>  1</td>\n",
       "      <td> 13</td>\n",
       "      <td> 116.680733</td>\n",
       "    </tr>\n",
       "    <tr>\n",
       "      <th>14    </th>\n",
       "      <td>  0</td>\n",
       "      <td>  0</td>\n",
       "      <td>  1</td>\n",
       "      <td> 14</td>\n",
       "      <td>  88.052719</td>\n",
       "    </tr>\n",
       "    <tr>\n",
       "      <th>15    </th>\n",
       "      <td>  0</td>\n",
       "      <td>  0</td>\n",
       "      <td>  1</td>\n",
       "      <td> 15</td>\n",
       "      <td>  31.481182</td>\n",
       "    </tr>\n",
       "    <tr>\n",
       "      <th>16    </th>\n",
       "      <td>  0</td>\n",
       "      <td>  0</td>\n",
       "      <td>  1</td>\n",
       "      <td> 16</td>\n",
       "      <td>  87.957268</td>\n",
       "    </tr>\n",
       "    <tr>\n",
       "      <th>17    </th>\n",
       "      <td>  0</td>\n",
       "      <td>  0</td>\n",
       "      <td>  1</td>\n",
       "      <td> 17</td>\n",
       "      <td>  89.296844</td>\n",
       "    </tr>\n",
       "    <tr>\n",
       "      <th>18    </th>\n",
       "      <td>  0</td>\n",
       "      <td>  0</td>\n",
       "      <td>  1</td>\n",
       "      <td> 18</td>\n",
       "      <td>  56.891933</td>\n",
       "    </tr>\n",
       "    <tr>\n",
       "      <th>19    </th>\n",
       "      <td>  0</td>\n",
       "      <td>  0</td>\n",
       "      <td>  1</td>\n",
       "      <td> 19</td>\n",
       "      <td> 353.062225</td>\n",
       "    </tr>\n",
       "    <tr>\n",
       "      <th>20    </th>\n",
       "      <td>  0</td>\n",
       "      <td>  0</td>\n",
       "      <td>  1</td>\n",
       "      <td> 20</td>\n",
       "      <td> 109.890099</td>\n",
       "    </tr>\n",
       "    <tr>\n",
       "      <th>21    </th>\n",
       "      <td>  0</td>\n",
       "      <td>  0</td>\n",
       "      <td>  1</td>\n",
       "      <td> 21</td>\n",
       "      <td>  68.659462</td>\n",
       "    </tr>\n",
       "    <tr>\n",
       "      <th>22    </th>\n",
       "      <td>  0</td>\n",
       "      <td>  0</td>\n",
       "      <td>  1</td>\n",
       "      <td> 22</td>\n",
       "      <td>  83.948578</td>\n",
       "    </tr>\n",
       "    <tr>\n",
       "      <th>23    </th>\n",
       "      <td>  0</td>\n",
       "      <td>  0</td>\n",
       "      <td>  1</td>\n",
       "      <td> 23</td>\n",
       "      <td>  88.865791</td>\n",
       "    </tr>\n",
       "    <tr>\n",
       "      <th>24    </th>\n",
       "      <td>  0</td>\n",
       "      <td>  0</td>\n",
       "      <td>  1</td>\n",
       "      <td> 24</td>\n",
       "      <td>  37.910965</td>\n",
       "    </tr>\n",
       "    <tr>\n",
       "      <th>25    </th>\n",
       "      <td>  0</td>\n",
       "      <td>  0</td>\n",
       "      <td>  1</td>\n",
       "      <td> 25</td>\n",
       "      <td>  77.620163</td>\n",
       "    </tr>\n",
       "    <tr>\n",
       "      <th>26    </th>\n",
       "      <td>  0</td>\n",
       "      <td>  0</td>\n",
       "      <td>  1</td>\n",
       "      <td> 26</td>\n",
       "      <td>  67.401115</td>\n",
       "    </tr>\n",
       "    <tr>\n",
       "      <th>27    </th>\n",
       "      <td>  0</td>\n",
       "      <td>  0</td>\n",
       "      <td>  1</td>\n",
       "      <td> 27</td>\n",
       "      <td>  25.594454</td>\n",
       "    </tr>\n",
       "    <tr>\n",
       "      <th>28    </th>\n",
       "      <td>  0</td>\n",
       "      <td>  0</td>\n",
       "      <td>  1</td>\n",
       "      <td> 28</td>\n",
       "      <td> 120.141197</td>\n",
       "    </tr>\n",
       "    <tr>\n",
       "      <th>29    </th>\n",
       "      <td>  0</td>\n",
       "      <td>  0</td>\n",
       "      <td>  1</td>\n",
       "      <td> 29</td>\n",
       "      <td>  75.341499</td>\n",
       "    </tr>\n",
       "    <tr>\n",
       "      <th>...</th>\n",
       "      <td>...</td>\n",
       "      <td>...</td>\n",
       "      <td>...</td>\n",
       "      <td>...</td>\n",
       "      <td>...</td>\n",
       "    </tr>\n",
       "    <tr>\n",
       "      <th>697820</th>\n",
       "      <td> 39</td>\n",
       "      <td> 36</td>\n",
       "      <td> 40</td>\n",
       "      <td>  0</td>\n",
       "      <td> 116.170029</td>\n",
       "    </tr>\n",
       "    <tr>\n",
       "      <th>697821</th>\n",
       "      <td> 39</td>\n",
       "      <td> 37</td>\n",
       "      <td> 40</td>\n",
       "      <td>  0</td>\n",
       "      <td> 123.451775</td>\n",
       "    </tr>\n",
       "    <tr>\n",
       "      <th>697822</th>\n",
       "      <td> 39</td>\n",
       "      <td> 38</td>\n",
       "      <td> 40</td>\n",
       "      <td>  0</td>\n",
       "      <td>  20.130043</td>\n",
       "    </tr>\n",
       "    <tr>\n",
       "      <th>697823</th>\n",
       "      <td> 39</td>\n",
       "      <td> 39</td>\n",
       "      <td> 40</td>\n",
       "      <td>  0</td>\n",
       "      <td>  66.151596</td>\n",
       "    </tr>\n",
       "    <tr>\n",
       "      <th>697824</th>\n",
       "      <td> 39</td>\n",
       "      <td> 40</td>\n",
       "      <td> 40</td>\n",
       "      <td>  0</td>\n",
       "      <td>  22.590137</td>\n",
       "    </tr>\n",
       "    <tr>\n",
       "      <th>697825</th>\n",
       "      <td> 39</td>\n",
       "      <td> 41</td>\n",
       "      <td> 40</td>\n",
       "      <td>  0</td>\n",
       "      <td> 122.221771</td>\n",
       "    </tr>\n",
       "    <tr>\n",
       "      <th>697826</th>\n",
       "      <td> 39</td>\n",
       "      <td> 42</td>\n",
       "      <td> 40</td>\n",
       "      <td>  0</td>\n",
       "      <td> 118.530029</td>\n",
       "    </tr>\n",
       "    <tr>\n",
       "      <th>697827</th>\n",
       "      <td> 39</td>\n",
       "      <td> 43</td>\n",
       "      <td> 40</td>\n",
       "      <td>  0</td>\n",
       "      <td>  62.730160</td>\n",
       "    </tr>\n",
       "    <tr>\n",
       "      <th>697828</th>\n",
       "      <td> 39</td>\n",
       "      <td> 44</td>\n",
       "      <td> 40</td>\n",
       "      <td>  0</td>\n",
       "      <td> 122.551575</td>\n",
       "    </tr>\n",
       "    <tr>\n",
       "      <th>697829</th>\n",
       "      <td> 39</td>\n",
       "      <td> 45</td>\n",
       "      <td> 40</td>\n",
       "      <td>  0</td>\n",
       "      <td>  20.130892</td>\n",
       "    </tr>\n",
       "    <tr>\n",
       "      <th>697830</th>\n",
       "      <td> 39</td>\n",
       "      <td> 46</td>\n",
       "      <td> 40</td>\n",
       "      <td>  0</td>\n",
       "      <td>  58.145260</td>\n",
       "    </tr>\n",
       "    <tr>\n",
       "      <th>697831</th>\n",
       "      <td> 39</td>\n",
       "      <td> 47</td>\n",
       "      <td> 40</td>\n",
       "      <td>  0</td>\n",
       "      <td> 149.760025</td>\n",
       "    </tr>\n",
       "    <tr>\n",
       "      <th>697832</th>\n",
       "      <td> 39</td>\n",
       "      <td> 48</td>\n",
       "      <td> 40</td>\n",
       "      <td>  0</td>\n",
       "      <td> 143.340012</td>\n",
       "    </tr>\n",
       "    <tr>\n",
       "      <th>697833</th>\n",
       "      <td> 39</td>\n",
       "      <td> 49</td>\n",
       "      <td> 40</td>\n",
       "      <td>  0</td>\n",
       "      <td> 133.429993</td>\n",
       "    </tr>\n",
       "    <tr>\n",
       "      <th>697834</th>\n",
       "      <td> 39</td>\n",
       "      <td> 50</td>\n",
       "      <td> 40</td>\n",
       "      <td>  0</td>\n",
       "      <td> 111.330032</td>\n",
       "    </tr>\n",
       "    <tr>\n",
       "      <th>697835</th>\n",
       "      <td> 39</td>\n",
       "      <td> 51</td>\n",
       "      <td> 40</td>\n",
       "      <td>  0</td>\n",
       "      <td> 168.035416</td>\n",
       "    </tr>\n",
       "    <tr>\n",
       "      <th>697836</th>\n",
       "      <td> 39</td>\n",
       "      <td> 52</td>\n",
       "      <td> 40</td>\n",
       "      <td>  0</td>\n",
       "      <td> 151.880005</td>\n",
       "    </tr>\n",
       "    <tr>\n",
       "      <th>697837</th>\n",
       "      <td> 39</td>\n",
       "      <td> 53</td>\n",
       "      <td> 40</td>\n",
       "      <td>  0</td>\n",
       "      <td>  64.256668</td>\n",
       "    </tr>\n",
       "    <tr>\n",
       "      <th>697838</th>\n",
       "      <td> 39</td>\n",
       "      <td> 54</td>\n",
       "      <td> 40</td>\n",
       "      <td>  0</td>\n",
       "      <td>  73.535805</td>\n",
       "    </tr>\n",
       "    <tr>\n",
       "      <th>697839</th>\n",
       "      <td> 39</td>\n",
       "      <td> 55</td>\n",
       "      <td> 40</td>\n",
       "      <td>  0</td>\n",
       "      <td>  66.151535</td>\n",
       "    </tr>\n",
       "    <tr>\n",
       "      <th>697840</th>\n",
       "      <td> 39</td>\n",
       "      <td> 56</td>\n",
       "      <td> 40</td>\n",
       "      <td>  0</td>\n",
       "      <td>  85.440636</td>\n",
       "    </tr>\n",
       "    <tr>\n",
       "      <th>697841</th>\n",
       "      <td> 39</td>\n",
       "      <td> 57</td>\n",
       "      <td> 40</td>\n",
       "      <td>  0</td>\n",
       "      <td>  56.940002</td>\n",
       "    </tr>\n",
       "    <tr>\n",
       "      <th>697842</th>\n",
       "      <td> 39</td>\n",
       "      <td> 58</td>\n",
       "      <td> 40</td>\n",
       "      <td>  0</td>\n",
       "      <td>  20.131447</td>\n",
       "    </tr>\n",
       "    <tr>\n",
       "      <th>697843</th>\n",
       "      <td> 39</td>\n",
       "      <td> 59</td>\n",
       "      <td> 40</td>\n",
       "      <td>  0</td>\n",
       "      <td>  71.100807</td>\n",
       "    </tr>\n",
       "    <tr>\n",
       "      <th>697844</th>\n",
       "      <td> 39</td>\n",
       "      <td> 60</td>\n",
       "      <td> 40</td>\n",
       "      <td>  0</td>\n",
       "      <td> 148.730026</td>\n",
       "    </tr>\n",
       "    <tr>\n",
       "      <th>697845</th>\n",
       "      <td> 39</td>\n",
       "      <td> 61</td>\n",
       "      <td> 40</td>\n",
       "      <td>  0</td>\n",
       "      <td>  41.930153</td>\n",
       "    </tr>\n",
       "    <tr>\n",
       "      <th>697846</th>\n",
       "      <td> 39</td>\n",
       "      <td> 62</td>\n",
       "      <td> 40</td>\n",
       "      <td>  0</td>\n",
       "      <td>  20.133774</td>\n",
       "    </tr>\n",
       "    <tr>\n",
       "      <th>697847</th>\n",
       "      <td> 39</td>\n",
       "      <td> 63</td>\n",
       "      <td> 40</td>\n",
       "      <td>  0</td>\n",
       "      <td>  69.300041</td>\n",
       "    </tr>\n",
       "    <tr>\n",
       "      <th>697848</th>\n",
       "      <td> 39</td>\n",
       "      <td> 64</td>\n",
       "      <td> 40</td>\n",
       "      <td>  0</td>\n",
       "      <td>  67.204994</td>\n",
       "    </tr>\n",
       "    <tr>\n",
       "      <th>697849</th>\n",
       "      <td> 39</td>\n",
       "      <td> 65</td>\n",
       "      <td> 40</td>\n",
       "      <td>  0</td>\n",
       "      <td>  59.185459</td>\n",
       "    </tr>\n",
       "  </tbody>\n",
       "</table>\n",
       "<p>697850 rows × 5 columns</p>\n",
       "</div>"
      ],
      "text/plain": [
       "        speakerID  speakerIPU  comp_speaker  comp_speakerIPU  frechetdistance\n",
       "0               0           0             1                0        65.249969\n",
       "1               0           0             1                1        66.515404\n",
       "2               0           0             1                2       274.112701\n",
       "3               0           0             1                3        84.120514\n",
       "4               0           0             1                4       157.210114\n",
       "5               0           0             1                5        79.410965\n",
       "6               0           0             1                6        66.920204\n",
       "7               0           0             1                7       129.865005\n",
       "8               0           0             1                8        87.305168\n",
       "9               0           0             1                9        70.002014\n",
       "10              0           0             1               10       121.547394\n",
       "11              0           0             1               11       133.760040\n",
       "12              0           0             1               12        70.600319\n",
       "13              0           0             1               13       116.680733\n",
       "14              0           0             1               14        88.052719\n",
       "15              0           0             1               15        31.481182\n",
       "16              0           0             1               16        87.957268\n",
       "17              0           0             1               17        89.296844\n",
       "18              0           0             1               18        56.891933\n",
       "19              0           0             1               19       353.062225\n",
       "20              0           0             1               20       109.890099\n",
       "21              0           0             1               21        68.659462\n",
       "22              0           0             1               22        83.948578\n",
       "23              0           0             1               23        88.865791\n",
       "24              0           0             1               24        37.910965\n",
       "25              0           0             1               25        77.620163\n",
       "26              0           0             1               26        67.401115\n",
       "27              0           0             1               27        25.594454\n",
       "28              0           0             1               28       120.141197\n",
       "29              0           0             1               29        75.341499\n",
       "...           ...         ...           ...              ...              ...\n",
       "697820         39          36            40                0       116.170029\n",
       "697821         39          37            40                0       123.451775\n",
       "697822         39          38            40                0        20.130043\n",
       "697823         39          39            40                0        66.151596\n",
       "697824         39          40            40                0        22.590137\n",
       "697825         39          41            40                0       122.221771\n",
       "697826         39          42            40                0       118.530029\n",
       "697827         39          43            40                0        62.730160\n",
       "697828         39          44            40                0       122.551575\n",
       "697829         39          45            40                0        20.130892\n",
       "697830         39          46            40                0        58.145260\n",
       "697831         39          47            40                0       149.760025\n",
       "697832         39          48            40                0       143.340012\n",
       "697833         39          49            40                0       133.429993\n",
       "697834         39          50            40                0       111.330032\n",
       "697835         39          51            40                0       168.035416\n",
       "697836         39          52            40                0       151.880005\n",
       "697837         39          53            40                0        64.256668\n",
       "697838         39          54            40                0        73.535805\n",
       "697839         39          55            40                0        66.151535\n",
       "697840         39          56            40                0        85.440636\n",
       "697841         39          57            40                0        56.940002\n",
       "697842         39          58            40                0        20.131447\n",
       "697843         39          59            40                0        71.100807\n",
       "697844         39          60            40                0       148.730026\n",
       "697845         39          61            40                0        41.930153\n",
       "697846         39          62            40                0        20.133774\n",
       "697847         39          63            40                0        69.300041\n",
       "697848         39          64            40                0        67.204994\n",
       "697849         39          65            40                0        59.185459\n",
       "\n",
       "[697850 rows x 5 columns]"
      ]
     },
     "execution_count": 4,
     "metadata": {},
     "output_type": "execute_result"
    }
   ],
   "source": [
    "distances"
   ]
  },
  {
   "cell_type": "code",
   "execution_count": 5,
   "metadata": {
    "collapsed": true
   },
   "outputs": [],
   "source": [
    "labels = pd.read_csv(\"c:/Python27/qp2_py/labels/labels41_onlyqs.csv\")"
   ]
  },
  {
   "cell_type": "code",
   "execution_count": 6,
   "metadata": {
    "collapsed": false
   },
   "outputs": [
    {
     "data": {
      "text/plain": [
       "'English'"
      ]
     },
     "execution_count": 6,
     "metadata": {},
     "output_type": "execute_result"
    }
   ],
   "source": [
    "labels.iloc[0][0]"
   ]
  },
  {
   "cell_type": "code",
   "execution_count": 7,
   "metadata": {
    "collapsed": false
   },
   "outputs": [
    {
     "name": "stderr",
     "output_type": "stream",
     "text": [
      "C:\\Python27\\lib\\site-packages\\pandas\\core\\index.py:641: FutureWarning: scalar indexers for index type Int64Index should be integers and not floating point\n",
      "  type(self).__name__),FutureWarning)\n"
     ]
    }
   ],
   "source": [
    "from collections import defaultdict\n",
    "ipuID = defaultdict(lambda:{})\n",
    "IDtoLabel = defaultdict(str)\n",
    "count = 0\n",
    "for item in distances.iterrows():\n",
    "    speakerID =  item[1][\"speakerID\"]\n",
    "    speakerIPU = item[1][\"speakerIPU\"]\n",
    "    if speakerIPU not in ipuID[speakerID]:\n",
    "        ipuID[speakerID][speakerIPU]=count\n",
    "        IDtoLabel[count] = labels.iloc[speakerID][\"Language\"]\n",
    "        count +=1"
   ]
  },
  {
   "cell_type": "code",
   "execution_count": 8,
   "metadata": {
    "collapsed": false
   },
   "outputs": [
    {
     "data": {
      "text/plain": [
       "'Mandarin'"
      ]
     },
     "execution_count": 8,
     "metadata": {},
     "output_type": "execute_result"
    }
   ],
   "source": [
    "IDtoLabel[129]"
   ]
  },
  {
   "cell_type": "code",
   "execution_count": 9,
   "metadata": {
    "collapsed": false
   },
   "outputs": [
    {
     "data": {
      "text/plain": [
       "1207"
      ]
     },
     "execution_count": 9,
     "metadata": {},
     "output_type": "execute_result"
    }
   ],
   "source": [
    "count"
   ]
  },
  {
   "cell_type": "code",
   "execution_count": 10,
   "metadata": {
    "collapsed": false
   },
   "outputs": [
    {
     "data": {
      "text/plain": [
       "1456849"
      ]
     },
     "execution_count": 10,
     "metadata": {},
     "output_type": "execute_result"
    }
   ],
   "source": [
    "count**2"
   ]
  },
  {
   "cell_type": "code",
   "execution_count": 11,
   "metadata": {
    "collapsed": true
   },
   "outputs": [],
   "source": [
    "dist_matrix = np.zeros([count,count])"
   ]
  },
  {
   "cell_type": "code",
   "execution_count": 12,
   "metadata": {
    "collapsed": false
   },
   "outputs": [
    {
     "data": {
      "text/plain": [
       "array([[ 0.,  0.,  0., ...,  0.,  0.,  0.],\n",
       "       [ 0.,  0.,  0., ...,  0.,  0.,  0.],\n",
       "       [ 0.,  0.,  0., ...,  0.,  0.,  0.],\n",
       "       ..., \n",
       "       [ 0.,  0.,  0., ...,  0.,  0.,  0.],\n",
       "       [ 0.,  0.,  0., ...,  0.,  0.,  0.],\n",
       "       [ 0.,  0.,  0., ...,  0.,  0.,  0.]])"
      ]
     },
     "execution_count": 12,
     "metadata": {},
     "output_type": "execute_result"
    }
   ],
   "source": [
    "dist_matrix"
   ]
  },
  {
   "cell_type": "code",
   "execution_count": 13,
   "metadata": {
    "collapsed": false
   },
   "outputs": [],
   "source": [
    "for item in distances.iterrows():\n",
    "    speakerID = item[1][\"speakerID\"]\n",
    "    speakerIPU = item[1][\"speakerIPU\"]\n",
    "    compared_speaker = item[1][\"comp_speaker\"]\n",
    "    compared_IPU = item[1][\"comp_speakerIPU\"]\n",
    "    distance = item[1][\"frechetdistance\"]\n",
    "    if compared_IPU in ipuID[compared_speaker]:\n",
    "        id1 = ipuID[speakerID][speakerIPU]\n",
    "        id2 = ipuID[compared_speaker][compared_IPU]\n",
    "        dist_matrix[id1,id2] = distance"
   ]
  },
  {
   "cell_type": "code",
   "execution_count": 14,
   "metadata": {
    "collapsed": false
   },
   "outputs": [
    {
     "data": {
      "text/plain": [
       "array([[  0.      ,   0.      ,   0.      , ...,  69.01545 ,  67.204994,\n",
       "         59.195515],\n",
       "       [  0.      ,   0.      ,   0.      , ...,  84.960052,  84.960075,\n",
       "         84.960602],\n",
       "       [  0.      ,   0.      ,   0.      , ...,  61.030792,  55.655983,\n",
       "         54.380981],\n",
       "       ..., \n",
       "       [  0.      ,   0.      ,   0.      , ...,   0.      ,   0.      ,\n",
       "          0.      ],\n",
       "       [  0.      ,   0.      ,   0.      , ...,   0.      ,   0.      ,\n",
       "          0.      ],\n",
       "       [  0.      ,   0.      ,   0.      , ...,   0.      ,   0.      ,\n",
       "          0.      ]])"
      ]
     },
     "execution_count": 14,
     "metadata": {},
     "output_type": "execute_result"
    }
   ],
   "source": [
    "dist_matrix"
   ]
  },
  {
   "cell_type": "code",
   "execution_count": 30,
   "metadata": {
    "collapsed": false
   },
   "outputs": [
    {
     "name": "stdout",
     "output_type": "stream",
     "text": [
      "[[  0.         0.         0.       ...,  69.01545   67.204994  59.195515]\n",
      " [  0.         0.         0.       ...,  84.960052  84.960075  84.960602]\n",
      " [  0.         0.         0.       ...,  61.030792  55.655983  54.380981]\n",
      " ..., \n",
      " [  0.         0.         0.       ...,   0.         0.         0.      ]\n",
      " [  0.         0.         0.       ...,   0.         0.         0.      ]\n",
      " [  0.         0.         0.       ...,   0.         0.         0.      ]]\n"
     ]
    }
   ],
   "source": [
    "print dist_matrix"
   ]
  },
  {
   "cell_type": "code",
   "execution_count": 121,
   "metadata": {
    "collapsed": false
   },
   "outputs": [],
   "source": [
    "#np.save(\"c:/Python27/qp2_py/frechet_distance/half_matrix.txt\", dist_matrix, allow_pickle=False)"
   ]
  },
  {
   "cell_type": "markdown",
   "metadata": {},
   "source": [
    "infile = open(\"c:/Python27/qp2_py/frechet_distance/half_matrix.txt\", \"r\")\n",
    "in_matrix = np.load(infile)"
   ]
  },
  {
   "cell_type": "code",
   "execution_count": 112,
   "metadata": {
    "collapsed": false
   },
   "outputs": [
    {
     "data": {
      "text/plain": [
       "array([ 0.,  0.,  0., ...,  0.,  0.,  0.])"
      ]
     },
     "execution_count": 112,
     "metadata": {},
     "output_type": "execute_result"
    }
   ],
   "source": [
    "#in_matrix"
   ]
  },
  {
   "cell_type": "code",
   "execution_count": 15,
   "metadata": {
    "collapsed": false
   },
   "outputs": [
    {
     "data": {
      "text/plain": [
       "DBSCAN(algorithm='auto', eps=0.5, leaf_size=30, metric='precomputed',\n",
       "    min_samples=5, p=None, random_state=None)"
      ]
     },
     "execution_count": 15,
     "metadata": {},
     "output_type": "execute_result"
    }
   ],
   "source": [
    "from sklearn.cluster import DBSCAN\n",
    "\n",
    "cluster = DBSCAN(metric=\"precomputed\")\n",
    "cluster.fit(dist_matrix)"
   ]
  },
  {
   "cell_type": "code",
   "execution_count": 16,
   "metadata": {
    "collapsed": false
   },
   "outputs": [
    {
     "data": {
      "text/plain": [
       "array([ 0,  0,  0, ..., 39, 39, 39])"
      ]
     },
     "execution_count": 16,
     "metadata": {},
     "output_type": "execute_result"
    }
   ],
   "source": [
    "cluster.labels_"
   ]
  },
  {
   "cell_type": "code",
   "execution_count": 17,
   "metadata": {
    "collapsed": false
   },
   "outputs": [],
   "source": [
    "features = [ [feat] for feat in cluster.labels_ ]"
   ]
  },
  {
   "cell_type": "code",
   "execution_count": 18,
   "metadata": {
    "collapsed": true
   },
   "outputs": [],
   "source": [
    "clf_labels = [IDtoLabel[i]for i in range(len(features))]"
   ]
  },
  {
   "cell_type": "code",
   "execution_count": 19,
   "metadata": {
    "collapsed": false
   },
   "outputs": [
    {
     "name": "stdout",
     "output_type": "stream",
     "text": [
      "1207 1207\n"
     ]
    }
   ],
   "source": [
    "print len(features),len(clf_labels)"
   ]
  },
  {
   "cell_type": "code",
   "execution_count": 20,
   "metadata": {
    "collapsed": true
   },
   "outputs": [],
   "source": [
    "from sklearn.cross_validation import cross_val_score\n",
    "from sklearn.cross_validation import train_test_split\n",
    "from sklearn.cross_validation import ShuffleSplit"
   ]
  },
  {
   "cell_type": "code",
   "execution_count": null,
   "metadata": {
    "collapsed": true
   },
   "outputs": [],
   "source": [
    "param_grid = {'C': [0.001, 0.01, 0.1, 1, 10, 100],\n",
    "              'gamma': [0.001, 0.01, 0.1, 1, 10, 100]}\n",
    "\n",
    "\n",
    "\n",
    "#param_grid = {'C': [0.001, 0.01, 0.1, 1, 10, 100]}\n",
    "\n",
    "from sklearn.grid_search import GridSearchCV\n",
    "from sklearn.svm import SVC\n",
    "grid_search = GridSearchCV(SVC(), param_grid, cv=10)\n",
    "\n",
    "X_train, X_test, y_train, y_test = train_test_split(ipu_features, labels, random_state=0)\n",
    "\n",
    "grid_search.fit(X_train, y_train)\n",
    "\n",
    "print(grid_search.best_params_)\n",
    "print(grid_search.best_score_)"
   ]
  },
  {
   "cell_type": "code",
   "execution_count": 27,
   "metadata": {
    "collapsed": false
   },
   "outputs": [
    {
     "name": "stdout",
     "output_type": "stream",
     "text": [
      "[ 0.99337748  0.99668874  0.99668874  0.99006623  0.99668874  0.99337748\n",
      "  0.99006623  0.99668874  0.99668874  0.99006623]\n",
      "0.994039735099\n"
     ]
    }
   ],
   "source": [
    "from sklearn.svm import SVC\n",
    "classifier = SVC()\n",
    "from sklearn.cross_validation import ShuffleSplit\n",
    "from sklearn.cross_validation import cross_val_score\n",
    "shuffle_split = ShuffleSplit(1207, n_iter= 10, test_size=.25, train_size=.75)\n",
    "shuffle_score = cross_val_score(classifier, features, clf_labels, cv=shuffle_split)\n",
    "print shuffle_score\n",
    "print shuffle_score.mean()"
   ]
  },
  {
   "cell_type": "code",
   "execution_count": 28,
   "metadata": {
    "collapsed": false
   },
   "outputs": [
    {
     "name": "stdout",
     "output_type": "stream",
     "text": [
      "0.993377483444\n"
     ]
    }
   ],
   "source": [
    "from sklearn.svm import SVC\n",
    "classifier = SVC()\n",
    "\n",
    "X_train, X_test, y_train, y_test = train_test_split(features, clf_labels, random_state=0)\n",
    "classifier.fit(X_train, y_train)\n",
    "score = classifier.score(X_test, y_test)\n",
    "print score"
   ]
  },
  {
   "cell_type": "code",
   "execution_count": 23,
   "metadata": {
    "collapsed": true
   },
   "outputs": [],
   "source": [
    "count_Eng = 0\n",
    "count_Man = 0\n",
    "total_Eng = 0\n",
    "total_Man= 0\n",
    "count_full = 0\n",
    "total_instances=0\n",
    "man_dist = []\n",
    "eng_dist = []\n",
    "full_dist = []\n",
    "for i in range(len(dist_matrix)):\n",
    "    for j in range(len(dist_matrix)):\n",
    "        if IDtoLabel[i]==IDtoLabel[j]:\n",
    "            if IDtoLabel[i]==\"English\":\n",
    "                count_Eng+= dist_matrix[i][j]\n",
    "                eng_dist.append(dist_matrix[i][j])\n",
    "                total_Eng+=1\n",
    "            else:\n",
    "                count_Man+= dist_matrix[i][j]\n",
    "                man_dist.append(dist_matrix[i][j])\n",
    "                total_Man+=1\n",
    "        count_full+= dist_matrix[i][j]\n",
    "        total_instances+=1\n",
    "        full_dist.append(dist_matrix[i][j])\n",
    "\n",
    "        "
   ]
  },
  {
   "cell_type": "code",
   "execution_count": 24,
   "metadata": {
    "collapsed": true
   },
   "outputs": [],
   "source": [
    "avg_dist_Eng = count_Eng/float(total_Eng)\n",
    "avg_dist_Man = count_Man/float(total_Man)\n",
    "avg_dist = count_full/float(total_instances)"
   ]
  },
  {
   "cell_type": "markdown",
   "metadata": {},
   "source": [
    "## Calculating distances & significances\n",
    "### NOTE:  THIS IS NO LONGER ACCURATE AS OF 6/29\n",
    "- English IPUs are closer to each other than random distances, but Mandarin are even closer to each other\n",
    "- Mandarin IPUs are closer to other Mandarin IPUs than English IPUs closer to other English IPUs\n",
    "- By a lot, which is super weird\n",
    "- And this result is super significant"
   ]
  },
  {
   "cell_type": "markdown",
   "metadata": {},
   "source": [
    "## (6/29) SUMMARY OF RESULTS (with all but 7 of the IPUs).\n",
    "### NOTE: STILL MAY NOT BE TOTALLY CORRECT (check distance matrix and frechet distances, results are still suspiciously high)\n",
    "- English IPUs are closer to each other than to random distances\n",
    "- English IPUs are closer to each other than Mandarin IPUs\n",
    "- Mandarin IPUs are also closer to each other than they are to random distances\n",
    "- All of this is statistically significant"
   ]
  },
  {
   "cell_type": "code",
   "execution_count": 25,
   "metadata": {
    "collapsed": false
   },
   "outputs": [
    {
     "name": "stdout",
     "output_type": "stream",
     "text": [
      "71.6274103321\n",
      "72.3356708586\n",
      "75.3245833469\n"
     ]
    }
   ],
   "source": [
    "print avg_dist_Eng\n",
    "print avg_dist_Man\n",
    "print avg_dist"
   ]
  },
  {
   "cell_type": "code",
   "execution_count": 26,
   "metadata": {
    "collapsed": false
   },
   "outputs": [
    {
     "name": "stdout",
     "output_type": "stream",
     "text": [
      "(-19.192959127799543, 4.3221592908332019e-82)\n",
      "(-19.010998267846194, 1.4068339227360642e-80)\n"
     ]
    }
   ],
   "source": [
    "from scipy.stats import ttest_ind\n",
    "p_eng = ttest_ind(eng_dist, full_dist)\n",
    "p_man = ttest_ind(man_dist,full_dist)\n",
    "print p_eng\n",
    "print p_man"
   ]
  },
  {
   "cell_type": "code",
   "execution_count": 18,
   "metadata": {
    "collapsed": false
   },
   "outputs": [],
   "source": [
    "distance_labels = pd.DataFrame"
   ]
  },
  {
   "cell_type": "code",
   "execution_count": 38,
   "metadata": {
    "collapsed": false
   },
   "outputs": [
    {
     "data": {
      "text/plain": [
       "pandas.core.series.Series"
      ]
     },
     "execution_count": 38,
     "metadata": {},
     "output_type": "execute_result"
    }
   ],
   "source": [
    "type(labels.iloc[5])"
   ]
  },
  {
   "cell_type": "markdown",
   "metadata": {},
   "source": [
    "count = 0\n",
    "for item in distances.iterrows():\n",
    "    speakerID =  item[1][1]\n",
    "    if speakersID == count:\n",
    "        lab = label.iloc[count][0]\n",
    "        distance_labels.append(lab)\n",
    "    else:"
   ]
  },
  {
   "cell_type": "code",
   "execution_count": null,
   "metadata": {
    "collapsed": true
   },
   "outputs": [],
   "source": []
  }
 ],
 "metadata": {
  "kernelspec": {
   "display_name": "Python 2",
   "language": "python",
   "name": "python2"
  },
  "language_info": {
   "codemirror_mode": {
    "name": "ipython",
    "version": 2
   },
   "file_extension": ".py",
   "mimetype": "text/x-python",
   "name": "python",
   "nbconvert_exporter": "python",
   "pygments_lexer": "ipython2",
   "version": "2.7.7"
  }
 },
 "nbformat": 4,
 "nbformat_minor": 0
}
