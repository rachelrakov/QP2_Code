{
 "cells": [
  {
   "cell_type": "code",
   "execution_count": 1,
   "metadata": {
    "collapsed": false
   },
   "outputs": [
    {
     "name": "stderr",
     "output_type": "stream",
     "text": [
      "C:\\Python27\\lib\\site-packages\\IPython\\kernel\\__init__.py:13: ShimWarning: The `IPython.kernel` package has been deprecated. You should import from ipykernel or jupyter_client instead.\n",
      "  \"You should import from ipykernel or jupyter_client instead.\", ShimWarning)\n"
     ]
    }
   ],
   "source": [
    "import os\n",
    "import pandas as pd\n",
    "import numpy as np\n",
    "from Tkinter import *\n",
    "import tkSnack\n",
    "root = Tk()\n",
    "tkSnack.initializeSnack(root)\n",
    "\n",
    "import matplotlib.pyplot as plt\n",
    "%matplotlib notebook"
   ]
  },
  {
   "cell_type": "code",
   "execution_count": 2,
   "metadata": {
    "collapsed": false,
    "scrolled": true
   },
   "outputs": [],
   "source": [
    "path = \"c:/Python27/qp2_py/frechet_distance/speakers/\"\n",
    "allFiles = os.listdir(path)\n",
    "for name in allFiles:\n",
    "    fname = path+name\n",
    "    distances = pd.read_csv(fname, sep=\"_\", header=None)\n",
    "#print distances"
   ]
  },
  {
   "cell_type": "code",
   "execution_count": null,
   "metadata": {
    "collapsed": true
   },
   "outputs": [],
   "source": []
  },
  {
   "cell_type": "code",
   "execution_count": 3,
   "metadata": {
    "collapsed": false
   },
   "outputs": [],
   "source": [
    "distances.columns= [\"speakerID\", \"speakerIPU\", \"comp_speaker\", \"comp_speakerIPU\",\"frechetdistance\"]"
   ]
  },
  {
   "cell_type": "code",
   "execution_count": 4,
   "metadata": {
    "collapsed": false,
    "scrolled": true
   },
   "outputs": [
    {
     "data": {
      "text/html": [
       "<div style=\"max-height:1000px;max-width:1500px;overflow:auto;\">\n",
       "<table border=\"1\" class=\"dataframe\">\n",
       "  <thead>\n",
       "    <tr style=\"text-align: right;\">\n",
       "      <th></th>\n",
       "      <th>speakerID</th>\n",
       "      <th>speakerIPU</th>\n",
       "      <th>comp_speaker</th>\n",
       "      <th>comp_speakerIPU</th>\n",
       "      <th>frechetdistance</th>\n",
       "    </tr>\n",
       "  </thead>\n",
       "  <tbody>\n",
       "    <tr>\n",
       "      <th>0     </th>\n",
       "      <td>  0</td>\n",
       "      <td> 0</td>\n",
       "      <td>  1</td>\n",
       "      <td>  0</td>\n",
       "      <td>  65.249969</td>\n",
       "    </tr>\n",
       "    <tr>\n",
       "      <th>1     </th>\n",
       "      <td>  0</td>\n",
       "      <td> 0</td>\n",
       "      <td>  1</td>\n",
       "      <td>  1</td>\n",
       "      <td>  66.515404</td>\n",
       "    </tr>\n",
       "    <tr>\n",
       "      <th>2     </th>\n",
       "      <td>  0</td>\n",
       "      <td> 0</td>\n",
       "      <td>  1</td>\n",
       "      <td>  2</td>\n",
       "      <td> 274.112701</td>\n",
       "    </tr>\n",
       "    <tr>\n",
       "      <th>3     </th>\n",
       "      <td>  0</td>\n",
       "      <td> 0</td>\n",
       "      <td>  1</td>\n",
       "      <td>  3</td>\n",
       "      <td>  84.120514</td>\n",
       "    </tr>\n",
       "    <tr>\n",
       "      <th>4     </th>\n",
       "      <td>  0</td>\n",
       "      <td> 0</td>\n",
       "      <td>  1</td>\n",
       "      <td>  4</td>\n",
       "      <td> 157.210114</td>\n",
       "    </tr>\n",
       "    <tr>\n",
       "      <th>5     </th>\n",
       "      <td>  0</td>\n",
       "      <td> 0</td>\n",
       "      <td>  1</td>\n",
       "      <td>  5</td>\n",
       "      <td>  79.410965</td>\n",
       "    </tr>\n",
       "    <tr>\n",
       "      <th>6     </th>\n",
       "      <td>  0</td>\n",
       "      <td> 0</td>\n",
       "      <td>  1</td>\n",
       "      <td>  6</td>\n",
       "      <td>  66.920204</td>\n",
       "    </tr>\n",
       "    <tr>\n",
       "      <th>7     </th>\n",
       "      <td>  0</td>\n",
       "      <td> 0</td>\n",
       "      <td>  1</td>\n",
       "      <td>  7</td>\n",
       "      <td> 129.865005</td>\n",
       "    </tr>\n",
       "    <tr>\n",
       "      <th>8     </th>\n",
       "      <td>  0</td>\n",
       "      <td> 0</td>\n",
       "      <td>  1</td>\n",
       "      <td>  8</td>\n",
       "      <td>  87.305168</td>\n",
       "    </tr>\n",
       "    <tr>\n",
       "      <th>9     </th>\n",
       "      <td>  0</td>\n",
       "      <td> 0</td>\n",
       "      <td>  1</td>\n",
       "      <td>  9</td>\n",
       "      <td>  70.002014</td>\n",
       "    </tr>\n",
       "    <tr>\n",
       "      <th>10    </th>\n",
       "      <td>  0</td>\n",
       "      <td> 0</td>\n",
       "      <td>  1</td>\n",
       "      <td> 10</td>\n",
       "      <td> 121.547394</td>\n",
       "    </tr>\n",
       "    <tr>\n",
       "      <th>11    </th>\n",
       "      <td>  0</td>\n",
       "      <td> 0</td>\n",
       "      <td>  1</td>\n",
       "      <td> 11</td>\n",
       "      <td> 133.760040</td>\n",
       "    </tr>\n",
       "    <tr>\n",
       "      <th>12    </th>\n",
       "      <td>  0</td>\n",
       "      <td> 0</td>\n",
       "      <td>  1</td>\n",
       "      <td> 12</td>\n",
       "      <td>  70.600319</td>\n",
       "    </tr>\n",
       "    <tr>\n",
       "      <th>13    </th>\n",
       "      <td>  0</td>\n",
       "      <td> 0</td>\n",
       "      <td>  1</td>\n",
       "      <td> 13</td>\n",
       "      <td> 116.680733</td>\n",
       "    </tr>\n",
       "    <tr>\n",
       "      <th>14    </th>\n",
       "      <td>  0</td>\n",
       "      <td> 0</td>\n",
       "      <td>  1</td>\n",
       "      <td> 14</td>\n",
       "      <td>  88.052719</td>\n",
       "    </tr>\n",
       "    <tr>\n",
       "      <th>15    </th>\n",
       "      <td>  0</td>\n",
       "      <td> 0</td>\n",
       "      <td>  1</td>\n",
       "      <td> 15</td>\n",
       "      <td>  31.481182</td>\n",
       "    </tr>\n",
       "    <tr>\n",
       "      <th>16    </th>\n",
       "      <td>  0</td>\n",
       "      <td> 0</td>\n",
       "      <td>  1</td>\n",
       "      <td> 16</td>\n",
       "      <td>  87.957268</td>\n",
       "    </tr>\n",
       "    <tr>\n",
       "      <th>17    </th>\n",
       "      <td>  0</td>\n",
       "      <td> 0</td>\n",
       "      <td>  1</td>\n",
       "      <td> 17</td>\n",
       "      <td>  89.296844</td>\n",
       "    </tr>\n",
       "    <tr>\n",
       "      <th>18    </th>\n",
       "      <td>  0</td>\n",
       "      <td> 0</td>\n",
       "      <td>  1</td>\n",
       "      <td> 18</td>\n",
       "      <td>  56.891933</td>\n",
       "    </tr>\n",
       "    <tr>\n",
       "      <th>19    </th>\n",
       "      <td>  0</td>\n",
       "      <td> 0</td>\n",
       "      <td>  1</td>\n",
       "      <td> 19</td>\n",
       "      <td> 353.062225</td>\n",
       "    </tr>\n",
       "    <tr>\n",
       "      <th>20    </th>\n",
       "      <td>  0</td>\n",
       "      <td> 0</td>\n",
       "      <td>  1</td>\n",
       "      <td> 20</td>\n",
       "      <td> 109.890099</td>\n",
       "    </tr>\n",
       "    <tr>\n",
       "      <th>21    </th>\n",
       "      <td>  0</td>\n",
       "      <td> 0</td>\n",
       "      <td>  1</td>\n",
       "      <td> 21</td>\n",
       "      <td>  68.659462</td>\n",
       "    </tr>\n",
       "    <tr>\n",
       "      <th>22    </th>\n",
       "      <td>  0</td>\n",
       "      <td> 0</td>\n",
       "      <td>  1</td>\n",
       "      <td> 22</td>\n",
       "      <td>  83.948578</td>\n",
       "    </tr>\n",
       "    <tr>\n",
       "      <th>23    </th>\n",
       "      <td>  0</td>\n",
       "      <td> 0</td>\n",
       "      <td>  1</td>\n",
       "      <td> 23</td>\n",
       "      <td>  88.865791</td>\n",
       "    </tr>\n",
       "    <tr>\n",
       "      <th>24    </th>\n",
       "      <td>  0</td>\n",
       "      <td> 0</td>\n",
       "      <td>  1</td>\n",
       "      <td> 24</td>\n",
       "      <td>  37.910965</td>\n",
       "    </tr>\n",
       "    <tr>\n",
       "      <th>25    </th>\n",
       "      <td>  0</td>\n",
       "      <td> 0</td>\n",
       "      <td>  1</td>\n",
       "      <td> 25</td>\n",
       "      <td>  77.620163</td>\n",
       "    </tr>\n",
       "    <tr>\n",
       "      <th>26    </th>\n",
       "      <td>  0</td>\n",
       "      <td> 0</td>\n",
       "      <td>  1</td>\n",
       "      <td> 26</td>\n",
       "      <td>  67.401115</td>\n",
       "    </tr>\n",
       "    <tr>\n",
       "      <th>27    </th>\n",
       "      <td>  0</td>\n",
       "      <td> 0</td>\n",
       "      <td>  1</td>\n",
       "      <td> 27</td>\n",
       "      <td>  25.594454</td>\n",
       "    </tr>\n",
       "    <tr>\n",
       "      <th>28    </th>\n",
       "      <td>  0</td>\n",
       "      <td> 0</td>\n",
       "      <td>  1</td>\n",
       "      <td> 28</td>\n",
       "      <td> 120.141197</td>\n",
       "    </tr>\n",
       "    <tr>\n",
       "      <th>29    </th>\n",
       "      <td>  0</td>\n",
       "      <td> 0</td>\n",
       "      <td>  1</td>\n",
       "      <td> 29</td>\n",
       "      <td>  75.341499</td>\n",
       "    </tr>\n",
       "    <tr>\n",
       "      <th>...</th>\n",
       "      <td>...</td>\n",
       "      <td>...</td>\n",
       "      <td>...</td>\n",
       "      <td>...</td>\n",
       "      <td>...</td>\n",
       "    </tr>\n",
       "    <tr>\n",
       "      <th>229092</th>\n",
       "      <td> 11</td>\n",
       "      <td> 1</td>\n",
       "      <td> 39</td>\n",
       "      <td> 37</td>\n",
       "      <td> 114.561859</td>\n",
       "    </tr>\n",
       "    <tr>\n",
       "      <th>229093</th>\n",
       "      <td> 11</td>\n",
       "      <td> 1</td>\n",
       "      <td> 39</td>\n",
       "      <td> 38</td>\n",
       "      <td>  69.395935</td>\n",
       "    </tr>\n",
       "    <tr>\n",
       "      <th>229094</th>\n",
       "      <td> 11</td>\n",
       "      <td> 1</td>\n",
       "      <td> 39</td>\n",
       "      <td> 39</td>\n",
       "      <td>  73.270012</td>\n",
       "    </tr>\n",
       "    <tr>\n",
       "      <th>229095</th>\n",
       "      <td> 11</td>\n",
       "      <td> 1</td>\n",
       "      <td> 39</td>\n",
       "      <td> 40</td>\n",
       "      <td>  69.394905</td>\n",
       "    </tr>\n",
       "    <tr>\n",
       "      <th>229096</th>\n",
       "      <td> 11</td>\n",
       "      <td> 1</td>\n",
       "      <td> 39</td>\n",
       "      <td> 41</td>\n",
       "      <td> 122.228127</td>\n",
       "    </tr>\n",
       "    <tr>\n",
       "      <th>229097</th>\n",
       "      <td> 11</td>\n",
       "      <td> 1</td>\n",
       "      <td> 39</td>\n",
       "      <td> 42</td>\n",
       "      <td> 118.530014</td>\n",
       "    </tr>\n",
       "    <tr>\n",
       "      <th>229098</th>\n",
       "      <td> 11</td>\n",
       "      <td> 1</td>\n",
       "      <td> 39</td>\n",
       "      <td> 43</td>\n",
       "      <td>  33.050549</td>\n",
       "    </tr>\n",
       "    <tr>\n",
       "      <th>229099</th>\n",
       "      <td> 11</td>\n",
       "      <td> 1</td>\n",
       "      <td> 39</td>\n",
       "      <td> 44</td>\n",
       "      <td> 122.551674</td>\n",
       "    </tr>\n",
       "    <tr>\n",
       "      <th>229100</th>\n",
       "      <td> 11</td>\n",
       "      <td> 1</td>\n",
       "      <td> 39</td>\n",
       "      <td> 45</td>\n",
       "      <td>  69.396530</td>\n",
       "    </tr>\n",
       "    <tr>\n",
       "      <th>229101</th>\n",
       "      <td> 11</td>\n",
       "      <td> 1</td>\n",
       "      <td> 39</td>\n",
       "      <td> 46</td>\n",
       "      <td>  63.455727</td>\n",
       "    </tr>\n",
       "    <tr>\n",
       "      <th>229102</th>\n",
       "      <td> 11</td>\n",
       "      <td> 1</td>\n",
       "      <td> 39</td>\n",
       "      <td> 47</td>\n",
       "      <td> 149.760010</td>\n",
       "    </tr>\n",
       "    <tr>\n",
       "      <th>229103</th>\n",
       "      <td> 11</td>\n",
       "      <td> 1</td>\n",
       "      <td> 39</td>\n",
       "      <td> 48</td>\n",
       "      <td> 134.450195</td>\n",
       "    </tr>\n",
       "    <tr>\n",
       "      <th>229104</th>\n",
       "      <td> 11</td>\n",
       "      <td> 1</td>\n",
       "      <td> 39</td>\n",
       "      <td> 49</td>\n",
       "      <td> 133.429993</td>\n",
       "    </tr>\n",
       "    <tr>\n",
       "      <th>229105</th>\n",
       "      <td> 11</td>\n",
       "      <td> 1</td>\n",
       "      <td> 39</td>\n",
       "      <td> 50</td>\n",
       "      <td> 111.330017</td>\n",
       "    </tr>\n",
       "    <tr>\n",
       "      <th>229106</th>\n",
       "      <td> 11</td>\n",
       "      <td> 1</td>\n",
       "      <td> 39</td>\n",
       "      <td> 51</td>\n",
       "      <td> 159.154892</td>\n",
       "    </tr>\n",
       "    <tr>\n",
       "      <th>229107</th>\n",
       "      <td> 11</td>\n",
       "      <td> 1</td>\n",
       "      <td> 39</td>\n",
       "      <td> 52</td>\n",
       "      <td> 151.880005</td>\n",
       "    </tr>\n",
       "    <tr>\n",
       "      <th>229108</th>\n",
       "      <td> 11</td>\n",
       "      <td> 1</td>\n",
       "      <td> 39</td>\n",
       "      <td> 53</td>\n",
       "      <td>  59.040154</td>\n",
       "    </tr>\n",
       "    <tr>\n",
       "      <th>229109</th>\n",
       "      <td> 11</td>\n",
       "      <td> 1</td>\n",
       "      <td> 39</td>\n",
       "      <td> 54</td>\n",
       "      <td>  59.039284</td>\n",
       "    </tr>\n",
       "    <tr>\n",
       "      <th>229110</th>\n",
       "      <td> 11</td>\n",
       "      <td> 1</td>\n",
       "      <td> 39</td>\n",
       "      <td> 55</td>\n",
       "      <td>  73.267334</td>\n",
       "    </tr>\n",
       "    <tr>\n",
       "      <th>229111</th>\n",
       "      <td> 11</td>\n",
       "      <td> 1</td>\n",
       "      <td> 39</td>\n",
       "      <td> 56</td>\n",
       "      <td>  78.891975</td>\n",
       "    </tr>\n",
       "    <tr>\n",
       "      <th>229112</th>\n",
       "      <td> 11</td>\n",
       "      <td> 1</td>\n",
       "      <td> 39</td>\n",
       "      <td> 57</td>\n",
       "      <td>  63.457962</td>\n",
       "    </tr>\n",
       "    <tr>\n",
       "      <th>229113</th>\n",
       "      <td> 11</td>\n",
       "      <td> 1</td>\n",
       "      <td> 39</td>\n",
       "      <td> 58</td>\n",
       "      <td>  69.398392</td>\n",
       "    </tr>\n",
       "    <tr>\n",
       "      <th>229114</th>\n",
       "      <td> 11</td>\n",
       "      <td> 1</td>\n",
       "      <td> 39</td>\n",
       "      <td> 59</td>\n",
       "      <td>  63.457615</td>\n",
       "    </tr>\n",
       "    <tr>\n",
       "      <th>229115</th>\n",
       "      <td> 11</td>\n",
       "      <td> 1</td>\n",
       "      <td> 39</td>\n",
       "      <td> 60</td>\n",
       "      <td> 148.730011</td>\n",
       "    </tr>\n",
       "    <tr>\n",
       "      <th>229116</th>\n",
       "      <td> 11</td>\n",
       "      <td> 1</td>\n",
       "      <td> 39</td>\n",
       "      <td> 61</td>\n",
       "      <td>  69.396873</td>\n",
       "    </tr>\n",
       "    <tr>\n",
       "      <th>229117</th>\n",
       "      <td> 11</td>\n",
       "      <td> 1</td>\n",
       "      <td> 39</td>\n",
       "      <td> 62</td>\n",
       "      <td>  69.401451</td>\n",
       "    </tr>\n",
       "    <tr>\n",
       "      <th>229118</th>\n",
       "      <td> 11</td>\n",
       "      <td> 1</td>\n",
       "      <td> 39</td>\n",
       "      <td> 63</td>\n",
       "      <td>  57.050713</td>\n",
       "    </tr>\n",
       "    <tr>\n",
       "      <th>229119</th>\n",
       "      <td> 11</td>\n",
       "      <td> 1</td>\n",
       "      <td> 39</td>\n",
       "      <td> 64</td>\n",
       "      <td>  59.038811</td>\n",
       "    </tr>\n",
       "    <tr>\n",
       "      <th>229120</th>\n",
       "      <td> 11</td>\n",
       "      <td> 1</td>\n",
       "      <td> 39</td>\n",
       "      <td> 65</td>\n",
       "      <td>  59.035191</td>\n",
       "    </tr>\n",
       "    <tr>\n",
       "      <th>229121</th>\n",
       "      <td> 11</td>\n",
       "      <td> 1</td>\n",
       "      <td> 40</td>\n",
       "      <td>  0</td>\n",
       "      <td>  69.394386</td>\n",
       "    </tr>\n",
       "  </tbody>\n",
       "</table>\n",
       "<p>229122 rows × 5 columns</p>\n",
       "</div>"
      ],
      "text/plain": [
       "        speakerID  speakerIPU  comp_speaker  comp_speakerIPU  frechetdistance\n",
       "0               0           0             1                0        65.249969\n",
       "1               0           0             1                1        66.515404\n",
       "2               0           0             1                2       274.112701\n",
       "3               0           0             1                3        84.120514\n",
       "4               0           0             1                4       157.210114\n",
       "5               0           0             1                5        79.410965\n",
       "6               0           0             1                6        66.920204\n",
       "7               0           0             1                7       129.865005\n",
       "8               0           0             1                8        87.305168\n",
       "9               0           0             1                9        70.002014\n",
       "10              0           0             1               10       121.547394\n",
       "11              0           0             1               11       133.760040\n",
       "12              0           0             1               12        70.600319\n",
       "13              0           0             1               13       116.680733\n",
       "14              0           0             1               14        88.052719\n",
       "15              0           0             1               15        31.481182\n",
       "16              0           0             1               16        87.957268\n",
       "17              0           0             1               17        89.296844\n",
       "18              0           0             1               18        56.891933\n",
       "19              0           0             1               19       353.062225\n",
       "20              0           0             1               20       109.890099\n",
       "21              0           0             1               21        68.659462\n",
       "22              0           0             1               22        83.948578\n",
       "23              0           0             1               23        88.865791\n",
       "24              0           0             1               24        37.910965\n",
       "25              0           0             1               25        77.620163\n",
       "26              0           0             1               26        67.401115\n",
       "27              0           0             1               27        25.594454\n",
       "28              0           0             1               28       120.141197\n",
       "29              0           0             1               29        75.341499\n",
       "...           ...         ...           ...              ...              ...\n",
       "229092         11           1            39               37       114.561859\n",
       "229093         11           1            39               38        69.395935\n",
       "229094         11           1            39               39        73.270012\n",
       "229095         11           1            39               40        69.394905\n",
       "229096         11           1            39               41       122.228127\n",
       "229097         11           1            39               42       118.530014\n",
       "229098         11           1            39               43        33.050549\n",
       "229099         11           1            39               44       122.551674\n",
       "229100         11           1            39               45        69.396530\n",
       "229101         11           1            39               46        63.455727\n",
       "229102         11           1            39               47       149.760010\n",
       "229103         11           1            39               48       134.450195\n",
       "229104         11           1            39               49       133.429993\n",
       "229105         11           1            39               50       111.330017\n",
       "229106         11           1            39               51       159.154892\n",
       "229107         11           1            39               52       151.880005\n",
       "229108         11           1            39               53        59.040154\n",
       "229109         11           1            39               54        59.039284\n",
       "229110         11           1            39               55        73.267334\n",
       "229111         11           1            39               56        78.891975\n",
       "229112         11           1            39               57        63.457962\n",
       "229113         11           1            39               58        69.398392\n",
       "229114         11           1            39               59        63.457615\n",
       "229115         11           1            39               60       148.730011\n",
       "229116         11           1            39               61        69.396873\n",
       "229117         11           1            39               62        69.401451\n",
       "229118         11           1            39               63        57.050713\n",
       "229119         11           1            39               64        59.038811\n",
       "229120         11           1            39               65        59.035191\n",
       "229121         11           1            40                0        69.394386\n",
       "\n",
       "[229122 rows x 5 columns]"
      ]
     },
     "execution_count": 4,
     "metadata": {},
     "output_type": "execute_result"
    }
   ],
   "source": [
    "distances"
   ]
  },
  {
   "cell_type": "code",
   "execution_count": 63,
   "metadata": {
    "collapsed": true
   },
   "outputs": [],
   "source": [
    "labels = pd.read_csv(\"c:/Python27/qp2_py/labels/labels41_onlyqs.csv\")"
   ]
  },
  {
   "cell_type": "code",
   "execution_count": 68,
   "metadata": {
    "collapsed": false
   },
   "outputs": [
    {
     "data": {
      "text/plain": [
       "'English'"
      ]
     },
     "execution_count": 68,
     "metadata": {},
     "output_type": "execute_result"
    }
   ],
   "source": [
    "labels.iloc[0][0]"
   ]
  },
  {
   "cell_type": "code",
   "execution_count": 69,
   "metadata": {
    "collapsed": false
   },
   "outputs": [
    {
     "name": "stderr",
     "output_type": "stream",
     "text": [
      "C:\\Python27\\lib\\site-packages\\pandas\\core\\index.py:641: FutureWarning: scalar indexers for index type Int64Index should be integers and not floating point\n",
      "  type(self).__name__),FutureWarning)\n"
     ]
    }
   ],
   "source": [
    "from collections import defaultdict\n",
    "ipuID = defaultdict(lambda:{})\n",
    "IDtoLabel = defaultdict(str)\n",
    "count = 0\n",
    "for item in distances.iterrows():\n",
    "    speakerID =  item[1][\"speakerID\"]\n",
    "    speakerIPU = item[1][\"speakerIPU\"]\n",
    "    if speakerIPU not in ipuID[speakerID]:\n",
    "        ipuID[speakerID][speakerIPU]=count\n",
    "        IDtoLabel[count] = labels.iloc[speakerID][\"Language\"]\n",
    "        count +=1"
   ]
  },
  {
   "cell_type": "code",
   "execution_count": 80,
   "metadata": {
    "collapsed": false
   },
   "outputs": [
    {
     "data": {
      "text/plain": [
       "'Mandarin'"
      ]
     },
     "execution_count": 80,
     "metadata": {},
     "output_type": "execute_result"
    }
   ],
   "source": [
    "IDtoLabel[129]"
   ]
  },
  {
   "cell_type": "code",
   "execution_count": 61,
   "metadata": {
    "collapsed": false
   },
   "outputs": [
    {
     "data": {
      "text/plain": [
       "45796"
      ]
     },
     "execution_count": 61,
     "metadata": {},
     "output_type": "execute_result"
    }
   ],
   "source": [
    "count**2"
   ]
  },
  {
   "cell_type": "code",
   "execution_count": 84,
   "metadata": {
    "collapsed": true
   },
   "outputs": [],
   "source": [
    "dist_matrix = np.zeros([count,count])"
   ]
  },
  {
   "cell_type": "code",
   "execution_count": 85,
   "metadata": {
    "collapsed": false
   },
   "outputs": [
    {
     "data": {
      "text/plain": [
       "array([[ 0.,  0.,  0., ...,  0.,  0.,  0.],\n",
       "       [ 0.,  0.,  0., ...,  0.,  0.,  0.],\n",
       "       [ 0.,  0.,  0., ...,  0.,  0.,  0.],\n",
       "       ..., \n",
       "       [ 0.,  0.,  0., ...,  0.,  0.,  0.],\n",
       "       [ 0.,  0.,  0., ...,  0.,  0.,  0.],\n",
       "       [ 0.,  0.,  0., ...,  0.,  0.,  0.]])"
      ]
     },
     "execution_count": 85,
     "metadata": {},
     "output_type": "execute_result"
    }
   ],
   "source": [
    "dist_matrix"
   ]
  },
  {
   "cell_type": "code",
   "execution_count": 88,
   "metadata": {
    "collapsed": false
   },
   "outputs": [],
   "source": [
    "for item in distances.iterrows():\n",
    "    speakerID = item[1][\"speakerID\"]\n",
    "    speakerIPU = item[1][\"speakerIPU\"]\n",
    "    compared_speaker = item[1][\"comp_speaker\"]\n",
    "    compared_IPU = item[1][\"comp_speakerIPU\"]\n",
    "    distance = item[1][\"frechetdistance\"]\n",
    "    if compared_IPU in ipuID[compared_speaker]:\n",
    "        id1 = ipuID[speakerID][speakerIPU]\n",
    "        id2 = ipuID[compared_speaker][compared_IPU]\n",
    "        dist_matrix[id1,id2] = distance"
   ]
  },
  {
   "cell_type": "code",
   "execution_count": 89,
   "metadata": {
    "collapsed": false
   },
   "outputs": [
    {
     "data": {
      "text/plain": [
       "array([[   0.      ,    0.      ,    0.      , ...,  382.150696,\n",
       "          73.425346,   67.012428],\n",
       "       [   0.      ,    0.      ,    0.      , ...,  297.149811,\n",
       "          84.963402,   84.960724],\n",
       "       [   0.      ,    0.      ,    0.      , ...,  382.100769,\n",
       "          74.550476,   63.455166],\n",
       "       ..., \n",
       "       [   0.      ,    0.      ,    0.      , ...,    0.      ,\n",
       "         382.100067,  382.10202 ],\n",
       "       [   0.      ,    0.      ,    0.      , ...,    0.      ,\n",
       "           0.      ,    0.      ],\n",
       "       [   0.      ,    0.      ,    0.      , ...,    0.      ,\n",
       "           0.      ,    0.      ]])"
      ]
     },
     "execution_count": 89,
     "metadata": {},
     "output_type": "execute_result"
    }
   ],
   "source": [
    "dist_matrix"
   ]
  },
  {
   "cell_type": "code",
   "execution_count": 121,
   "metadata": {
    "collapsed": false
   },
   "outputs": [],
   "source": [
    "#np.save(\"c:/Python27/qp2_py/frechet_distance/half_matrix.txt\", dist_matrix, allow_pickle=False)"
   ]
  },
  {
   "cell_type": "markdown",
   "metadata": {},
   "source": [
    "infile = open(\"c:/Python27/qp2_py/frechet_distance/half_matrix.txt\", \"r\")\n",
    "in_matrix = np.load(infile)"
   ]
  },
  {
   "cell_type": "code",
   "execution_count": 112,
   "metadata": {
    "collapsed": false
   },
   "outputs": [
    {
     "data": {
      "text/plain": [
       "array([ 0.,  0.,  0., ...,  0.,  0.,  0.])"
      ]
     },
     "execution_count": 112,
     "metadata": {},
     "output_type": "execute_result"
    }
   ],
   "source": [
    "#in_matrix"
   ]
  },
  {
   "cell_type": "code",
   "execution_count": 93,
   "metadata": {
    "collapsed": false
   },
   "outputs": [
    {
     "data": {
      "text/plain": [
       "DBSCAN(algorithm='auto', eps=0.5, leaf_size=30, metric='precomputed',\n",
       "    min_samples=5, p=None, random_state=None)"
      ]
     },
     "execution_count": 93,
     "metadata": {},
     "output_type": "execute_result"
    }
   ],
   "source": [
    "from sklearn.cluster import DBSCAN\n",
    "\n",
    "cluster = DBSCAN(metric=\"precomputed\")\n",
    "cluster.fit(dist_matrix)"
   ]
  },
  {
   "cell_type": "code",
   "execution_count": 96,
   "metadata": {
    "collapsed": false
   },
   "outputs": [
    {
     "data": {
      "text/plain": [
       "array([ 0,  0,  0,  0,  0,  0,  0,  0,  0,  0,  0,  0,  0,  0,  0,  0,  0,\n",
       "        0,  0,  0,  0,  0,  0,  0,  0,  0,  0,  0,  0,  0,  0,  0,  0,  0,\n",
       "        0,  0,  0,  0,  0,  0,  0,  0,  0,  0,  0,  0,  0,  0,  0,  0,  0,\n",
       "        0,  0,  0,  0,  0,  0,  0,  0,  0,  0,  0,  0,  0,  0,  0,  0,  1,\n",
       "        1,  1,  1,  1,  1,  1,  1,  1,  1,  1,  1,  1,  1,  1,  1,  1,  1,\n",
       "        1,  1,  1,  1,  1,  1,  1,  1,  1,  1,  1,  1,  1,  1,  1,  1,  1,\n",
       "        1,  1,  1,  1,  1,  1,  1,  1,  1,  1,  1,  1,  1,  1,  1,  1,  1,\n",
       "        1,  2,  2,  3,  4,  4,  4,  4,  4,  4,  5,  5,  5,  5,  5,  5,  5,\n",
       "        5,  5,  5,  5,  5,  5,  5,  5,  5,  5,  5,  5,  5,  5,  5,  5,  5,\n",
       "        5,  5,  5,  5,  5,  5,  5,  5,  5,  5,  5,  5,  5,  5,  5,  5,  5,\n",
       "        5,  5,  5,  5,  5,  5,  5,  5,  5,  5,  5,  5,  5,  5,  5,  5,  5,\n",
       "        5,  5,  5,  5,  5,  5,  5,  5,  5,  5,  5,  5,  5,  5,  5,  5,  5,\n",
       "        6,  6,  7,  8,  8,  8,  9, 10, 11, 11])"
      ]
     },
     "execution_count": 96,
     "metadata": {},
     "output_type": "execute_result"
    }
   ],
   "source": [
    "cluster.labels_"
   ]
  },
  {
   "cell_type": "code",
   "execution_count": 130,
   "metadata": {
    "collapsed": false
   },
   "outputs": [],
   "source": [
    "features = [ [feat] for feat in cluster.labels_ ]"
   ]
  },
  {
   "cell_type": "code",
   "execution_count": 125,
   "metadata": {
    "collapsed": true
   },
   "outputs": [],
   "source": [
    "clf_labels = [IDtoLabel[i]for i in range(len(features))]"
   ]
  },
  {
   "cell_type": "code",
   "execution_count": 131,
   "metadata": {
    "collapsed": false
   },
   "outputs": [
    {
     "name": "stdout",
     "output_type": "stream",
     "text": [
      "214 214\n"
     ]
    }
   ],
   "source": [
    "print len(features),len(clf_labels)"
   ]
  },
  {
   "cell_type": "code",
   "execution_count": 133,
   "metadata": {
    "collapsed": true
   },
   "outputs": [],
   "source": [
    "from sklearn.cross_validation import cross_val_score\n",
    "from sklearn.cross_validation import train_test_split\n",
    "from sklearn.cross_validation import ShuffleSplit"
   ]
  },
  {
   "cell_type": "code",
   "execution_count": null,
   "metadata": {
    "collapsed": true
   },
   "outputs": [],
   "source": [
    "param_grid = {'C': [0.001, 0.01, 0.1, 1, 10, 100],\n",
    "              'gamma': [0.001, 0.01, 0.1, 1, 10, 100]}\n",
    "\n",
    "\n",
    "\n",
    "#param_grid = {'C': [0.001, 0.01, 0.1, 1, 10, 100]}\n",
    "\n",
    "from sklearn.grid_search import GridSearchCV\n",
    "from sklearn.svm import SVC\n",
    "grid_search = GridSearchCV(SVC(), param_grid, cv=10)\n",
    "\n",
    "X_train, X_test, y_train, y_test = train_test_split(ipu_features, labels, random_state=0)\n",
    "\n",
    "grid_search.fit(X_train, y_train)\n",
    "\n",
    "print(grid_search.best_params_)\n",
    "print(grid_search.best_score_)"
   ]
  },
  {
   "cell_type": "code",
   "execution_count": 135,
   "metadata": {
    "collapsed": false
   },
   "outputs": [
    {
     "name": "stdout",
     "output_type": "stream",
     "text": [
      "[ 0.98148148  0.98148148  0.98148148  0.98148148  1.          1.          1.\n",
      "  1.          1.          0.98148148]\n",
      "0.990740740741\n"
     ]
    }
   ],
   "source": [
    "from sklearn.svm import SVC\n",
    "classifier = SVC()\n",
    "from sklearn.cross_validation import ShuffleSplit\n",
    "from sklearn.cross_validation import cross_val_score\n",
    "shuffle_split = ShuffleSplit(214, n_iter= 10, test_size=.25, train_size=.75)\n",
    "shuffle_score = cross_val_score(classifier, features, clf_labels, cv=shuffle_split)\n",
    "print shuffle_score\n",
    "print shuffle_score.mean()"
   ]
  },
  {
   "cell_type": "code",
   "execution_count": 134,
   "metadata": {
    "collapsed": false
   },
   "outputs": [
    {
     "name": "stdout",
     "output_type": "stream",
     "text": [
      "1.0\n"
     ]
    }
   ],
   "source": [
    "from sklearn.svm import SVC\n",
    "classifier = SVC()\n",
    "\n",
    "X_train, X_test, y_train, y_test = train_test_split(features, clf_labels, random_state=0)\n",
    "classifier.fit(X_train, y_train)\n",
    "score = classifier.score(X_test, y_test)\n",
    "print score"
   ]
  },
  {
   "cell_type": "code",
   "execution_count": 143,
   "metadata": {
    "collapsed": true
   },
   "outputs": [],
   "source": [
    "count_Eng = 0\n",
    "count_Man = 0\n",
    "total_Eng = 0\n",
    "total_Man= 0\n",
    "count_full = 0\n",
    "total_instances=0\n",
    "man_dist = []\n",
    "eng_dist = []\n",
    "full_dist = []\n",
    "for i in range(len(dist_matrix)):\n",
    "    for j in range(len(dist_matrix)):\n",
    "        if IDtoLabel[i]==IDtoLabel[j]:\n",
    "            if IDtoLabel[i]==\"English\":\n",
    "                count_Eng+= dist_matrix[i][j]\n",
    "                eng_dist.append(dist_matrix[i][j])\n",
    "                total_Eng+=1\n",
    "            else:\n",
    "                count_Man+= dist_matrix[i][j]\n",
    "                man_dist.append(dist_matrix[i][j])\n",
    "                total_Man+=1\n",
    "        count_full+= dist_matrix[i][j]\n",
    "        total_instances+=1\n",
    "        full_dist.append(dist_matrix[i][j])\n",
    "\n",
    "        "
   ]
  },
  {
   "cell_type": "code",
   "execution_count": 141,
   "metadata": {
    "collapsed": true
   },
   "outputs": [],
   "source": [
    "avg_dist_Eng = count_Eng/float(total_Eng)\n",
    "avg_dist_Man = count_Man/float(total_Man)\n",
    "avg_dist = count_full/float(total_instances)"
   ]
  },
  {
   "cell_type": "markdown",
   "metadata": {},
   "source": [
    "## Calculating distances & significances\n",
    "- English IPUs are closer to each other than random distances, but Mandarin are even closer to each other\n",
    "- Mandarin IPUs are closer to other Mandarin IPUs than English IPUs closer to other English IPUs\n",
    "- By a lot, which is super weird\n",
    "- And this result is super significant"
   ]
  },
  {
   "cell_type": "code",
   "execution_count": 142,
   "metadata": {
    "collapsed": false
   },
   "outputs": [
    {
     "name": "stdout",
     "output_type": "stream",
     "text": [
      "44.4459225789\n",
      "14.339245156\n",
      "53.6373251001\n"
     ]
    }
   ],
   "source": [
    "print avg_dist_Eng\n",
    "print avg_dist_Man\n",
    "print avg_dist"
   ]
  },
  {
   "cell_type": "code",
   "execution_count": 146,
   "metadata": {
    "collapsed": false
   },
   "outputs": [
    {
     "name": "stdout",
     "output_type": "stream",
     "text": [
      "(-11.202924405297988, 4.2055999483072492e-29)\n",
      "(-36.230293768111771, 6.0841112134477761e-284)\n"
     ]
    }
   ],
   "source": [
    "from scipy.stats import ttest_ind\n",
    "p_eng = ttest_ind(eng_dist, full_dist)\n",
    "p_man = ttest_ind(man_dist,full_dist)\n",
    "print p_eng\n",
    "print p_man"
   ]
  },
  {
   "cell_type": "code",
   "execution_count": 18,
   "metadata": {
    "collapsed": false
   },
   "outputs": [],
   "source": [
    "distance_labels = pd.DataFrame"
   ]
  },
  {
   "cell_type": "code",
   "execution_count": 38,
   "metadata": {
    "collapsed": false
   },
   "outputs": [
    {
     "data": {
      "text/plain": [
       "pandas.core.series.Series"
      ]
     },
     "execution_count": 38,
     "metadata": {},
     "output_type": "execute_result"
    }
   ],
   "source": [
    "type(labels.iloc[5])"
   ]
  },
  {
   "cell_type": "markdown",
   "metadata": {},
   "source": [
    "count = 0\n",
    "for item in distances.iterrows():\n",
    "    speakerID =  item[1][1]\n",
    "    if speakersID == count:\n",
    "        lab = label.iloc[count][0]\n",
    "        distance_labels.append(lab)\n",
    "    else:"
   ]
  },
  {
   "cell_type": "code",
   "execution_count": null,
   "metadata": {
    "collapsed": true
   },
   "outputs": [],
   "source": []
  }
 ],
 "metadata": {
  "kernelspec": {
   "display_name": "Python 2",
   "language": "python",
   "name": "python2"
  },
  "language_info": {
   "codemirror_mode": {
    "name": "ipython",
    "version": 2
   },
   "file_extension": ".py",
   "mimetype": "text/x-python",
   "name": "python",
   "nbconvert_exporter": "python",
   "pygments_lexer": "ipython2",
   "version": "2.7.7"
  }
 },
 "nbformat": 4,
 "nbformat_minor": 0
}
