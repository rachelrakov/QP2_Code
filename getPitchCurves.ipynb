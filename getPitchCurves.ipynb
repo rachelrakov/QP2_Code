{
 "cells": [
  {
   "cell_type": "code",
   "execution_count": 2,
   "metadata": {
    "collapsed": true
   },
   "outputs": [],
   "source": [
    "import tgt\n",
    "from Tkinter import *\n",
    "t_fname = \"c:/Python27/qp2/txtgrids/COMBINE_p452p453-part2_ch1.textgrid\"\n",
    "s_fname = \"c:/Python27/qp2/wavs/p452p453-part2_ch1.wav\""
   ]
  },
  {
   "cell_type": "markdown",
   "metadata": {},
   "source": [
    "## To Do in cell below\n",
    "-- Make object functions work with filelists.\n",
    "\n",
    "def getSound(soundfname):\n",
    "    import tkSnack\n",
    "    root = Tk()\n",
    "    tkSnack.initializeSnack(root)\n",
    "    sound_list = [] \n",
    "    for i in range(150):\n",
    "        fileName = 'c:/Python27/WAVUtterances/daria'+str(num)+'.wav'\n",
    "        #print \"Now working on %s\" %(fileName)\n",
    "        utterance = tkSnack.Sound()\n",
    "        utterance.read(fileName)\n",
    "        sound_list.append(utterance)\n",
    "        num = num +1\n",
    "        if num == 79:\n",
    "            num = 8\n",
    "    return sound_list"
   ]
  },
  {
   "cell_type": "code",
   "execution_count": 1,
   "metadata": {
    "collapsed": true
   },
   "outputs": [],
   "source": [
    "######### functions to make some objects - sound objects and txtgrid objects\n",
    "#### TO DO: Edit to make these functions work with os filelists\n",
    "def getSound(soundfname):\n",
    "    import tkSnack\n",
    "    root = Tk()\n",
    "    tkSnack.initializeSnack(root)\n",
    "    sound_obj = tkSnack.Sound()\n",
    "    sound_obj.read(soundfname)\n",
    "    return sound_obj\n",
    "\n",
    "\n",
    "def getTextGrids(txtfname):\n",
    "    grid_obj = tgt.read_textgrid(txtfname)\n",
    "    return grid_obj\n",
    "    "
   ]
  },
  {
   "cell_type": "markdown",
   "metadata": {},
   "source": [
    "## To Do (below)\n",
    "\n",
    "Need a new tool\n",
    "- Input is start and end time, output is timeseries of F0 measurements at those point\n",
    "- Or do it in Praat and align it here (almost certanily what I will end up doing)"
   ]
  },
  {
   "cell_type": "code",
   "execution_count": null,
   "metadata": {
    "collapsed": true
   },
   "outputs": [],
   "source": [
    "#### Get pitches, times, and annotations\n",
    "def getPitch(sound):\n",
    "    \"\"\"returns (f0, T/F, intensity?, ?)\"\"\"\n",
    "    import tkSnack\n",
    "    root = Tk()\n",
    "    pitch_list = []\n",
    "    tkSnack.initializeSnack(root)\n",
    "    sound.convert(channels=1)\n",
    "    p_result =sound.pitch(method=\"ESPS\", windowlength = 0.015)\n",
    "\n",
    "    return p_result"
   ]
  },
  {
   "cell_type": "code",
   "execution_count": null,
   "metadata": {
    "collapsed": false,
    "scrolled": true
   },
   "outputs": [],
   "source": [
    "def main():\n",
    "    sound = getSound(s_fname)\n",
    "    grid_obj = getTextGrids(t_fname)\n",
    "    #pitch = getPitch(sound)\n",
    "    #print pitch[20]\n",
    "    \n",
    "main()"
   ]
  },
  {
   "cell_type": "code",
   "execution_count": null,
   "metadata": {
    "collapsed": true
   },
   "outputs": [],
   "source": []
  },
  {
   "cell_type": "code",
   "execution_count": 1,
   "metadata": {
    "collapsed": false
   },
   "outputs": [],
   "source": [
    "fname = \"c:/Python27/qp2/sample_both/non_native/p452p453-part2_ch1_pitches.txt\"\n",
    "infile = open(fname, \"r\")\n",
    "data = infile.readlines()\n",
    "infile.close()\n",
    "START = 1\n",
    "END = 2\n",
    "       \n",
    "    \n",
    "#Only do this ONCE!  \n",
    "del data[0]"
   ]
  },
  {
   "cell_type": "code",
   "execution_count": 2,
   "metadata": {
    "collapsed": false
   },
   "outputs": [
    {
     "name": "stdout",
     "output_type": "stream",
     "text": [
      "STOP\t24.56\t24.88\tNA\tNA\tNA\tNA\tNA\tNA\tNA\tNA\tNA\tNA\tNA\tNA\tNA\tNA\tNA\t113.0\t114.0\t113.1\t112.8\t113.5\t117.4\t125.4\tNA\tNA\tNA\tNA\tNA\tNA\tNA\tNA\n",
      "\n",
      "4.75789127301\n"
     ]
    }
   ],
   "source": [
    "print data[3]\n",
    "import math\n",
    "print math.log(116.5)\n"
   ]
  },
  {
   "cell_type": "code",
   "execution_count": 3,
   "metadata": {
    "collapsed": false,
    "scrolled": true
   },
   "outputs": [
    {
     "name": "stdout",
     "output_type": "stream",
     "text": [
      "['OH', 23.86, 23.99, 124.8, 122.3, 127.4, 125.6]\n",
      "['STOP', 24.56, 24.88, 113.0, 114.0, 113.1, 112.8, 113.5, 117.4, 125.4]\n",
      "['OH I HAVE A QUESTION', 26.27, 27.14, 189.3, 175.9, 177.8, 186.6, 189.5, 184.0, 182.6, 182.9, 178.0, 157.1, 152.1, 162.2, 166.5]\n",
      "['WHAT IS A CONFIDENCE', 27.53, 28.86, 133.0, 114.7, 128.4, 143.3, 160.9, 179.9, 171.2, 152.6, 133.7, 116.1, 155.4, 156.2]\n",
      "['A NUMBER SO', 29.2, 30.17, 117.1, 115.5, 118.4, 123.0, 128.0, 134.9, 135.6, 124.5, 114.3, 109.4, 148.0, 142.8, 135.0]\n",
      "['YEAH', 36.06, 36.29, 133.5, 127.8, 114.7, 106.5, 106.6, 104.7, 101.8, 108.7, 110.9, 109.9, 119.1]\n",
      "['OH SO', 45.27, 45.71, 120.8, 120.3, 118.7, 118.4, 115.7, 112.3, 148.8, 142.3, 139.1, 136.8, 135.2, 130.7, 127.5]\n",
      "[\"IT'S\", 45.9, 46.26, 137.8, 138.9, 138.1, 136.0, 131.9, 128.4]\n",
      "[\"IT'S A NUMBER FOR\", 46.59, 47.48, 142.7, 136.6, 134.0, 134.1, 127.3, 125.3, 124.9, 121.3, 120.2, 121.8, 109.9, 112.1, 112.0, 116.2, 113.2, 112.2, 108.9]\n",
      "['HOW MUCH I', 47.68, 48.54, 130.3, 125.5, 124.6, 122.3, 125.5, 127.2, 124.9, 118.6, 119.4, 103.9, 107.5, 106.1, 107.5]\n",
      "['CERTAIN', 48.81, 49.58, 115.4, 110.9, 108.3]\n",
      "['OK', 50.39, 50.64]\n",
      "['SO OK', 50.88, 51.99, 111.5, 108.2, 102.4, 100.3]\n",
      "['SO IT CAN BE A FIVE FOR TRUE AND ALSO', 52.914504411452896, 55.3, 182.3, 150.2, 174.3, 154.1, 151.2, 129.2, 142.1, 140.3, 147.4, 143.0, 112.4, 111.4, 144.4, 121.5, 122.2, 123.0, 109.6]\n",
      "['BE FIVE AND FOR FALSE OKAY', 55.34979927841336, 57.1896933299221, 104.0, 101.2, 98.9, 105.7, 181.2]\n",
      "['OK', 59.8770861678, 60.2370861678]\n",
      "['UH', 60.9170861678, 61.4470861678, 118.2, 115.1, 114.1, 112.9, 112.5, 112.6, 111.6, 111.0, 111.0, 109.7, 107.9, 108.4]\n",
      "[\"WHERE WERE YOU BORN IT'S\", 61.7670861678, 62.5770861678, 128.8, 134.8, 147.0, 161.9, 162.0, 160.5, 159.5, 151.2, 139.4, 131.6, 127.9, 125.9, 123.2, 116.6, 132.3, 132.7, 139.7, 151.0, 161.4, 169.1, 182.7]\n",
      "['GHANA', 64.34211165734455, 64.91005322951445, 139.8, 138.0, 136.2, 137.0, 137.1, 138.2, 138.8, 137.9, 134.4, 130.6, 126.0]\n",
      "['UH', 65.1970861678, 65.6570861678, 117.3, 118.1, 117.9, 117.5, 116.4, 115.6, 115.3, 115.6, 114.8, 113.7, 112.6, 112.7, 112.2, 111.5, 110.4, 110.4, 111.7, 112.5, 112.2, 111.3, 109.9, 108.5]\n"
     ]
    }
   ],
   "source": [
    "##Takes as input praat f0 extraction file, returns a list of lists [ipu, x...n of F0 values]\n",
    "## takes as input data that's been extracted from 1 praat tier\n",
    "ipu_out = []\n",
    "for element in data:\n",
    "    ipu = element.split('\\t')\n",
    "    if ipu[0]==\"silent\" or ipu[0]==\"#\":\n",
    "        pass\n",
    "    else:\n",
    "        txt = ipu[0]\n",
    "        f0s = ipu[1:]\n",
    "        f0_list = [txt]\n",
    "        for i in range(len(f0s)):\n",
    "            try:\n",
    "                f0 = float(f0s[i])\n",
    "                f0_list.append(f0)\n",
    "            except ValueError:\n",
    "                pass\n",
    "        ipu_out.append(f0_list)\n",
    "    f0_list = []\n",
    "\n",
    "\n",
    "for i in range(20):\n",
    "    print ipu_out[i]\n"
   ]
  },
  {
   "cell_type": "code",
   "execution_count": 44,
   "metadata": {
    "collapsed": false
   },
   "outputs": [],
   "source": [
    "## some shit code about logs and list comprehensions \n",
    "#import math\n",
    "#logs = ipu_out[:]\n",
    "#for item in logs:\n",
    "#    f0s = item[1:]\n",
    "#    loggys = [math.log(item)for item in f0s]"
   ]
  },
  {
   "cell_type": "code",
   "execution_count": 19,
   "metadata": {
    "collapsed": false
   },
   "outputs": [
    {
     "name": "stdout",
     "output_type": "stream",
     "text": [
      "['OH', 23.86, 23.99, 124.8, 122.3, 127.4, 125.6]\n",
      "432\n",
      "\n",
      "\n",
      "0.276739122057\n",
      "2.11976911382\n",
      "-0.711950008459\n",
      "0.558081638161\n",
      "0.729949275902\n",
      "0.647228785025\n",
      "-0.0203127018952\n",
      "-1.6402558286\n",
      "-1.31398656423\n",
      "-1.21564146217\n",
      "-0.906138293335\n",
      "NaN\n",
      "-1.03699550315\n",
      "-1.50616143835\n",
      "1.78000871251\n",
      "NaN\n",
      "-1.29742288309\n",
      "1.98627345688\n",
      "-2.41568317649\n",
      "-1.81571376587\n",
      "-1.18430254497\n",
      "-1.4704265826\n",
      "-0.762987944857\n",
      "-2.28817393744\n",
      "0.0765897220407\n",
      "0.707671077417\n",
      "1.49365215185\n",
      "-1.16386085613\n",
      "0.800388890773\n",
      "-1.00152926567\n",
      "1.89333932807\n",
      "NaN\n",
      "-0.962729089287\n",
      "-0.356681511272\n",
      "-1.29070796785\n",
      "-1.11468771373\n",
      "0.257949396001\n",
      "-1.01633071185\n",
      "NaN\n",
      "-0.691358902328\n",
      "0.462563795662\n",
      "NaN\n",
      "-1.41974693887\n",
      "-1.41978804452\n",
      "-2.0409407562\n",
      "-1.72505319134\n",
      "-2.08164028013\n",
      "NaN\n",
      "-0.860603330444\n",
      "-2.47497699468\n"
     ]
    }
   ],
   "source": [
    "###NOTES ABOUT THIS FUNCTION: \n",
    "## log normalizes each F0 point in the IPU, then calculates min, max, and std of the normalized F0s\n",
    "## also calculates mean and the z-normalized mean of the logF0 points per IPU\n",
    "## currently (2/15/2016) returns a list of (ipuString, [seconds, minF0, maxF0, std, meanF0, znorm_meanF0, whisper])\n",
    "## Goal is to output format that's good for sklearn\n",
    "## NOTE:  For whispered ipus, all values are \"NaN\"\n",
    "## NOTE: For one F0 point ipus, min, max, and mean F0 features are log of the F0 point, std&znorm are NaN, whisper = 0\n",
    "\n",
    "## QUESTIONS FOR ANDREW (2/3/2016):\n",
    "### z-normalized is returning between 1 and -1, is that okay?\n",
    "## Is the normalization I'm doing okay\n",
    "## can I z-score normalize already log normalized f0 means?\n",
    "## QUESTIONS 2/15/2016\n",
    "## is my zscore normalization correct?\n",
    "## handling whisperes and f0 points okay?\n",
    "\n",
    "\n",
    "import scipy\n",
    "import math\n",
    "from scipy import stats\n",
    "logs = ipu_out[:] #make a copy cause I'm fucking with the list\n",
    "\n",
    "feature_set = []\n",
    "\n",
    "print logs[0]\n",
    "\n",
    "for item in logs:\n",
    "    txt = item[0]\n",
    "    start_time = item[1]\n",
    "    end_time = item[2]\n",
    "    time = end_time-start_time\n",
    "    \n",
    "    f0s = item[3:]\n",
    "    if bool(f0s) == False:\n",
    "    ### for whispered ipus (with no F0)\n",
    "        minF0 = \"NaN\"\n",
    "        maxF0 = \"NaN\"\n",
    "        std = \"NaN\"\n",
    "        meanF0 = \"NaN\"\n",
    "        znorm_mean = \"NaN\"\n",
    "        whisper = 1\n",
    "    \n",
    "    elif len(f0s) ==1:\n",
    "    ### for ipus with only one F0 point\n",
    "        oneVal = math.log(f0s[0])\n",
    "        minF0 = oneVal\n",
    "        maxF0 = oneVal\n",
    "        std = \"NaN\"\n",
    "        meanF0 = oneVal\n",
    "        znorm_mean = \"NaN\"\n",
    "        whipser = 0\n",
    "    \n",
    "    else: \n",
    "        logF0s = [math.log(item) for item in f0s]\n",
    "        minF0 = min(logF0s)\n",
    "        maxF0 = max(logF0s)\n",
    "        meanF0 = sum(logF0s)/len(logF0s)\n",
    "        std = scipy.stats.tstd(logF0s)\n",
    "        for point in logF0s:\n",
    "            znorm_mean = (point-meanF0)/std\n",
    "        whisper = 0\n",
    "    #print \"min:%f, max:%f, std:%f, mean:%f, znormMean:%f\" %(minF0, maxF0, std, meanF0, znorm_mean)\n",
    "\n",
    "    features = [time, minF0, maxF0, std, meanF0, znorm_mean, whisper]\n",
    "    set_tup = (txt, features)\n",
    "    feature_set.append(set_tup)\n",
    "\n",
    "print len(feature_set)\n",
    "print \"\\n\"\n",
    "for i in range(50):\n",
    "    print feature_set[i][1][5]"
   ]
  },
  {
   "cell_type": "code",
   "execution_count": 9,
   "metadata": {
    "collapsed": false
   },
   "outputs": [
    {
     "name": "stdout",
     "output_type": "stream",
     "text": [
      "1.0053166983\n"
     ]
    }
   ],
   "source": [
    "### getting approx length of time per ipu\n",
    "sum_time = 0\n",
    "for item in feature_set:\n",
    "    features = item[1]\n",
    "    time = features[0]\n",
    "    sum_time= sum_time + time\n",
    "\n",
    "\n",
    "approx_length = sum_time / float(len(feature_set))\n",
    "print approx_length\n",
    "    "
   ]
  },
  {
   "cell_type": "code",
   "execution_count": 11,
   "metadata": {
    "collapsed": false
   },
   "outputs": [
    {
     "name": "stdout",
     "output_type": "stream",
     "text": [
      "[u'DH IH1 S', u'IH1 Z', u'AH0', u'S EH1 N T AH0 N S']\n",
      "5\n"
     ]
    },
    {
     "data": {
      "text/plain": [
       "[u'AH0 N D', u'AE1 N D']"
      ]
     },
     "execution_count": 11,
     "metadata": {},
     "output_type": "execute_result"
    }
   ],
   "source": [
    "##### testing syllable code stuff ####\n",
    "import pronouncing\n",
    "text = \"this is a sentence\"\n",
    "phones = [pronouncing.phones_for_word(p)[0] for p in text.split()]\n",
    "print phones\n",
    "syl = sum([pronouncing.syllable_count(p) for p in phones])\n",
    "print syl\n",
    "\n",
    "pronouncing.phones_for_word(\"and\")"
   ]
  },
  {
   "cell_type": "code",
   "execution_count": 12,
   "metadata": {
    "collapsed": false
   },
   "outputs": [
    {
     "name": "stdout",
     "output_type": "stream",
     "text": [
      "432\n"
     ]
    }
   ],
   "source": [
    "####Calculates syllables for each IPU\n",
    "## NOTE: Assumes words not in the dictionary are all monosyllabic (assumption based on um, mm, and false starts)\n",
    "### But this is definitely not accurate, there will be names that are wrong too.\n",
    "## TO DO: calculate syllables / second, add to feature list (in cell below!)\n",
    "\n",
    "import pronouncing\n",
    "syl_list = []\n",
    "\n",
    "def getWeirdSyllables(text):\n",
    "    \"\"\"Gets syllables count for IPUs that contain OOVs.  NOTE:  OOVs always return monosyllabic\"\"\"\n",
    "    syl_sum = 0\n",
    "    checkit = text.split()\n",
    "    for word in checkit:\n",
    "        valid = pronouncing.phones_for_word(word)\n",
    "        #print valid\n",
    "        if valid:\n",
    "            syl = sum([pronouncing.syllable_count(p)for p in valid[0]])\n",
    "        else:\n",
    "            syl = 1\n",
    "        syl_sum = syl_sum+syl\n",
    "    return syl_sum\n",
    "\n",
    "    \n",
    "    \n",
    "for item in feature_set:\n",
    "    text = item[0]\n",
    "    text = text.lower()\n",
    "    try:\n",
    "        phones = [pronouncing.phones_for_word(p)[0] for p in text.split()]\n",
    "        syl = sum([pronouncing.syllable_count(p) for p in phones])\n",
    "    except IndexError:\n",
    "        syl = getWeirdSyllables(text)\n",
    "        #pass\n",
    "    syl_list.append(syl)\n",
    "\n",
    "\n",
    "\n",
    "print len(syl_list)\n",
    "\n",
    "    \n",
    "\n"
   ]
  },
  {
   "cell_type": "code",
   "execution_count": 13,
   "metadata": {
    "collapsed": false
   },
   "outputs": [],
   "source": [
    "## replaces time with seconds per syllable\n",
    "## feature_set is now done for a baseline, for one file (2/15/2016)\n",
    "\n",
    "for i in range(len(feature_set)):\n",
    "    length = feature_set[i][1][0]\n",
    "    syl_num = syl_list[i]\n",
    "    \n",
    "    syl_per_sec = syl_num / length\n",
    "    feature_set[i][1][0]= syl_per_sec\n",
    "\n"
   ]
  },
  {
   "cell_type": "code",
   "execution_count": 14,
   "metadata": {
    "collapsed": false
   },
   "outputs": [
    {
     "name": "stdout",
     "output_type": "stream",
     "text": [
      "3.89349983476\n"
     ]
    }
   ],
   "source": [
    "syl_count = 0\n",
    "for item in feature_set:\n",
    "    features = item[1]\n",
    "    syl_count = syl_count+features[0]\n",
    "syl_per_ipu = syl_count / len(feature_set)\n",
    "print syl_per_ipu"
   ]
  }
 ],
 "metadata": {
  "kernelspec": {
   "display_name": "Python 2",
   "language": "python",
   "name": "python2"
  },
  "language_info": {
   "codemirror_mode": {
    "name": "ipython",
    "version": 2
   },
   "file_extension": ".py",
   "mimetype": "text/x-python",
   "name": "python",
   "nbconvert_exporter": "python",
   "pygments_lexer": "ipython2",
   "version": "2.7.7"
  }
 },
 "nbformat": 4,
 "nbformat_minor": 0
}
