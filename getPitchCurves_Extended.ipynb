{
 "cells": [
  {
   "cell_type": "markdown",
   "metadata": {
    "collapsed": true
   },
   "source": [
    "# Start Here: Extend happens below"
   ]
  },
  {
   "cell_type": "code",
   "execution_count": 12,
   "metadata": {
    "collapsed": false
   },
   "outputs": [],
   "source": [
    "import os\n",
    "\n",
    "non_fname = \"c:/Python27/qp2/sample_both/non_native/p452p453-part2_ch1_pitches.txt\"\n",
    "native_fname = \"c:/Python27/qp2/sample_both/native/p226p227-part2_ch2_pitchs.txt\"\n",
    "\n",
    "non_infile = open(non_fname, \"r\")\n",
    "non_data = non_infile.readlines()\n",
    "\n",
    "native_infile = open(native_fname, \"r\")\n",
    "native_data = native_infile.readlines()\n",
    "\n",
    "labels = [\"NonNative\", \"Native\"]\n",
    "non_infile.close()\n",
    "native_infile.close()\n",
    "\n",
    "\n",
    "all_data = [non_data, native_data]\n",
    "#Only do this ONCE!  \n",
    "#del data[0]"
   ]
  },
  {
   "cell_type": "code",
   "execution_count": 2,
   "metadata": {
    "collapsed": false
   },
   "outputs": [
    {
     "name": "stdout",
     "output_type": "stream",
     "text": [
      "silent\t0\t23.86\tNA\tNA\tNA\tNA\tNA\tNA\tNA\tNA\tNA\tNA\tNA\tNA\tNA\tNA\tNA\tNA\tNA\tNA\tNA\tNA\tNA\tNA\tNA\tNA\tNA\tNA\tNA\tNA\tNA\tNA\n",
      "\n",
      "silent\t0\t7.42179138322\tNA\tNA\tNA\tNA\tNA\tNA\tNA\tNA\tNA\t238.2\tNA\tNA\tNA\tNA\tNA\tNA\tNA\tNA\tNA\tNA\tNA\t119.3\t148.2\tNA\tNA\tNA\tNA\tNA\tNA\tNA\n",
      "\n"
     ]
    }
   ],
   "source": [
    "## Run this EXACTLY ONCE\n",
    "for item in all_data:\n",
    "    del item[0]\n",
    "\n",
    "for item in all_data:\n",
    "    print item[0]"
   ]
  },
  {
   "cell_type": "code",
   "execution_count": 8,
   "metadata": {
    "collapsed": false
   },
   "outputs": [
    {
     "name": "stdout",
     "output_type": "stream",
     "text": [
      "2\n"
     ]
    }
   ],
   "source": [
    "print len(all_data)\n",
    "    "
   ]
  },
  {
   "cell_type": "code",
   "execution_count": 49,
   "metadata": {
    "collapsed": false
   },
   "outputs": [
    {
     "name": "stdout",
     "output_type": "stream",
     "text": [
      "STOP\t24.56\t24.88\tNA\tNA\tNA\tNA\tNA\tNA\tNA\tNA\tNA\tNA\tNA\tNA\tNA\tNA\tNA\t113.0\t114.0\t113.1\t112.8\t113.5\t117.4\t125.4\tNA\tNA\tNA\tNA\tNA\tNA\tNA\tNA\n",
      "\n",
      "4.75789127301\n"
     ]
    }
   ],
   "source": [
    "print data[3]\n",
    "import math\n",
    "print math.log(116.5)\n"
   ]
  },
  {
   "cell_type": "code",
   "execution_count": 4,
   "metadata": {
    "collapsed": false,
    "scrolled": true
   },
   "outputs": [
    {
     "name": "stdout",
     "output_type": "stream",
     "text": [
      "2\n",
      "['OH', 23.86, 23.99, 124.8, 122.3, 127.4, 125.6]\n",
      "['STOP', 24.56, 24.88, 113.0, 114.0, 113.1, 112.8, 113.5, 117.4, 125.4]\n",
      "['OH I HAVE A QUESTION', 26.27, 27.14, 189.3, 175.9, 177.8, 186.6, 189.5, 184.0, 182.6, 182.9, 178.0, 157.1, 152.1, 162.2, 166.5]\n",
      "['WHAT IS A CONFIDENCE', 27.53, 28.86, 133.0, 114.7, 128.4, 143.3, 160.9, 179.9, 171.2, 152.6, 133.7, 116.1, 155.4, 156.2]\n",
      "['A NUMBER SO', 29.2, 30.17, 117.1, 115.5, 118.4, 123.0, 128.0, 134.9, 135.6, 124.5, 114.3, 109.4, 148.0, 142.8, 135.0]\n",
      "['YEAH', 36.06, 36.29, 133.5, 127.8, 114.7, 106.5, 106.6, 104.7, 101.8, 108.7, 110.9, 109.9, 119.1]\n",
      "['OH SO', 45.27, 45.71, 120.8, 120.3, 118.7, 118.4, 115.7, 112.3, 148.8, 142.3, 139.1, 136.8, 135.2, 130.7, 127.5]\n",
      "[\"IT'S\", 45.9, 46.26, 137.8, 138.9, 138.1, 136.0, 131.9, 128.4]\n",
      "[\"IT'S A NUMBER FOR\", 46.59, 47.48, 142.7, 136.6, 134.0, 134.1, 127.3, 125.3, 124.9, 121.3, 120.2, 121.8, 109.9, 112.1, 112.0, 116.2, 113.2, 112.2, 108.9]\n",
      "['HOW MUCH I', 47.68, 48.54, 130.3, 125.5, 124.6, 122.3, 125.5, 127.2, 124.9, 118.6, 119.4, 103.9, 107.5, 106.1, 107.5]\n",
      "['CERTAIN', 48.81, 49.58, 115.4, 110.9, 108.3]\n",
      "['OK', 50.39, 50.64]\n",
      "['SO OK', 50.88, 51.99, 111.5, 108.2, 102.4, 100.3]\n",
      "['SO IT CAN BE A FIVE FOR TRUE AND ALSO', 52.914504411452896, 55.3, 182.3, 150.2, 174.3, 154.1, 151.2, 129.2, 142.1, 140.3, 147.4, 143.0, 112.4, 111.4, 144.4, 121.5, 122.2, 123.0, 109.6]\n",
      "['BE FIVE AND FOR FALSE OKAY', 55.34979927841336, 57.1896933299221, 104.0, 101.2, 98.9, 105.7, 181.2]\n",
      "['OK', 59.8770861678, 60.2370861678]\n",
      "['UH', 60.9170861678, 61.4470861678, 118.2, 115.1, 114.1, 112.9, 112.5, 112.6, 111.6, 111.0, 111.0, 109.7, 107.9, 108.4]\n",
      "[\"WHERE WERE YOU BORN IT'S\", 61.7670861678, 62.5770861678, 128.8, 134.8, 147.0, 161.9, 162.0, 160.5, 159.5, 151.2, 139.4, 131.6, 127.9, 125.9, 123.2, 116.6, 132.3, 132.7, 139.7, 151.0, 161.4, 169.1, 182.7]\n",
      "['GHANA', 64.34211165734455, 64.91005322951445, 139.8, 138.0, 136.2, 137.0, 137.1, 138.2, 138.8, 137.9, 134.4, 130.6, 126.0]\n",
      "['UH', 65.1970861678, 65.6570861678, 117.3, 118.1, 117.9, 117.5, 116.4, 115.6, 115.3, 115.6, 114.8, 113.7, 112.6, 112.7, 112.2, 111.5, 110.4, 110.4, 111.7, 112.5, 112.2, 111.3, 109.9, 108.5]\n",
      "['I WAS BORN IN CORNING NEW YORK', 7.42179138322, 8.88179138322, 101.6, 97.4, 100.8, 98.5, 95.8, 94.5, 94.8, 94.1, 90.7, 86.4, 86.5, 90.0, 107.4, 103.5, 105.0, 105.2, 103.5, 98.2, 90.5, 81.5]\n",
      "[\"CORNING NEW YORK IS A IT'S THAT\", 10.1217913832, 11.4383900227, 106.7, 106.2, 108.5, 112.1, 113.8, 110.9, 107.6, 107.7, 98.5, 91.7, 91.9, 87.0, 84.4, 83.7, 82.3, 100.1, 127.3, 124.7, 123.7, 118.1]\n",
      "['YOU', 11.5283900227, 11.5883900227]\n",
      "[\"MIGHT HAVE HEARD OF IT IT'S THAT\", 11.8883900227, 12.7883900227, 107.2, 116.8, 121.9, 120.8, 118.4, 111.1, 121.7, 116.4, 115.2, 115.8, 112.7, 106.3, 109.3, 111.5, 104.8, 97.4, 102.9, 97.1, 95.5, 93.0, 91.0]\n",
      "['UH', 12.8683900227, 13.2283900227, 90.1, 96.7, 98.6, 96.6, 94.6, 93.6, 92.2, 90.9, 90.1, 89.5, 89.2, 88.7, 88.5, 88.5, 88.5, 88.7, 88.7, 88.4, 87.8, 86.7, 85.2]\n",
      "['IT THAT PLACE UH OUT IN WESTERN NEW YORK WITH LIKE THE BIG GLASS FACTORY', 14.3183900227, 17.0883900227, 101.2, 99.0, 93.8, 99.3, 94.3, 93.9, 88.2, 88.7, 87.6, 93.8, 93.1, 90.6, 91.8, 90.3, 92.7, 91.9, 90.1, 87.4, 89.3, 88.9, 84.9, 87.6, 90.4, 92.9, 100.7, 95.0, 95.4]\n",
      "['UM', 17.6283900227, 18.2183900227, 85.2, 85.0, 83.5, 81.4, 81.6, 82.1, 89.6, 84.8, 80.6, 80.6, 80.6, 82.2, 82.0, 80.7, 81.6, 84.6, 86.8, 86.9, 86.7]\n",
      "[\"IT'S UH I GO TO SCHOOL NEAR THERE I GO TO BINGHAMTON UNIVERSITY\", 18.8283900227, 21.5983900227, 86.1, 97.3, 103.1, 98.0, 92.7, 85.8, 85.3, 84.5, 83.9, 83.5, 86.2, 89.7, 87.2, 83.2, 85.9, 87.3, 82.3, 84.3, 82.7, 84.9, 84.6, 89.0, 85.2, 88.2]\n",
      "['AND UM', 22.0483900227, 22.7983900227, 98.2, 92.0, 90.1, 87.9, 86.9, 89.3, 86.9, 91.8, 88.0, 86.6, 85.3, 84.2, 84.1, 83.5, 82.6, 84.7, 84.9, 83.8, 83.0, 84.2, 90.1, 95.5]\n",
      "[\"IT'S JUST LIKE I IT'S NICE IT'S ONLY LIKE AN HOUR FROM WHERE I GO TO SCHOOL\", 23.0983900227, 26.2583900227, 96.4, 97.6, 97.8, 99.6, 110.4, 104.7, 100.0, 89.6, 89.6, 85.9, 86.1, 80.3, 91.6, 97.8, 85.8, 83.4, 85.3, 89.3, 93.7, 102.8]\n",
      "['OKAY', 36.0150340136, 36.36883891545281, 86.9, 98.1, 97.5, 96.9, 96.9, 102.0, 91.5, 90.0]\n",
      "['HA # #', 37.579754069754166, 38.45533066018277, 114.0, 117.7, 103.0, 99.9, 97.8, 93.7, 88.4, 126.0, 106.5, 110.2, 96.5, 120.0, 100.5]\n",
      "['YEAH', 41.16094120538104, 41.50012853320474, 101.2, 98.8, 102.4, 98.6, 107.2, 101.2, 95.8]\n",
      "[\"# W- WHAT'S HIS MAJOR\", 41.973707483, 43.013707483, 97.5, 103.9, 102.5, 116.7, 102.6, 96.2, 91.5, 95.0, 91.4, 90.1, 93.1, 94.3, 90.4, 91.9, 95.6, 96.9, 100.4]\n",
      "['OKAY', 44.333707483, 44.748237882128706, 99.0, 98.1, 96.1, 94.5, 93.5, 92.1, 80.5, 86.2, 89.1, 88.8, 90.3, 90.5, 91.8, 93.2, 87.4]\n",
      "['OKAY YEAH', 47.5649546485, 48.1149546485, 125.5, 128.8, 132.5, 81.7, 83.8, 82.3, 85.5, 85.0, 82.6, 93.8, 94.9, 90.5, 80.2, 80.6, 92.8, 88.5]\n",
      "['THAT MAKES SENSE', 48.1149546485, 48.6849546485, 88.2, 83.6, 82.3, 85.2, 87.0, 94.7, 96.2, 94.4, 100.9, 102.1]\n",
      "['UM YEAH I DO LIKE IT THERE UM', 53.0399319728, 54.9999319728, 104.6, 105.3, 108.0, 107.1, 102.6, 146.2, 161.9, 128.7, 102.1, 106.2, 109.4, 103.6, 89.1, 88.8, 84.2, 86.9, 86.2, 85.2, 84.5, 96.4, 98.0, 84.5, 85.9, 86.4, 86.2, 86.7, 85.4, 86.4]\n",
      "[\"I'M A\", 55.0899319728, 55.8399319728, 88.6, 87.3, 88.1, 86.0, 89.5, 90.4, 90.6, 90.7, 89.3, 88.0, 87.7, 87.5, 86.7, 85.1, 85.2, 83.7, 82.9, 83.4, 83.8, 83.6, 83.9, 86.3]\n",
      "[\"I'M\", 56.2799319728, 56.7199319728, 87.7, 89.2, 85.5, 86.9, 86.3, 86.8, 86.9, 84.2, 82.5]\n"
     ]
    }
   ],
   "source": [
    "## Extended for long lists of data (2/16/2016)\n",
    "##Takes as input praat f0 extraction file, returns a list of lists [ipu, x...n of F0 values]\n",
    "## takes as input data that's been extracted from 1 praat tier\n",
    "## NOTE:  For a tier other than IPUs, must modify the PRAAT SCRIPT.\n",
    "\n",
    "ipu_out = []\n",
    "intermediate = []\n",
    "for data in all_data:\n",
    "    for element in data:\n",
    "        ipu = element.split('\\t')\n",
    "        if ipu[0]==\"silent\" or ipu[0]==\"#\":\n",
    "            pass\n",
    "        else:\n",
    "            txt = ipu[0]\n",
    "            f0s = ipu[1:]\n",
    "            f0_list = [txt]\n",
    "            for i in range(len(f0s)):\n",
    "                try:\n",
    "                    f0 = float(f0s[i])\n",
    "                    f0_list.append(f0)\n",
    "                except ValueError:\n",
    "                    pass\n",
    "            intermediate.append(f0_list)\n",
    "        f0_list = []\n",
    "    ipu_out.append(intermediate)\n",
    "    intermediate = []\n",
    "\n",
    "\n",
    "print len(ipu_out)\n",
    "for j in range(len(ipu_out)):\n",
    "    for i in range(20):\n",
    "        print ipu_out[j][i]\n"
   ]
  },
  {
   "cell_type": "code",
   "execution_count": 44,
   "metadata": {
    "collapsed": false
   },
   "outputs": [],
   "source": [
    "## some shit code about logs and list comprehensions \n",
    "#import math\n",
    "#logs = ipu_out[:]\n",
    "#for item in logs:\n",
    "#    f0s = item[1:]\n",
    "#    loggys = [math.log(item)for item in f0s]"
   ]
  },
  {
   "cell_type": "code",
   "execution_count": 6,
   "metadata": {
    "collapsed": false
   },
   "outputs": [
    {
     "name": "stdout",
     "output_type": "stream",
     "text": [
      "432\n",
      "513\n"
     ]
    }
   ],
   "source": [
    "###NOTES ABOUT THIS FUNCTION: \n",
    "## Extended for large data lists (2/16/2016)\n",
    "## log normalizes each F0 point in the IPU, then calculates min, max, and std of the normalized F0s\n",
    "## also calculates mean and the z-normalized mean of the logF0 points per IPU\n",
    "## currently (2/15/2016) returns a list of (ipuString, [seconds, minF0, maxF0, std, meanF0, znorm_meanF0, whisper])\n",
    "## Goal is to output format that's good for sklearn\n",
    "## NOTE:  For whispered ipus, all values are \"NaN\"\n",
    "## NOTE: For one F0 point ipus, min, max, and mean F0 features are log of the F0 point, std&znorm are NaN, whisper = 0\n",
    "\n",
    "\n",
    "## QUESTIONS FOR ANDREW (2/3/2016):\n",
    "### z-normalized is returning between 1 and -1, is that okay?\n",
    "## Is the normalization I'm doing okay\n",
    "## can I z-score normalize already log normalized f0 means?\n",
    "## QUESTIONS 2/15/2016\n",
    "## is my zscore normalization correct?\n",
    "## handling whisperes and f0 points okay?\n",
    "\n",
    "\n",
    "import scipy\n",
    "import math\n",
    "from scipy import stats\n",
    "logs_long = ipu_out[:] #make a copy cause I'm fucking with the list\n",
    "\n",
    "feature_set = []\n",
    "intermediate = []\n",
    "\n",
    "\n",
    "for logs in logs_long: \n",
    "    for item in logs:\n",
    "    ## assign text, calculate length    \n",
    "        txt = item[0]\n",
    "        start_time = item[1]\n",
    "        end_time = item[2]\n",
    "        time = end_time-start_time\n",
    "\n",
    "        f0s = item[3:]\n",
    "        if bool(f0s) == False:\n",
    "        ### for whispered ipus (with no F0)\n",
    "            minF0 = \"NaN\"\n",
    "            maxF0 = \"NaN\"\n",
    "            std = \"NaN\"\n",
    "            meanF0 = \"NaN\"\n",
    "            znorm_mean = \"NaN\"\n",
    "            whisper = 1\n",
    "\n",
    "        elif len(f0s) ==1:\n",
    "        ### for ipus with only one F0 point\n",
    "            oneVal = math.log(f0s[0])\n",
    "            minF0 = oneVal\n",
    "            maxF0 = oneVal\n",
    "            std = \"NaN\"\n",
    "            meanF0 = oneVal\n",
    "            znorm_mean = \"NaN\"\n",
    "            whipser = 0\n",
    "\n",
    "        else:\n",
    "        ### for valid ipus with many F0 points\n",
    "            logF0s = [math.log(item) for item in f0s]\n",
    "            minF0 = min(logF0s)\n",
    "            maxF0 = max(logF0s)\n",
    "            meanF0 = sum(logF0s)/len(logF0s)\n",
    "            std = scipy.stats.tstd(logF0s)\n",
    "            for point in logF0s:\n",
    "                znorm_mean = (point-meanF0)/std\n",
    "            whisper = 0\n",
    "        #print \"min:%f, max:%f, std:%f, mean:%f, znormMean:%f\" %(minF0, maxF0, std, meanF0, znorm_mean)\n",
    "\n",
    "        features = [time, minF0, maxF0, std, meanF0, znorm_mean, whisper]\n",
    "        set_tup = (txt, features)\n",
    "        intermediate.append(set_tup)\n",
    "    feature_set.append(intermediate)\n",
    "    intermediate = []\n",
    "\n",
    "for i in range(len(feature_set)):\n",
    "    print len(feature_set[i])"
   ]
  },
  {
   "cell_type": "markdown",
   "metadata": {
    "collapsed": false
   },
   "source": [
    "##### testing syllable code stuff  - DO NOT RUN####\n",
    "import pronouncing\n",
    "text = \"this is a sentence\"\n",
    "phones = [pronouncing.phones_for_word(p)[0] for p in text.split()]\n",
    "print phones\n",
    "syl = sum([pronouncing.syllable_count(p) for p in phones])\n",
    "print syl\n",
    "\n",
    "pronouncing.phones_for_word(\"and\")"
   ]
  },
  {
   "cell_type": "code",
   "execution_count": 7,
   "metadata": {
    "collapsed": false
   },
   "outputs": [
    {
     "name": "stdout",
     "output_type": "stream",
     "text": [
      "2\n",
      "432\n",
      "513\n"
     ]
    }
   ],
   "source": [
    "####Calculates syllables for each IPU\n",
    "## NOTE: Assumes words not in the dictionary are all monosyllabic (assumption based on um, mm, and false starts)\n",
    "### But this is definitely not accurate, there will be names that are wrong too.\n",
    "## Extended for large data (2/16/2016)\n",
    "\n",
    "import pronouncing\n",
    "syl_list = []\n",
    "intermediate = []\n",
    "\n",
    "def getWeirdSyllables(text):\n",
    "    \"\"\"Gets syllables count for IPUs that contain OOVs.  NOTE:  OOVs always return monosyllabic\"\"\"\n",
    "    syl_sum = 0\n",
    "    checkit = text.split()\n",
    "    for word in checkit:\n",
    "        valid = pronouncing.phones_for_word(word)\n",
    "        #print valid\n",
    "        if valid:\n",
    "            syl = sum([pronouncing.syllable_count(p)for p in valid[0]])\n",
    "        else:\n",
    "            syl = 1\n",
    "        syl_sum = syl_sum+syl\n",
    "    return syl_sum\n",
    "\n",
    "    \n",
    "\n",
    "for features in feature_set:    \n",
    "    for item in features:\n",
    "        text = item[0]\n",
    "        text = text.lower()\n",
    "        try:\n",
    "            phones = [pronouncing.phones_for_word(p)[0] for p in text.split()]\n",
    "            syl = sum([pronouncing.syllable_count(p) for p in phones])\n",
    "        except IndexError:\n",
    "            syl = getWeirdSyllables(text)\n",
    "        intermediate.append(syl)\n",
    "    syl_list.append(intermediate)\n",
    "    intermediate = []\n",
    "\n",
    "\n",
    "\n",
    "print len(syl_list)\n",
    "for i in range(len(syl_list)):\n",
    "    print len(syl_list[i])\n",
    "\n",
    "    \n",
    "\n"
   ]
  },
  {
   "cell_type": "code",
   "execution_count": 9,
   "metadata": {
    "collapsed": false,
    "scrolled": true
   },
   "outputs": [
    {
     "name": "stdout",
     "output_type": "stream",
     "text": [
      "('OH', [7.692307692307751, 4.8064770426931265, 4.847331743138063, 0.016970423440826141, 4.828405873950154, 0.27673912205665518, 0])\n",
      "('STOP', [3.1249999999999973, 4.725616339063959, 4.83150862819882, 0.038696063092143122, 4.749481908829592, 2.1197691138218886, 0])\n",
      "('OH I HAVE A QUESTION', [6.8965517241379235, 5.024538199265247, 5.244389024522481, 0.072447648401045478, 5.166574413312438, -0.71195000845873457, 0])\n",
      "('WHAT IS A CONFIDENCE', [4.511278195488727, 4.742320024135325, 5.192401140956488, 0.14482053019350744, 4.970315558675897, 0.55808163816066525, 0])\n",
      "('A NUMBER SO', [4.123711340206175, 4.695010889987881, 4.997212273764115, 0.09291178368111809, 4.837453889217608, 0.7299492759022822, 0])\n",
      "('YEAH', [4.347826086956581, 4.623010104116422, 4.894101477840304, 0.084923946652542492, 4.724998253549774, 0.64722878502531378, 0])\n",
      "('OH SO', [4.545454545454569, 4.721173861744398, 5.002603122398992, 0.088934762562913314, 4.849922869918544, -0.020312701895217805, 0])\n",
      "(\"IT'S\", [2.777777777777782, 4.855150391255861, 4.933754249760298, 0.031141753681660146, 4.906230834245047, -1.6402558286005746, 0])\n",
      "(\"IT'S A NUMBER FOR\", [5.617977528089929, 4.690430029938915, 4.960744524482791, 0.083452130359139495, 4.800085007987002, -1.3139865642276991, 0])\n",
      "('HOW MUCH I', [3.488372093023258, 4.6434288981051814, 4.869839484130799, 0.079284385768537177, 4.773872234210861, -1.2156414621728926, 0])\n",
      "('I WAS BORN IN CORNING NEW YORK', [5.479452054794524, 4.400603020246817, 4.676560182074764, 0.075303831236449875, 4.564751994319804, -2.1798223460579043, 0])\n",
      "(\"CORNING NEW YORK IS A IT'S THAT\", [6.076263304539133, 4.410371107683024, 4.846546505563361, 0.13679535284587119, 4.638935601376105, 0.96930282402654722, 0])\n",
      "('YOU', [16.66666666666653, 'NaN', 'NaN', 'NaN', 'NaN', 'NaN', 1])\n",
      "(\"MIGHT HAVE HEARD OF IT IT'S THAT\", [7.777777777777775, 4.51085950651685, 4.803201036487226, 0.091224047682320494, 4.686485802338647, -1.9252192846495946, 0])\n",
      "('UH', [2.777777777777782, 4.44500143383527, 4.591071261608589, 0.038398446720044103, 4.505324166788748, -1.5709680496526186, 0])\n",
      "('IT THAT PLACE UH OUT IN WESTERN NEW YORK WITH LIKE THE BIG GLASS FACTORY', [6.498194945848372, 4.441474093317302, 4.617098756853365, 0.045188789502242345, 4.524335345386572, 0.74671690566075177, 0])\n",
      "('UM', [1.6949152542372885, 4.389498649512583, 4.4953553199808844, 0.031702402194209806, 4.424367572412868, 1.2013698880075474, 0])\n",
      "(\"IT'S UH I GO TO SCHOOL NEAR THERE I GO TO BINGHAMTON UNIVERSITY\", [6.859205776173286, 4.410371107683024, 4.635699391022914, 0.057469473741174677, 4.470438066754915, 0.15954376577597401, 0])\n",
      "('AND UM', [2.6666666666666665, 4.414009680526933, 4.58700621536042, 0.046497756834085698, 4.46986446093322, 1.9197009195942603, 0])\n",
      "(\"IT'S JUST LIKE I IT'S NICE IT'S ONLY LIKE AN HOUR FROM WHERE I GO TO SCHOOL\", [6.012658227848101, 4.385769620952716, 4.704110133842995, 0.084756088846964228, 4.533305301246891, 1.1737215948437105, 0])\n"
     ]
    }
   ],
   "source": [
    "## replaces time with seconds per syllable\n",
    "## feature_set is now done for a baseline, for many files (2/16/2016)\n",
    "\n",
    "num_datapoint = len(feature_set)\n",
    "\n",
    "for num in range(num_datapoint):\n",
    "    for i in range(len(feature_set[num])):\n",
    "        length = feature_set[num][i][1][0]\n",
    "        ##feature set [each featurelist][each ipu][list of features][seconds]\n",
    "        syl_num = syl_list[num][i] #get the # of syllables\n",
    "\n",
    "        syl_per_sec = syl_num / length\n",
    "        feature_set[num][i][1][0]= syl_per_sec #replace with syllables per second\n",
    "\n",
    "\n",
    "## Build in quick check\n",
    "for num in range(num_datapoint):\n",
    "    for i in range(10):\n",
    "        print feature_set[num][i]\n",
    "\n"
   ]
  },
  {
   "cell_type": "code",
   "execution_count": 13,
   "metadata": {
    "collapsed": false
   },
   "outputs": [
    {
     "name": "stdout",
     "output_type": "stream",
     "text": [
      "2\n",
      "2\n"
     ]
    }
   ],
   "source": [
    "print len(feature_set)\n",
    "print len(labels)"
   ]
  }
 ],
 "metadata": {
  "kernelspec": {
   "display_name": "Python 2",
   "language": "python",
   "name": "python2"
  },
  "language_info": {
   "codemirror_mode": {
    "name": "ipython",
    "version": 2
   },
   "file_extension": ".py",
   "mimetype": "text/x-python",
   "name": "python",
   "nbconvert_exporter": "python",
   "pygments_lexer": "ipython2",
   "version": "2.7.7"
  }
 },
 "nbformat": 4,
 "nbformat_minor": 0
}
